{
 "cells": [
  {
   "cell_type": "code",
   "execution_count": 213,
   "id": "f75ba3fe",
   "metadata": {},
   "outputs": [
    {
     "name": "stdout",
     "output_type": "stream",
     "text": [
      "3.1.2\n"
     ]
    }
   ],
   "source": [
    "import pyspark\n",
    "print(pyspark.__version__)"
   ]
  },
  {
   "cell_type": "code",
   "execution_count": 214,
   "id": "4e45f105",
   "metadata": {},
   "outputs": [],
   "source": [
    "from pyspark.sql import SparkSession\n",
    "from pyspark import SparkContext"
   ]
  },
  {
   "cell_type": "code",
   "execution_count": 215,
   "id": "ff6cc720",
   "metadata": {},
   "outputs": [],
   "source": [
    "spark=SparkSession.builder.appName('Coursework').getOrCreate()"
   ]
  },
  {
   "cell_type": "code",
   "execution_count": 216,
   "id": "becef808",
   "metadata": {},
   "outputs": [],
   "source": [
    "import py4j"
   ]
  },
  {
   "cell_type": "code",
   "execution_count": 217,
   "id": "190eed39",
   "metadata": {},
   "outputs": [
    {
     "data": {
      "text/plain": [
       "<module 'py4j' from 'C:\\\\Users\\\\pavan\\\\anaconda3\\\\lib\\\\site-packages\\\\py4j\\\\__init__.py'>"
      ]
     },
     "execution_count": 217,
     "metadata": {},
     "output_type": "execute_result"
    }
   ],
   "source": [
    "py4j"
   ]
  },
  {
   "cell_type": "code",
   "execution_count": 218,
   "id": "0a72218d",
   "metadata": {},
   "outputs": [
    {
     "data": {
      "text/plain": [
       "'C:\\\\Users\\\\pavan\\\\OneDrive\\\\Desktop\\\\sparkhad\\\\spark-3.2.1-bin-hadoop3.2'"
      ]
     },
     "execution_count": 218,
     "metadata": {},
     "output_type": "execute_result"
    }
   ],
   "source": [
    "import findspark\n",
    "findspark.init()\n",
    "findspark.find()"
   ]
  },
  {
   "cell_type": "code",
   "execution_count": 219,
   "id": "2b91c1ba",
   "metadata": {
    "scrolled": true
   },
   "outputs": [
    {
     "data": {
      "text/html": [
       "\n",
       "            <div>\n",
       "                <p><b>SparkSession - in-memory</b></p>\n",
       "                \n",
       "        <div>\n",
       "            <p><b>SparkContext</b></p>\n",
       "\n",
       "            <p><a href=\"http://100.84.177.48:4040\">Spark UI</a></p>\n",
       "\n",
       "            <dl>\n",
       "              <dt>Version</dt>\n",
       "                <dd><code>v3.2.1</code></dd>\n",
       "              <dt>Master</dt>\n",
       "                <dd><code>local[*]</code></dd>\n",
       "              <dt>AppName</dt>\n",
       "                <dd><code>Coursework</code></dd>\n",
       "            </dl>\n",
       "        </div>\n",
       "        \n",
       "            </div>\n",
       "        "
      ],
      "text/plain": [
       "<pyspark.sql.session.SparkSession at 0x1e000b3a490>"
      ]
     },
     "execution_count": 219,
     "metadata": {},
     "output_type": "execute_result"
    }
   ],
   "source": [
    "spark"
   ]
  },
  {
   "cell_type": "code",
   "execution_count": 989,
   "id": "bebcba16",
   "metadata": {},
   "outputs": [],
   "source": [
    "df=spark.read.csv(\"train.csv\",header=True,inferSchema=True)"
   ]
  },
  {
   "cell_type": "code",
   "execution_count": 990,
   "id": "2f5a85db",
   "metadata": {},
   "outputs": [
    {
     "name": "stdout",
     "output_type": "stream",
     "text": [
      "-RECORD 0---------------\n",
      " ID        | 13829      \n",
      " age       | 29         \n",
      " job       | technician \n",
      " marital   | single     \n",
      " education | tertiary   \n",
      " default   | no         \n",
      " balance   | 18254      \n",
      " housing   | no         \n",
      " loan      | no         \n",
      " contact   | cellular   \n",
      " day       | 11         \n",
      " month     | may        \n",
      " campaign  | 2          \n",
      " pdays     | -1         \n",
      " previous  | 0          \n",
      " poutcome  | unknown    \n",
      " y         | no         \n",
      "only showing top 1 row\n",
      "\n"
     ]
    }
   ],
   "source": [
    "df.show(1,vertical=True)"
   ]
  },
  {
   "cell_type": "code",
   "execution_count": 991,
   "id": "c79bbbe5",
   "metadata": {},
   "outputs": [
    {
     "data": {
      "text/plain": [
       "['ID',\n",
       " 'age',\n",
       " 'job',\n",
       " 'marital',\n",
       " 'education',\n",
       " 'default',\n",
       " 'balance',\n",
       " 'housing',\n",
       " 'loan',\n",
       " 'contact',\n",
       " 'day',\n",
       " 'month',\n",
       " 'campaign',\n",
       " 'pdays',\n",
       " 'previous',\n",
       " 'poutcome',\n",
       " 'y']"
      ]
     },
     "execution_count": 991,
     "metadata": {},
     "output_type": "execute_result"
    }
   ],
   "source": [
    "df.columns"
   ]
  },
  {
   "cell_type": "code",
   "execution_count": 992,
   "id": "c2166783",
   "metadata": {},
   "outputs": [
    {
     "data": {
      "text/plain": [
       "pyspark.sql.dataframe.DataFrame"
      ]
     },
     "execution_count": 992,
     "metadata": {},
     "output_type": "execute_result"
    }
   ],
   "source": [
    "type(df)"
   ]
  },
  {
   "cell_type": "code",
   "execution_count": 993,
   "id": "23332532",
   "metadata": {
    "scrolled": false
   },
   "outputs": [
    {
     "name": "stdout",
     "output_type": "stream",
     "text": [
      "root\n",
      " |-- ID: integer (nullable = true)\n",
      " |-- age: integer (nullable = true)\n",
      " |-- job: string (nullable = true)\n",
      " |-- marital: string (nullable = true)\n",
      " |-- education: string (nullable = true)\n",
      " |-- default: string (nullable = true)\n",
      " |-- balance: integer (nullable = true)\n",
      " |-- housing: string (nullable = true)\n",
      " |-- loan: string (nullable = true)\n",
      " |-- contact: string (nullable = true)\n",
      " |-- day: integer (nullable = true)\n",
      " |-- month: string (nullable = true)\n",
      " |-- campaign: integer (nullable = true)\n",
      " |-- pdays: integer (nullable = true)\n",
      " |-- previous: integer (nullable = true)\n",
      " |-- poutcome: string (nullable = true)\n",
      " |-- y: string (nullable = true)\n",
      "\n"
     ]
    }
   ],
   "source": [
    "df.printSchema()"
   ]
  },
  {
   "cell_type": "code",
   "execution_count": 994,
   "id": "c8a2f46a",
   "metadata": {},
   "outputs": [
    {
     "data": {
      "text/plain": [
       "(12870, 17)"
      ]
     },
     "execution_count": 994,
     "metadata": {},
     "output_type": "execute_result"
    }
   ],
   "source": [
    "df.count(),len(df.columns)"
   ]
  },
  {
   "cell_type": "code",
   "execution_count": 995,
   "id": "bf0cabd4",
   "metadata": {},
   "outputs": [],
   "source": [
    "df=df.withColumnRenamed('housing','house_loan') \\\n",
    ".withColumnRenamed('loan','personal_loan') \\\n",
    ".withColumnRenamed('default','credit_default')"
   ]
  },
  {
   "cell_type": "markdown",
   "id": "af884706",
   "metadata": {},
   "source": [
    "https://stackoverflow.com/questions/44066635/selecting-only-numeric-string-columns-names-from-a-spark-df-in-pyspark"
   ]
  },
  {
   "cell_type": "markdown",
   "id": "3ef7adbb",
   "metadata": {},
   "source": [
    "https://www.geeksforgeeks.org/pyspark-select-columns-by-type/"
   ]
  },
  {
   "cell_type": "code",
   "execution_count": 996,
   "id": "4e553d87",
   "metadata": {},
   "outputs": [],
   "source": [
    "cat_cols = [x[0] for x in df.dtypes if x[1].startswith('string')]\n",
    "num_cols=[x[0] for x in df.dtypes if x[1].startswith('int')]"
   ]
  },
  {
   "cell_type": "code",
   "execution_count": 997,
   "id": "7005d81a",
   "metadata": {},
   "outputs": [],
   "source": [
    "num_cols.remove('ID')"
   ]
  },
  {
   "cell_type": "code",
   "execution_count": 998,
   "id": "fe17317b",
   "metadata": {
    "scrolled": true
   },
   "outputs": [
    {
     "name": "stdout",
     "output_type": "stream",
     "text": [
      "+-------+-----------------+------------------+-----------------+------------------+------------------+-----------------+\n",
      "|summary|              age|           balance|              day|          campaign|             pdays|         previous|\n",
      "+-------+-----------------+------------------+-----------------+------------------+------------------+-----------------+\n",
      "|  count|            12870|             12870|            12870|             12870|             12870|            12870|\n",
      "|   mean|41.09114219114219|1483.7744366744366|15.64110334110334| 2.659129759129759|45.555477855477854|0.688966588966589|\n",
      "| stddev|11.30556005264463|3311.0551806357926|8.368983400380476|2.8635072567413555|104.44941134989585|2.049695990293478|\n",
      "|    min|               18|             -6847|                1|                 1|                -1|                0|\n",
      "|    max|               95|            102127|               31|                43|               854|               58|\n",
      "+-------+-----------------+------------------+-----------------+------------------+------------------+-----------------+\n",
      "\n"
     ]
    }
   ],
   "source": [
    "df.select(num_cols).describe().show()"
   ]
  },
  {
   "cell_type": "code",
   "execution_count": 999,
   "id": "c8378cee",
   "metadata": {
    "scrolled": false
   },
   "outputs": [
    {
     "name": "stdout",
     "output_type": "stream",
     "text": [
      "+-----+--------+-----+\n",
      "|pdays|poutcome|count|\n",
      "+-----+--------+-----+\n",
      "|   -1| unknown|10067|\n",
      "+-----+--------+-----+\n",
      "\n"
     ]
    }
   ],
   "source": [
    "df.filter(\"pdays==-1\").groupBy('pdays','poutcome').count().show()"
   ]
  },
  {
   "cell_type": "code",
   "execution_count": 1000,
   "id": "66908cd3",
   "metadata": {
    "scrolled": true
   },
   "outputs": [
    {
     "name": "stdout",
     "output_type": "stream",
     "text": [
      "+-----+--------+-----+\n",
      "|pdays|previous|count|\n",
      "+-----+--------+-----+\n",
      "|   -1|       0|10067|\n",
      "+-----+--------+-----+\n",
      "\n"
     ]
    }
   ],
   "source": [
    "df.filter(\"pdays==-1\").groupBy('pdays','previous').count().show()"
   ]
  },
  {
   "cell_type": "code",
   "execution_count": 1126,
   "id": "853d88b5",
   "metadata": {},
   "outputs": [
    {
     "name": "stdout",
     "output_type": "stream",
     "text": [
      "-RECORD 0---------------------\n",
      " ID             | 22588       \n",
      " age            | 58          \n",
      " job            | blue-collar \n",
      " marital        | married     \n",
      " education      | secondary   \n",
      " credit_default | no          \n",
      " balance        | 238         \n",
      " house_loan     | no          \n",
      " personal_loan  | no          \n",
      " contact        | cellular    \n",
      " day            | 15          \n",
      " month          | may         \n",
      " campaign       | 8           \n",
      " pdays          | -1          \n",
      " previous       | 0           \n",
      " poutcome       | unknown     \n",
      " y              | no          \n",
      " ifloan         | no          \n",
      "-RECORD 1---------------------\n",
      " ID             | 19762       \n",
      " age            | 33          \n",
      " job            | management  \n",
      " marital        | single      \n",
      " education      | tertiary    \n",
      " credit_default | no          \n",
      " balance        | 215         \n",
      " house_loan     | yes         \n",
      " personal_loan  | no          \n",
      " contact        | cellular    \n",
      " day            | 27          \n",
      " month          | mar         \n",
      " campaign       | 1           \n",
      " pdays          | -1          \n",
      " previous       | 0           \n",
      " poutcome       | unknown     \n",
      " y              | no          \n",
      " ifloan         | yes         \n",
      "only showing top 2 rows\n",
      "\n"
     ]
    }
   ],
   "source": [
    "df.show(2,vertical=True)"
   ]
  },
  {
   "cell_type": "code",
   "execution_count": 1001,
   "id": "9246b6aa",
   "metadata": {},
   "outputs": [
    {
     "name": "stdout",
     "output_type": "stream",
     "text": [
      "+-----+---+----------+-------+---------+--------------+-------+----------+-------------+--------+---+-----+--------+-----+--------+--------+---+--------+\n",
      "|   ID|age|       job|marital|education|credit_default|balance|house_loan|personal_loan| contact|day|month|campaign|pdays|previous|poutcome|  y|age_bins|\n",
      "+-----+---+----------+-------+---------+--------------+-------+----------+-------------+--------+---+-----+--------+-----+--------+--------+---+--------+\n",
      "|13829| 29|technician| single| tertiary|            no|  18254|        no|           no|cellular| 11|  may|       2|   -1|       0| unknown| no|     0.0|\n",
      "|22677| 26|  services| single|secondary|            no|    512|       yes|          yes| unknown|  5|  jun|       3|   -1|       0| unknown| no|     0.0|\n",
      "+-----+---+----------+-------+---------+--------------+-------+----------+-------------+--------+---+-----+--------+-----+--------+--------+---+--------+\n",
      "only showing top 2 rows\n",
      "\n"
     ]
    }
   ],
   "source": [
    "from pyspark.ml.feature import Bucketizer\n",
    "bucketizer = Bucketizer(splits=[ 15,30, 45, 60,75, float('Inf') ],inputCol=\"age\", outputCol=\"age_bins\")\n",
    "df_bins = bucketizer.setHandleInvalid(\"keep\").transform(df)\n",
    "\n",
    "df_bins.show(2)"
   ]
  },
  {
   "cell_type": "code",
   "execution_count": 1002,
   "id": "443e417a",
   "metadata": {
    "scrolled": true
   },
   "outputs": [
    {
     "name": "stdout",
     "output_type": "stream",
     "text": [
      "+--------+---+-----+\n",
      "|age_bins|  y|count|\n",
      "+--------+---+-----+\n",
      "|     0.0|yes|  684|\n",
      "|     3.0|yes|  361|\n",
      "|     2.0|yes|  972|\n",
      "|     3.0| no|  212|\n",
      "|     4.0|yes|   98|\n",
      "|     4.0| no|   45|\n",
      "|     2.0| no| 2798|\n",
      "|     0.0| no|  972|\n",
      "|     1.0| no| 4876|\n",
      "|     1.0|yes| 1852|\n",
      "+--------+---+-----+\n",
      "\n"
     ]
    }
   ],
   "source": [
    "df_bins.groupBy('age_bins','y').count().show()"
   ]
  },
  {
   "cell_type": "code",
   "execution_count": 1003,
   "id": "1f763b82",
   "metadata": {},
   "outputs": [],
   "source": [
    "#for values pdays=-1, all previous values are 0, all are unknown.---no error\n",
    "# can create new variable as new_customers- for this campaign\n",
    "#if previous contact is high then they might be long connected customers"
   ]
  },
  {
   "cell_type": "code",
   "execution_count": 1004,
   "id": "4f1ba71a",
   "metadata": {},
   "outputs": [],
   "source": [
    "#age can also be converted to bins.\n",
    "#day feature is not that useful\n",
    "# pdays=-1 represents--> client was not previously contacted\n",
    "#if pdays=-1 then previous value=0, probably poutcome-unknown\n",
    "#days are from 1 to 31.\n",
    "#credit_default, house_loan, personal_loan are boolean values.\n",
    "#can also combine house loan and personal loan.- or operation"
   ]
  },
  {
   "cell_type": "code",
   "execution_count": 1005,
   "id": "561a393d",
   "metadata": {
    "scrolled": true
   },
   "outputs": [
    {
     "name": "stdout",
     "output_type": "stream",
     "text": [
      "+-------+-------+--------+---------+--------------+----------+-------------+--------+-----+--------+-----+\n",
      "|summary|    job| marital|education|credit_default|house_loan|personal_loan| contact|month|poutcome|    y|\n",
      "+-------+-------+--------+---------+--------------+----------+-------------+--------+-----+--------+-----+\n",
      "|  count|  12870|   12870|    12870|         12870|     12870|        12870|   12870|12870|   12870|12870|\n",
      "|   mean|   null|    null|     null|          null|      null|         null|    null| null|    null| null|\n",
      "| stddev|   null|    null|     null|          null|      null|         null|    null| null|    null| null|\n",
      "|    min| admin.|divorced|  primary|            no|        no|           no|cellular|  apr| failure|   no|\n",
      "|    max|unknown|  single|  unknown|           yes|       yes|          yes| unknown|  sep| unknown|  yes|\n",
      "+-------+-------+--------+---------+--------------+----------+-------------+--------+-----+--------+-----+\n",
      "\n"
     ]
    }
   ],
   "source": [
    "df.select(cat_cols).describe().show()"
   ]
  },
  {
   "cell_type": "markdown",
   "id": "09cdcdc0",
   "metadata": {},
   "source": [
    "https://sparkbyexamples.com/pyspark/pyspark-find-count-of-null-none-nan-values/"
   ]
  },
  {
   "cell_type": "code",
   "execution_count": 1006,
   "id": "982119a7",
   "metadata": {
    "scrolled": true
   },
   "outputs": [
    {
     "name": "stdout",
     "output_type": "stream",
     "text": [
      "[Row(job='management'), Row(job='retired'), Row(job='unknown'), Row(job='self-employed'), Row(job='student'), Row(job='blue-collar'), Row(job='entrepreneur'), Row(job='admin.'), Row(job='technician'), Row(job='services'), Row(job='housemaid'), Row(job='unemployed')]\n",
      "[Row(marital='divorced'), Row(marital='married'), Row(marital='single')]\n",
      "[Row(education='unknown'), Row(education='tertiary'), Row(education='secondary'), Row(education='primary')]\n",
      "[Row(credit_default='no'), Row(credit_default='yes')]\n",
      "[Row(house_loan='no'), Row(house_loan='yes')]\n",
      "[Row(personal_loan='no'), Row(personal_loan='yes')]\n",
      "[Row(contact='unknown'), Row(contact='cellular'), Row(contact='telephone')]\n",
      "[Row(month='jun'), Row(month='aug'), Row(month='may'), Row(month='feb'), Row(month='sep'), Row(month='mar'), Row(month='oct'), Row(month='jul'), Row(month='nov'), Row(month='apr'), Row(month='dec'), Row(month='jan')]\n",
      "[Row(poutcome='success'), Row(poutcome='unknown'), Row(poutcome='other'), Row(poutcome='failure')]\n"
     ]
    }
   ],
   "source": [
    "cat_cols.remove('y')\n",
    "for i in cat_cols:\n",
    "    print(df.select(i).distinct().collect())"
   ]
  },
  {
   "cell_type": "code",
   "execution_count": 1007,
   "id": "b784aec0",
   "metadata": {
    "scrolled": true
   },
   "outputs": [
    {
     "name": "stdout",
     "output_type": "stream",
     "text": [
      "+---+---+---+-------+---------+--------------+-------+----------+-------------+-------+---+-----+--------+-----+--------+--------+---+\n",
      "| ID|age|job|marital|education|credit_default|balance|house_loan|personal_loan|contact|day|month|campaign|pdays|previous|poutcome|  y|\n",
      "+---+---+---+-------+---------+--------------+-------+----------+-------------+-------+---+-----+--------+-----+--------+--------+---+\n",
      "|  0|  0|  0|      0|        0|             0|      0|         0|            0|      0|  0|    0|       0|    0|       0|       0|  0|\n",
      "+---+---+---+-------+---------+--------------+-------+----------+-------------+-------+---+-----+--------+-----+--------+--------+---+\n",
      "\n"
     ]
    }
   ],
   "source": [
    "# Find count for empty, None, Null, Nan with string literals.\n",
    "from pyspark.sql.functions import col,isnan,when,count\n",
    "nan_count = df.select([count(when(col(x).contains('None') | \\\n",
    "                            col(x).contains('NULL') | \\\n",
    "                            (col(x) == '' ) | \\\n",
    "                            col(x).isNull() | \\\n",
    "                            isnan(x), x\n",
    "                           )).alias(x)\n",
    "                    for x in df.columns])\n",
    "\n",
    "nan_count.show()"
   ]
  },
  {
   "cell_type": "code",
   "execution_count": 1008,
   "id": "1d33223f",
   "metadata": {
    "scrolled": true
   },
   "outputs": [
    {
     "name": "stdout",
     "output_type": "stream",
     "text": [
      "+---+-----+\n",
      "|  y|count|\n",
      "+---+-----+\n",
      "| no| 8903|\n",
      "|yes| 3967|\n",
      "+---+-----+\n",
      "\n"
     ]
    }
   ],
   "source": [
    "df.select('y').groupBy('y').count().show()"
   ]
  },
  {
   "cell_type": "code",
   "execution_count": 1009,
   "id": "9276e0a9",
   "metadata": {},
   "outputs": [
    {
     "data": {
      "text/plain": [
       "12870"
      ]
     },
     "execution_count": 1009,
     "metadata": {},
     "output_type": "execute_result"
    }
   ],
   "source": [
    "df=df.dropDuplicates()# there are no duplicates\n",
    "df.count()  "
   ]
  },
  {
   "cell_type": "markdown",
   "id": "f416b2e3",
   "metadata": {},
   "source": [
    "https://medium.com/@junwan01/oversampling-and-undersampling-with-pyspark-5dbc25cdf253"
   ]
  },
  {
   "cell_type": "code",
   "execution_count": 1010,
   "id": "ae090543",
   "metadata": {},
   "outputs": [],
   "source": [
    "major_df=df.filter(\"y=='no'\")\n",
    "minor_df=df.filter(\"y=='yes'\")"
   ]
  },
  {
   "cell_type": "code",
   "execution_count": 1011,
   "id": "cc77e45a",
   "metadata": {},
   "outputs": [],
   "source": [
    "ratio=major_df.count()/minor_df.count()\n",
    "usampled_df=major_df.sample(False,1/ratio,seed=20)\n",
    "df=usampled_df.unionAll(minor_df)\n",
    "df.select('y').groupBy('y').count().show()"
   ]
  },
  {
   "cell_type": "code",
   "execution_count": 1012,
   "id": "d5a153c4",
   "metadata": {},
   "outputs": [],
   "source": [
    "#from pyspark.sql.functions import col, explode, array, lit\n",
    "#a = range(int(ratio))\n",
    "# duplicate the minority rows\n",
    "#oversampled_df = minor_df.withColumn(\"dummy\", explode(array([lit(x) for x in a]))).drop('dummy')\n",
    "# combine both oversampled minority rows and previous majority rows \n",
    "#df = major_df.unionAll(oversampled_df)"
   ]
  },
  {
   "cell_type": "code",
   "execution_count": 1013,
   "id": "8c977209",
   "metadata": {},
   "outputs": [
    {
     "data": {
      "text/plain": [
       "12870"
      ]
     },
     "execution_count": 1013,
     "metadata": {},
     "output_type": "execute_result"
    }
   ],
   "source": [
    "df.count()"
   ]
  },
  {
   "cell_type": "code",
   "execution_count": 1014,
   "id": "00c870de",
   "metadata": {},
   "outputs": [],
   "source": [
    "#It is an imbalanced dataset. using undersampling we can balance the dataset orelse the results will be biased.\n",
    "#we can also use stratified k-fold technique for splitting the dataset- equally distributed.\n",
    "#2.we can also try with imbalanced dataset and predict on test data.\n",
    "#feature selection\n",
    "#with standard scaling and without.\n",
    "#categorical values with ordinal or onehot technique or by replacing based on present situation.Ex: education column\n",
    "#different techniques- also combination of technique like ensemble tech\n",
    "#plot values,confusion matrix, accuracy, precision, recall, r1_score comparision.\n",
    "#Perform clustering technique.\n",
    "#feature selection"
   ]
  },
  {
   "cell_type": "code",
   "execution_count": 1015,
   "id": "aedc792c",
   "metadata": {},
   "outputs": [],
   "source": [
    "#If the accuracy is greater than 90% then the campaign might be huge success. So that bank institutions can \n",
    "#easily target thier customers without wasting time.- god point but don't include."
   ]
  },
  {
   "cell_type": "code",
   "execution_count": 1016,
   "id": "d3976582",
   "metadata": {},
   "outputs": [],
   "source": [
    "df2=df.select(num_cols)"
   ]
  },
  {
   "cell_type": "code",
   "execution_count": 1017,
   "id": "df8f6122",
   "metadata": {},
   "outputs": [],
   "source": [
    "from pyspark.ml.stat import Correlation\n",
    "from pyspark.ml.feature import VectorAssembler\n",
    "\n",
    "# convert to vector column first\n",
    "vector_col = \"corr_features\"\n",
    "assembler = VectorAssembler(inputCols=df2.columns, outputCol=vector_col)\n",
    "df_vector = assembler.transform(df2).select(vector_col)"
   ]
  },
  {
   "cell_type": "code",
   "execution_count": 1018,
   "id": "7a336f6d",
   "metadata": {},
   "outputs": [],
   "source": [
    "matrix = Correlation.corr(df_vector, vector_col)\n",
    "cor_np = matrix.collect()[0][matrix.columns[0]].toArray()"
   ]
  },
  {
   "cell_type": "code",
   "execution_count": 1019,
   "id": "c5a97923",
   "metadata": {
    "scrolled": true
   },
   "outputs": [
    {
     "data": {
      "text/plain": [
       "<AxesSubplot:>"
      ]
     },
     "execution_count": 1019,
     "metadata": {},
     "output_type": "execute_result"
    },
    {
     "data": {
      "image/png": "[encoded data removed]",
      "text/plain": [
       "<Figure size 432x288 with 2 Axes>"
      ]
     },
     "metadata": {
      "needs_background": "light"
     },
     "output_type": "display_data"
    }
   ],
   "source": [
    "import seaborn as sns\n",
    "sns.heatmap(cor_np,annot=True,xticklabels=df2.columns, yticklabels=df2.columns)"
   ]
  },
  {
   "cell_type": "code",
   "execution_count": 1020,
   "id": "b3b60157",
   "metadata": {
    "scrolled": true
   },
   "outputs": [],
   "source": [
    "from pyspark.sql.functions import col\n",
    "from pyspark.sql import functions as F\n",
    "#df.agg(F.skewness(\"age\")).show()\n",
    "#df=df.withColumn('age',F.log10(col('age')))\n",
    "#df.agg(F.skewness(\"age\")).show()"
   ]
  },
  {
   "cell_type": "code",
   "execution_count": 1021,
   "id": "365151fc",
   "metadata": {},
   "outputs": [],
   "source": [
    "#df=df.withColumn('previous',F.log(2+col('previous')))\n",
    "#df=df.withColumn('pdays',F.log(2+col('pdays')))\n",
    "#df=df.withColumn('campaign',F.log(2+col('campaign')))"
   ]
  },
  {
   "cell_type": "code",
   "execution_count": 1035,
   "id": "b5dd2027",
   "metadata": {},
   "outputs": [],
   "source": [
    "df=df.withColumn('ifloan',F.when((df.house_loan=='no') &(df.personal_loan=='no'),\"no\").otherwise(\"yes\"))\n",
    "cat_cols.remove('house_loan')\n",
    "cat_cols.remove('personal_loan')\n",
    "cat_cols.append('ifloan')"
   ]
  },
  {
   "cell_type": "code",
   "execution_count": 1036,
   "id": "ca0765bb",
   "metadata": {},
   "outputs": [],
   "source": [
    "from pyspark.ml import Pipeline\n",
    "from pyspark.ml.feature import OneHotEncoder, StringIndexer\n",
    "from pyspark.ml.feature import StandardScaler"
   ]
  },
  {
   "cell_type": "code",
   "execution_count": 1094,
   "id": "ea12cd5a",
   "metadata": {},
   "outputs": [],
   "source": [
    "def feature_transform(df,num_cols,cat_cols,label_col):\n",
    "    #for creating a pipeline\n",
    "    stages=[]\n",
    "    \n",
    "    #converting categorical values to numerical values\n",
    "    #First applying stringindexer to convert categrical values to numerical\n",
    "    pipe_string = [StringIndexer(inputCol= coln, outputCol= coln+\"_encoded\") for coln in cat_cols]\n",
    "    \n",
    "    #then onehot encoding helps to create sepearte column for each category\n",
    "    pipe_one_hot = [OneHotEncoder(inputCol= coln+\"_encoded\", outputCol= coln+ \"_onehot\") for coln in cat_cols]\n",
    "    cat_onehot_colns=[coln.getOutputCol() for coln in pipe_one_hot]\n",
    "    \n",
    "    #output label-y\n",
    "    y_labeled=StringIndexer(inputCol=label_col,outputCol=\"y_labeled\")\n",
    "    allcolumns=num_cols+cat_onehot_colns\n",
    "    final_assembler = VectorAssembler(inputCols=num_cols+cat_onehot_colns, outputCol=\"pred_features\")\n",
    "    \n",
    "    #standard scaling,pred_scale- scaled predictor features\n",
    "    pipe_scaler=StandardScaler(inputCol=final_assembler.getOutputCol(),outputCol=\"pred_scaled\")\n",
    "    \n",
    "    #adding all the stages, helps in storage\n",
    "    stages+=pipe_string+pipe_one_hot+[y_labeled]+[final_assembler]+[pipe_scaler]\n",
    "    pp = Pipeline(stages= stages)\n",
    "    df2 = pp.fit(df).transform(df)\n",
    "    return df2,allcolumns"
   ]
  },
  {
   "cell_type": "code",
   "execution_count": 1095,
   "id": "9271243d",
   "metadata": {},
   "outputs": [],
   "source": [
    "df2,allcolumns=feature_transform(df,num_cols,cat_cols,'y')\n",
    "\n",
    "# useful for converting back to string\n",
    "label_indexer=StringIndexer(inputCol='y').fit(df2)"
   ]
  },
  {
   "cell_type": "code",
   "execution_count": 1096,
   "id": "3f50b7db",
   "metadata": {
    "scrolled": true
   },
   "outputs": [
    {
     "name": "stdout",
     "output_type": "stream",
     "text": [
      "+--------------------+--------------------+---------+---+\n",
      "|       pred_features|         pred_scaled|y_labeled|  y|\n",
      "+--------------------+--------------------+---------+---+\n",
      "|(40,[0,1,2,3,4,7,...|(40,[0,1,2,3,4,7,...|      0.0| no|\n",
      "|(40,[0,1,2,3,4,6,...|(40,[0,1,2,3,4,6,...|      0.0| no|\n",
      "+--------------------+--------------------+---------+---+\n",
      "only showing top 2 rows\n",
      "\n"
     ]
    }
   ],
   "source": [
    "final_df=df2.select(\"pred_features\",\"pred_scaled\",\"y_labeled\",\"y\")\n",
    "final_df.show(2)"
   ]
  },
  {
   "cell_type": "markdown",
   "id": "2574dd0d",
   "metadata": {},
   "source": [
    "Basic Prediction"
   ]
  },
  {
   "cell_type": "markdown",
   "id": "357cfa2a",
   "metadata": {},
   "source": [
    "Transform into vector formation"
   ]
  },
  {
   "cell_type": "code",
   "execution_count": 1027,
   "id": "18ab5018",
   "metadata": {
    "scrolled": true
   },
   "outputs": [
    {
     "name": "stdout",
     "output_type": "stream",
     "text": [
      "+--------------------+--------------------+---------+---+--------------------+\n",
      "|       pred_features|         pred_scaled|y_labeled|  y|    selectedFeatures|\n",
      "+--------------------+--------------------+---------+---+--------------------+\n",
      "|(41,[0,1,2,3,4,7,...|(41,[0,1,2,3,4,7,...|      0.0| no|(35,[0,1,2,3,4,7,...|\n",
      "|(41,[0,1,2,3,4,6,...|(41,[0,1,2,3,4,6,...|      0.0| no|(35,[0,1,2,3,4,6,...|\n",
      "|(41,[0,1,2,3,4,7,...|(41,[0,1,2,3,4,7,...|      0.0| no|(35,[0,1,2,3,4,7,...|\n",
      "|(41,[0,1,2,3,4,10...|(41,[0,1,2,3,4,10...|      0.0| no|(35,[0,1,2,3,4,8,...|\n",
      "|(41,[0,1,2,3,4,10...|(41,[0,1,2,3,4,10...|      0.0| no|(35,[0,1,2,3,4,8,...|\n",
      "|(41,[0,1,2,3,4,8,...|(41,[0,1,2,3,4,8,...|      0.0| no|(35,[0,1,2,3,4,14...|\n",
      "|(41,[0,1,2,3,4,7,...|(41,[0,1,2,3,4,7,...|      0.0| no|(35,[0,1,2,3,4,7,...|\n",
      "|(41,[0,1,2,3,4,8,...|(41,[0,1,2,3,4,8,...|      0.0| no|(35,[0,1,2,3,4,14...|\n",
      "|(41,[0,1,2,3,4,5,...|(41,[0,1,2,3,4,5,...|      1.0|yes|(35,[0,1,2,3,4,5,...|\n",
      "|(41,[0,1,2,3,4,9,...|(41,[0,1,2,3,4,9,...|      0.0| no|(35,[0,1,2,3,4,15...|\n",
      "|(41,[0,1,2,3,4,9,...|(41,[0,1,2,3,4,9,...|      0.0| no|(35,[0,1,2,3,4,13...|\n",
      "|(41,[0,1,2,3,4,8,...|(41,[0,1,2,3,4,8,...|      0.0| no|(35,[0,1,2,3,4,13...|\n",
      "|(41,[0,1,2,3,4,5,...|(41,[0,1,2,3,4,5,...|      1.0|yes|(35,[0,1,2,3,4,5,...|\n",
      "|(41,[0,1,2,3,4,6,...|(41,[0,1,2,3,4,6,...|      1.0|yes|(35,[0,1,2,3,4,6,...|\n",
      "|(41,[0,1,2,3,4,5,...|(41,[0,1,2,3,4,5,...|      1.0|yes|(35,[0,1,2,3,4,5,...|\n",
      "|(41,[0,2,3,4,7,17...|(41,[0,2,3,4,7,17...|      0.0| no|(35,[0,2,3,4,7,13...|\n",
      "|(41,[0,1,2,3,4,6,...|(41,[0,1,2,3,4,6,...|      0.0| no|(35,[0,1,2,3,4,6,...|\n",
      "|(41,[0,1,2,3,4,5,...|(41,[0,1,2,3,4,5,...|      1.0|yes|(35,[0,1,2,3,4,5,...|\n",
      "|(41,[0,1,2,3,4,6,...|(41,[0,1,2,3,4,6,...|      0.0| no|(35,[0,1,2,3,4,6,...|\n",
      "|(41,[0,1,2,3,4,7,...|(41,[0,1,2,3,4,7,...|      1.0|yes|(35,[0,1,2,3,4,7,...|\n",
      "+--------------------+--------------------+---------+---+--------------------+\n",
      "only showing top 20 rows\n",
      "\n"
     ]
    }
   ],
   "source": [
    "#chi-squared test\n",
    "from pyspark.ml.feature import ChiSqSelector\n",
    "selector = ChiSqSelector(numTopFeatures=35, featuresCol=\"pred_scaled\",\n",
    "                         outputCol=\"selectedFeatures\", labelCol=\"y_labeled\")\n",
    "\n",
    "result = selector.fit(final_df).transform(final_df)\n",
    "result.show()\n",
    "final_df=result"
   ]
  },
  {
   "cell_type": "code",
   "execution_count": 1086,
   "id": "5bd30f2b",
   "metadata": {},
   "outputs": [],
   "source": [
    "from pyspark.ml.classification import LogisticRegression\n",
    "from pyspark.ml.evaluation import BinaryClassificationEvaluator\n",
    "from pyspark.mllib.evaluation import BinaryClassificationMetrics \n",
    "from pyspark.ml.evaluation import MulticlassClassificationEvaluator"
   ]
  },
  {
   "cell_type": "code",
   "execution_count": 1087,
   "id": "79135fb9",
   "metadata": {},
   "outputs": [],
   "source": [
    "#Splitting the dataset\n",
    "(training_data, test_data) = final_df.randomSplit([0.8, 0.2],seed=3)"
   ]
  },
  {
   "cell_type": "code",
   "execution_count": 1088,
   "id": "2a8f24dc",
   "metadata": {},
   "outputs": [],
   "source": [
    "def evaluation_metrics(evaluation_,labelcol,predictioncol,modelname):\n",
    "    #Similar to confusion matrix\n",
    "    evaluation_.groupBy(labelcol,predictioncol).count().show()\n",
    "    \n",
    "    #Calculating different metrics\n",
    "    mul=MulticlassClassificationEvaluator(labelCol=labelcol,predictionCol=predictioncol)\n",
    "    print(f\"accuracy of {modelname}= \",mul.evaluate(evaluation_,{mul.metricName:\"accuracy\"}))\n",
    "    print(f\"R1 score of {modelname}= \",mul.evaluate(evaluation_,{mul.metricName:\"f1\"}))\n",
    "    print(f\"weighted Precision of {modelname}= \",mul.evaluate(evaluation_,{mul.metricName:\"weightedPrecision\"}))\n",
    "    print(f\"weighted Recall of {modelname}= \",mul.evaluate(evaluation_,{mul.metricName:\"weightedRecall\"}))"
   ]
  },
  {
   "cell_type": "code",
   "execution_count": 1052,
   "id": "e2d6f295",
   "metadata": {},
   "outputs": [
    {
     "name": "stdout",
     "output_type": "stream",
     "text": [
      "Area under ROC:  0.7318177703487362\n",
      "+---------+----------+-----+\n",
      "|y_labeled|prediction|count|\n",
      "+---------+----------+-----+\n",
      "|      1.0|       1.0| 1041|\n",
      "|      0.0|       1.0|  590|\n",
      "|      1.0|       0.0| 2142|\n",
      "|      0.0|       0.0| 6549|\n",
      "+---------+----------+-----+\n",
      "\n",
      "accuracy of logistic on test data=  0.7353226118969192\n",
      "R1 score of logistic on test data=  0.7056322502241372\n",
      "weighted Precision of logistic on test data=  0.7179893782201567\n",
      "weighted Recall of logistic on test data=  0.7353226118969193\n"
     ]
    }
   ],
   "source": [
    "lr = LogisticRegression(labelCol=\"y_labeled\", featuresCol=\"pred_scaled\")\n",
    "lr_model=lr.fit(training_data)\n",
    "predictions_=lr_model.transform(training_data)\n",
    "\n",
    "#Area under ROC\n",
    "evaluator = BinaryClassificationEvaluator(labelCol='y_labeled')\n",
    "print(\"Area under ROC: \",evaluator.evaluate(predictions_, {evaluator.metricName: \"areaUnderROC\"}))\n",
    "\n",
    "# Function takes 4 parameters- predictions,label column, predicted column, model name\n",
    "evaluation_metrics(predictions_,\"y_labeled\",\"prediction\",'logistic on test data')"
   ]
  },
  {
   "cell_type": "code",
   "execution_count": 1053,
   "id": "817786da",
   "metadata": {},
   "outputs": [
    {
     "data": {
      "image/png": "[encoded data removed]",
      "text/plain": [
       "<Figure size 432x288 with 1 Axes>"
      ]
     },
     "metadata": {
      "needs_background": "light"
     },
     "output_type": "display_data"
    }
   ],
   "source": [
    "import matplotlib.pyplot as plt\n",
    "plt.plot(lr_model.summary.roc.select('FPR').collect(),lr_model.summary.roc.select('TPR').collect())\n",
    "plt.grid()\n",
    "plt.xlabel(\"False Positive  Rate\")\n",
    "plt.ylabel(\"True Positive Rate\");\n",
    "plt.title(\"TPR VS FPR\");"
   ]
  },
  {
   "cell_type": "code",
   "execution_count": 1054,
   "id": "fa5b6552",
   "metadata": {},
   "outputs": [
    {
     "name": "stdout",
     "output_type": "stream",
     "text": [
      "Area under ROC:  0.7639170889444218\n",
      "+---------+----------+-----+\n",
      "|y_labeled|prediction|count|\n",
      "+---------+----------+-----+\n",
      "|      1.0|       1.0|  262|\n",
      "|      0.0|       1.0|   95|\n",
      "|      1.0|       0.0|  522|\n",
      "|      0.0|       0.0| 1669|\n",
      "+---------+----------+-----+\n",
      "\n",
      "accuracy of random forrest on test data=  0.7578492935635793\n",
      "R1 score of random forrest on test data=  0.725610737598359\n",
      "weighted Precision of random forrest on test data=  0.7531806037725977\n",
      "weighted Recall of random forrest on test data=  0.7578492935635792\n"
     ]
    }
   ],
   "source": [
    "from pyspark.ml.classification import RandomForestClassifier\n",
    "rf=RandomForestClassifier(labelCol=\"y_labeled\", featuresCol=\"pred_features\")\n",
    "rf_model=rf.fit(training_data)\n",
    "predictions_=rf_model.transform(test_data)\n",
    "\n",
    "#Area under ROC\n",
    "evaluator = BinaryClassificationEvaluator(labelCol='y_labeled')\n",
    "print(\"Area under ROC: \",evaluator.evaluate(predictions_, {evaluator.metricName: \"areaUnderROC\"}))\n",
    "\n",
    "# Function takes 4 parameters- predictions,label column, predicted column, model name\n",
    "evaluation_metrics(predictions_,\"y_labeled\",\"prediction\",'random forrest on test data')"
   ]
  },
  {
   "cell_type": "code",
   "execution_count": 1089,
   "id": "b69c26a4",
   "metadata": {},
   "outputs": [
    {
     "name": "stdout",
     "output_type": "stream",
     "text": [
      "Area under ROC:  0.7786439879771374\n",
      "+---------+----------+-----+\n",
      "|y_labeled|prediction|count|\n",
      "+---------+----------+-----+\n",
      "|      1.0|       1.0|  346|\n",
      "|      0.0|       1.0|  147|\n",
      "|      1.0|       0.0|  410|\n",
      "|      0.0|       0.0| 1645|\n",
      "+---------+----------+-----+\n",
      "\n",
      "accuracy of Gradient boosting on test data=  0.7813971742543171\n",
      "R1 score of Gradient boosting on test data=  0.7658541313293552\n",
      "weighted Precision of Gradient boosting on test data=  0.7712135561886084\n",
      "weighted Recall of Gradient boosting on test data=  0.7813971742543171\n"
     ]
    }
   ],
   "source": [
    "from pyspark.ml.classification import GBTClassifier\n",
    "gbt = GBTClassifier(labelCol=\"y_labeled\", featuresCol=\"pred_features\")\n",
    "gbt_model=gbt.fit(training_data)\n",
    "predictions_=gbt_model.transform(test_data)\n",
    "\n",
    "#Area under ROC\n",
    "evaluator = BinaryClassificationEvaluator(labelCol='y_labeled')\n",
    "print(\"Area under ROC: \",evaluator.evaluate(predictions_, {evaluator.metricName: \"areaUnderROC\"}))\n",
    "\n",
    "# Function takes 4 parameters- predictions,label column, predicted column, model name\n",
    "evaluation_metrics(predictions_,\"y_labeled\",\"prediction\",'Gradient boosting on test data')"
   ]
  },
  {
   "cell_type": "code",
   "execution_count": 67,
   "id": "5cc9efa5",
   "metadata": {},
   "outputs": [],
   "source": [
    "from pyspark.ml.tuning import ParamGridBuilder, CrossValidator"
   ]
  },
  {
   "cell_type": "code",
   "execution_count": 80,
   "id": "57f9a0ad",
   "metadata": {},
   "outputs": [],
   "source": [
    "params = (ParamGridBuilder()\n",
    "             .addGrid(lr.regParam, [0.01, 0.5, 2.0])\n",
    "             .build())"
   ]
  },
  {
   "cell_type": "code",
   "execution_count": 1098,
   "id": "308d7114",
   "metadata": {},
   "outputs": [],
   "source": [
    "import pandas as pd\n",
    "imp_list = pd.Series(gbt_model.featureImportances.values)\n",
    "sorted_imp = imp_list.sort_values(ascending= False)\n",
    "imp_indexes = list((sorted_imp[sorted_imp > 0.001]).index)"
   ]
  },
  {
   "cell_type": "code",
   "execution_count": 1101,
   "id": "33b69fbb",
   "metadata": {},
   "outputs": [
    {
     "data": {
      "image/png": "[encoded data removed]",
      "text/plain": [
       "<Figure size 720x576 with 1 Axes>"
      ]
     },
     "metadata": {
      "needs_background": "light"
     },
     "output_type": "display_data"
    }
   ],
   "source": [
    "import matplotlib.pyplot as plt\n",
    "fig,ax=plt.subplots(figsize=(10,8))\n",
    "sns.barplot(x=sorted_imp.index,y=sorted_imp.values)\n",
    "plt.xticks(rotation=90);"
   ]
  },
  {
   "cell_type": "code",
   "execution_count": 1064,
   "id": "9ea0348f",
   "metadata": {},
   "outputs": [
    {
     "name": "stdout",
     "output_type": "stream",
     "text": [
      "0.7761559130454914\n",
      "+---------+----------+-----+\n",
      "|y_labeled|prediction|count|\n",
      "+---------+----------+-----+\n",
      "|      1.0|       1.0|  345|\n",
      "|      0.0|       1.0|  120|\n",
      "|      1.0|       0.0|  439|\n",
      "|      0.0|       0.0| 1644|\n",
      "+---------+----------+-----+\n",
      "\n",
      "accuracy of random forrest on test data=  0.7806122448979592\n",
      "R1 score of random forrest on test data=  0.7616919633965555\n",
      "weighted Precision of random forrest on test data=  0.7746891115481702\n",
      "weighted Recall of random forrest on test data=  0.7806122448979592\n"
     ]
    }
   ],
   "source": [
    "from pyspark.ml.feature import VectorSlicer\n",
    "vector_slicer = VectorSlicer(inputCol= \"pred_scaled\", indices= imp_indexes, outputCol= \"feature_subset\")\n",
    "with_selected_feature = vector_slicer.transform(training_data)\n",
    "\n",
    "rf_modified = GBTClassifier(featuresCol=\"feature_subset\",labelCol='y_labeled')\n",
    "test_data_some = vector_slicer.transform(test_data)\n",
    "prediction_modified = rf_modified.fit(with_selected_feature).transform(test_data_some)\n",
    "\n",
    "evaluator_modified = BinaryClassificationEvaluator(rawPredictionCol=\"probability\", metricName= \"areaUnderROC\",labelCol=\"y_labeled\")\n",
    "print(evaluator_modified.evaluate(prediction_modified))\n",
    "\n",
    "# Function takes 4 parameters- predictions,label column, predicted column, model name\n",
    "evaluation_metrics(prediction_modified,\"y_labeled\",\"prediction\",'random forrest on test data')"
   ]
  },
  {
   "cell_type": "code",
   "execution_count": 764,
   "id": "2326d439",
   "metadata": {
    "scrolled": true
   },
   "outputs": [
    {
     "name": "stdout",
     "output_type": "stream",
     "text": [
      "+---------------------------------------------------------------------------------------------------------+------------------------------------------------------------------------------------------------------------------------------------------------------------------------------------------------------------------------------------------------------------------------+---------+---+---------------------------------------------------------------------------------------------------------------------------------------------------------------------------------------------------------------------------------------------------------------------------------------------------------------------------------------------------------------------------------------------------------------------------------------------------------------------------------------------------------------------------------------------------------------------------------------------------------------------------------------------------------------------------------------------------+\n",
      "|pred_features                                                                                            |pred_scaled                                                                                                                                                                                                                                                             |y_labeled|y  |pcaFeatures                                                                                                                                                                                                                                                                                                                                                                                                                                                                                                                                                                                                                                                                                        |\n",
      "+---------------------------------------------------------------------------------------------------------+------------------------------------------------------------------------------------------------------------------------------------------------------------------------------------------------------------------------------------------------------------------------+---------+---+---------------------------------------------------------------------------------------------------------------------------------------------------------------------------------------------------------------------------------------------------------------------------------------------------------------------------------------------------------------------------------------------------------------------------------------------------------------------------------------------------------------------------------------------------------------------------------------------------------------------------------------------------------------------------------------------------+\n",
      "|(40,[0,1,2,3,4,7,17,19,22,23,25,36],[1.7634279935629373,238.0,15.0,8.0,-1.0,1.0,1.0,1.0,1.0,1.0,1.0,1.0])|(40,[0,1,2,3,4,7,17,19,22,23,25,36],[15.201233938940703,0.07188040881707662,1.792332387625248,2.793776750928839,-0.009574012788354467,2.500996629781199,2.0273541817687963,2.0000307088116323,7.93010343160479,2.1442560976674954,2.2289086391271473,2.423638947601952])|0.0      |no |[-1.5450476872717642,0.20706378712670614,-7.724057235961978,1.4911627177732174,-0.276104709961131,1.6759260196149703,-1.9820278968298937,-0.46002501391831285,-2.6016242185052607,2.028422173341669,1.4018528719419876,-1.0554006782628784,-0.7877975279060827,1.549656154079822,0.8357687540625302,1.4645651621754523,-1.627662594727399,-4.585365902040968,0.339272563276812,2.7074064688233235,-3.608149676671765,-2.4932637075940383,-0.5697485564109078,2.7611443685568604,-1.0534613107685258,0.2545317941905834,3.925915181827988,-0.6425647544068968,-0.09886260058887886,0.6644966433402159,-6.410497077841546,3.075857328373537,-9.135238201912207,-0.6580220577833651,4.302669414198018]|\n",
      "+---------------------------------------------------------------------------------------------------------+------------------------------------------------------------------------------------------------------------------------------------------------------------------------------------------------------------------------------------------------------------------------+---------+---+---------------------------------------------------------------------------------------------------------------------------------------------------------------------------------------------------------------------------------------------------------------------------------------------------------------------------------------------------------------------------------------------------------------------------------------------------------------------------------------------------------------------------------------------------------------------------------------------------------------------------------------------------------------------------------------------------+\n",
      "only showing top 1 row\n",
      "\n"
     ]
    }
   ],
   "source": [
    "from pyspark.ml.feature import PCA\n",
    "pca = PCA(k=35, inputCol=\"pred_scaled\", outputCol=\"pcaFeatures\")\n",
    "model_pca = pca.fit(final_df)\n",
    "result = model_pca.transform(final_df)\n",
    "result.show(1,truncate=False)"
   ]
  },
  {
   "cell_type": "code",
   "execution_count": 765,
   "id": "614da831",
   "metadata": {},
   "outputs": [],
   "source": [
    "#Splitting the dataset\n",
    "(training_data, test_data) = result.randomSplit([0.7, 0.3],seed=20)"
   ]
  },
  {
   "cell_type": "code",
   "execution_count": 766,
   "id": "6481d6c9",
   "metadata": {
    "scrolled": true
   },
   "outputs": [
    {
     "name": "stdout",
     "output_type": "stream",
     "text": [
      "Area under ROC:  0.7604699676696361\n",
      "+---------+----------+-----+\n",
      "|y_labeled|prediction|count|\n",
      "+---------+----------+-----+\n",
      "|      1.0|       1.0|  583|\n",
      "|      0.0|       1.0|  262|\n",
      "|      1.0|       0.0|  666|\n",
      "|      0.0|       0.0| 2339|\n",
      "+---------+----------+-----+\n",
      "\n",
      "accuracy of random forrest on test data=  0.758961038961039\n",
      "R1 score of random forrest on test data=  0.7443942659565299\n",
      "weighted Precision of random forrest on test data=  0.778369384359401\n",
      "weighted Recall of random forrest on test data=  0.8992695117262591\n"
     ]
    }
   ],
   "source": [
    "from pyspark.ml.classification import GBTClassifier\n",
    "gbt = GBTClassifier(labelCol=\"y_labeled\", featuresCol=\"pcaFeatures\", maxIter=100)\n",
    "gbt_model=gbt.fit(training_data)\n",
    "predictions_=gbt_model.transform(test_data)\n",
    "\n",
    "#Area under ROC\n",
    "evaluator = BinaryClassificationEvaluator(labelCol='y_labeled')\n",
    "print(\"Area under ROC: \",evaluator.evaluate(predictions_, {evaluator.metricName: \"areaUnderROC\"}))\n",
    "\n",
    "# Function takes 4 parameters- predictions,label column, predicted column, model name\n",
    "evaluation_metrics(predictions_,\"y_labeled\",\"prediction\",'random forrest on test data')"
   ]
  },
  {
   "cell_type": "code",
   "execution_count": null,
   "id": "8c81a5bc",
   "metadata": {},
   "outputs": [],
   "source": [
    "paramGrid = ParamGridBuilder() \\\n",
    "    .addGrid(hashingTF.numFeatures, [10, 100, 1000]) \\\n",
    "    .addGrid(lr.regParam, [0.1, 0.01]) \\\n",
    "    .build()\n",
    "\n",
    "crossval = CrossValidator(estimator=pipeline,\n",
    "                          estimatorParamMaps=paramGrid,\n",
    "                          evaluator=BinaryClassificationEvaluator(),\n",
    "                          numFolds=2)"
   ]
  },
  {
   "cell_type": "code",
   "execution_count": 918,
   "id": "72852020",
   "metadata": {
    "scrolled": true
   },
   "outputs": [
    {
     "name": "stdout",
     "output_type": "stream",
     "text": [
      "Silhouette of kvalue 2 = 0.28608637159630596\n",
      "Silhouette of kvalue 4 = 0.13928802850124886\n",
      "Silhouette of kvalue 6 = 0.15173206003599102\n",
      "Silhouette of kvalue 8 = 0.13559961182086194\n",
      "Silhouette of kvalue 10 = 0.14250064282668834\n",
      "Silhouette of kvalue 12 = 0.17832378438090601\n",
      "Silhouette of kvalue 14 = 0.15039947567436926\n",
      "Silhouette of kvalue 16 = 0.1544733879808028\n",
      "Silhouette of kvalue 18 = 0.20544473138872216\n"
     ]
    }
   ],
   "source": [
    "from pyspark.ml.clustering import KMeans\n",
    "from pyspark.ml.evaluation import ClusteringEvaluator\n",
    "for k in range(2,10,1):\n",
    "    kmeans=KMeans(featuresCol='pred_scaled').setK(k).setSeed(1)\n",
    "    modelk=kmeans.fit(final_df)\n",
    "    predictions_=modelk.transform(final_df)\n",
    "    evaluator=ClusteringEvaluator().setFeaturesCol('pred_scaled')\n",
    "    silhouette = evaluator.evaluate(predictions_)\n",
    "    print(f\"Silhouette of kvalue {k} = \" + str(silhouette))"
   ]
  },
  {
   "cell_type": "code",
   "execution_count": 1114,
   "id": "9dfd45a6",
   "metadata": {},
   "outputs": [],
   "source": [
    "kmeans=KMeans(featuresCol='pred_scaled').setK(2).setSeed(1)\n",
    "modelk=kmeans.fit(df2)\n",
    "predictions_=modelk.transform(df2)"
   ]
  },
  {
   "cell_type": "code",
   "execution_count": 1123,
   "id": "785b2b81",
   "metadata": {},
   "outputs": [],
   "source": [
    "predictions_=predictions_.withColumn('prediction',predictions_.prediction.cast('double'))"
   ]
  },
  {
   "cell_type": "code",
   "execution_count": 1124,
   "id": "6d4969c6",
   "metadata": {},
   "outputs": [
    {
     "name": "stdout",
     "output_type": "stream",
     "text": [
      "Area under ROC:  0.6034102076716762\n",
      "+---------+----------+-----+\n",
      "|y_labeled|prediction|count|\n",
      "+---------+----------+-----+\n",
      "|      1.0|       1.0| 1426|\n",
      "|      0.0|       1.0| 1359|\n",
      "|      1.0|       0.0| 2541|\n",
      "|      0.0|       0.0| 7544|\n",
      "+---------+----------+-----+\n",
      "\n",
      "accuracy of random forrest on test data=  0.696969696969697\n",
      "R1 score of random forrest on test data=  0.6798773636817146\n",
      "weighted Precision of random forrest on test data=  0.6752939182392242\n",
      "weighted Recall of random forrest on test data=  0.696969696969697\n"
     ]
    }
   ],
   "source": [
    "#Area under ROC\n",
    "evaluator = BinaryClassificationEvaluator(labelCol='y_labeled',rawPredictionCol='prediction')\n",
    "print(\"Area under ROC: \",evaluator.evaluate(predictions_, {evaluator.metricName: \"areaUnderROC\"}))\n",
    "\n",
    "# Function takes 4 parameters- predictions,label column, predicted column, model name\n",
    "evaluation_metrics(predictions_,\"y_labeled\",\"prediction\",'random forrest on test data')"
   ]
  },
  {
   "cell_type": "code",
   "execution_count": 374,
   "id": "d795c7ff",
   "metadata": {},
   "outputs": [
    {
     "name": "stdout",
     "output_type": "stream",
     "text": [
      "+---+----------+-----+\n",
      "|  y|prediction|count|\n",
      "+---+----------+-----+\n",
      "| no|         0| 6018|\n",
      "| no|         1| 2885|\n",
      "|yes|         0| 3535|\n",
      "|yes|         1|  432|\n",
      "+---+----------+-----+\n",
      "\n"
     ]
    }
   ],
   "source": [
    "predictions_.groupBy('y','prediction').count().show()"
   ]
  },
  {
   "cell_type": "code",
   "execution_count": null,
   "id": "16b3243e",
   "metadata": {},
   "outputs": [],
   "source": [
    "predictions_.groupBy('y','prediction').count().show()"
   ]
  },
  {
   "cell_type": "code",
   "execution_count": 332,
   "id": "c5f30f2c",
   "metadata": {},
   "outputs": [],
   "source": [
    "from pyspark.mllib.linalg.distributed import RowMatrix\n",
    "import numpy as np\n",
    "confusion_matrix=np.array(predictions_.groupBy('y_labeled','prediction').count().select('count').collect()).reshape(2,2)"
   ]
  },
  {
   "cell_type": "code",
   "execution_count": 334,
   "id": "ab19af96",
   "metadata": {},
   "outputs": [
    {
     "name": "stdout",
     "output_type": "stream",
     "text": [
      "+---------+----------+-----+\n",
      "|y_labeled|prediction|count|\n",
      "+---------+----------+-----+\n",
      "|      1.0|       1.0|  559|\n",
      "|      0.0|       1.0|  271|\n",
      "|      1.0|       0.0|  633|\n",
      "|      0.0|       0.0| 2387|\n",
      "+---------+----------+-----+\n",
      "\n"
     ]
    }
   ],
   "source": [
    "predictions_.groupBy('y_labeled','prediction').count().show()"
   ]
  },
  {
   "cell_type": "code",
   "execution_count": 333,
   "id": "9a45b508",
   "metadata": {},
   "outputs": [
    {
     "data": {
      "text/plain": [
       "Text(0.5, 15.0, '')"
      ]
     },
     "execution_count": 333,
     "metadata": {},
     "output_type": "execute_result"
    },
    {
     "data": {
      "image/png": "[encoded data removed]",
      "text/plain": [
       "<Figure size 432x288 with 2 Axes>"
      ]
     },
     "metadata": {
      "needs_background": "light"
     },
     "output_type": "display_data"
    }
   ],
   "source": [
    "import seaborn as sns\n",
    "sns.heatmap(confusion_matrix,annot=True)\n",
    "plt.xlabel(\"\")"
   ]
  },
  {
   "cell_type": "markdown",
   "id": "9e503a37",
   "metadata": {},
   "source": [
    "Additional Analysis"
   ]
  },
  {
   "cell_type": "code",
   "execution_count": null,
   "id": "01973299",
   "metadata": {},
   "outputs": [],
   "source": [
    "from pyspark.mllib.stat import Statistics\n",
    "summary = Statistics.colStats(mat)\n",
    "print(summary.mean())\n",
    "print(summary.variance())\n",
    "print(summary.numNonzeros())"
   ]
  },
  {
   "cell_type": "code",
   "execution_count": 140,
   "id": "a8a96845",
   "metadata": {},
   "outputs": [],
   "source": [
    "from pyspark import SparkContext\n",
    "from pyspark.mllib.linalg import Vectors, Matrices\n",
    "from pyspark.mllib.stat import Statistics\n",
    "from pyspark.mllib.regression import LabeledPoint\n",
    "from pyspark.mllib.stat import Statistics"
   ]
  },
  {
   "cell_type": "code",
   "execution_count": 193,
   "id": "958e9be3",
   "metadata": {},
   "outputs": [],
   "source": [
    "az=final_df.select('y_labeled','pred_scaled')\n",
    "az=az.withColumnRenamed('y_labeled','label').withColumnRenamed('pred_scaled','features')"
   ]
  },
  {
   "cell_type": "code",
   "execution_count": 199,
   "id": "e8baf01a",
   "metadata": {},
   "outputs": [
    {
     "name": "stdout",
     "output_type": "stream",
     "text": [
      "+-----+--------------------+\n",
      "|label|            features|\n",
      "+-----+--------------------+\n",
      "|  0.0|(41,[0,1,2,3,4,7,...|\n",
      "+-----+--------------------+\n",
      "only showing top 1 row\n",
      "\n"
     ]
    }
   ],
   "source": [
    "az.show(1)"
   ]
  },
  {
   "cell_type": "code",
   "execution_count": null,
   "id": "edbc2d96",
   "metadata": {},
   "outputs": [],
   "source": []
  }
 ],
 "metadata": {
  "kernelspec": {
   "display_name": "Python 3 (ipykernel)",
   "language": "python",
   "name": "python3"
  },
  "language_info": {
   "codemirror_mode": {
    "name": "ipython",
    "version": 3
   },
   "file_extension": ".py",
   "mimetype": "text/x-python",
   "name": "python",
   "nbconvert_exporter": "python",
   "pygments_lexer": "ipython3",
   "version": "3.9.7"
  }
 },
 "nbformat": 4,
 "nbformat_minor": 5
}
