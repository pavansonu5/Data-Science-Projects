{
 "cells": [
  {
   "cell_type": "code",
   "execution_count": 1,
   "id": "edb8d777",
   "metadata": {
    "_cell_guid": "b1076dfc-b9ad-4769-8c92-a6c4dae69d19",
    "_uuid": "8f2839f25d086af736a60e9eeb907d3b93b6e0e5",
    "execution": {
     "iopub.execute_input": "2022-05-25T15:11:47.839329Z",
     "iopub.status.busy": "2022-05-25T15:11:47.838578Z",
     "iopub.status.idle": "2022-05-25T15:11:47.854211Z",
     "shell.execute_reply": "2022-05-25T15:11:47.853362Z"
    },
    "papermill": {
     "duration": 0.106163,
     "end_time": "2022-05-25T15:11:47.856426",
     "exception": false,
     "start_time": "2022-05-25T15:11:47.750263",
     "status": "completed"
    },
    "tags": []
   },
   "outputs": [
    {
     "name": "stdout",
     "output_type": "stream",
     "text": [
      "/kaggle/input/spaceship-titanic/sample_submission.csv\n",
      "/kaggle/input/spaceship-titanic/train.csv\n",
      "/kaggle/input/spaceship-titanic/test.csv\n"
     ]
    }
   ],
   "source": [
    "# This Python 3 environment comes with many helpful analytics libraries installed\n",
    "# It is defined by the kaggle/python Docker image: https://github.com/kaggle/docker-python\n",
    "# For example, here's several helpful packages to load\n",
    "\n",
    "import numpy as np # linear algebra\n",
    "import pandas as pd # data processing, CSV file I/O (e.g. pd.read_csv)\n",
    "\n",
    "# Input data files are available in the read-only \"../input/\" directory\n",
    "# For example, running this (by clicking run or pressing Shift+Enter) will list all files under the input directory\n",
    "\n",
    "import os\n",
    "for dirname, _, filenames in os.walk('/kaggle/input'):\n",
    "    for filename in filenames:\n",
    "        print(os.path.join(dirname, filename))\n",
    "\n",
    "# You can write up to 20GB to the current directory (/kaggle/working/) that gets preserved as output when you create a version using \"Save & Run All\" \n",
    "# You can also write temporary files to /kaggle/temp/, but they won't be saved outside of the current session"
   ]
  },
  {
   "cell_type": "markdown",
   "id": "7f59ee2e",
   "metadata": {
    "execution": {
     "iopub.execute_input": "2022-05-05T11:21:11.331337Z",
     "iopub.status.busy": "2022-05-05T11:21:11.330925Z",
     "iopub.status.idle": "2022-05-05T11:21:11.335992Z",
     "shell.execute_reply": "2022-05-05T11:21:11.334828Z",
     "shell.execute_reply.started": "2022-05-05T11:21:11.331305Z"
    },
    "papermill": {
     "duration": 0.086545,
     "end_time": "2022-05-25T15:11:48.028659",
     "exception": false,
     "start_time": "2022-05-25T15:11:47.942114",
     "status": "completed"
    },
    "tags": []
   },
   "source": [
    "# Importing the Libraries"
   ]
  },
  {
   "cell_type": "code",
   "execution_count": 2,
   "id": "64180330",
   "metadata": {
    "execution": {
     "iopub.execute_input": "2022-05-25T15:11:48.201118Z",
     "iopub.status.busy": "2022-05-25T15:11:48.200850Z",
     "iopub.status.idle": "2022-05-25T15:11:51.351053Z",
     "shell.execute_reply": "2022-05-25T15:11:51.350135Z"
    },
    "papermill": {
     "duration": 3.239564,
     "end_time": "2022-05-25T15:11:51.353407",
     "exception": false,
     "start_time": "2022-05-25T15:11:48.113843",
     "status": "completed"
    },
    "tags": []
   },
   "outputs": [],
   "source": [
    "import seaborn as sns\n",
    "import plotly.express as px\n",
    "import matplotlib.pyplot as plt\n",
    "from sklearn.model_selection import train_test_split\n",
    "from sklearn.impute import SimpleImputer\n",
    "from sklearn.preprocessing import LabelEncoder\n",
    "from sklearn.preprocessing import StandardScaler\n",
    "from sklearn.neighbors import KNeighborsClassifier\n",
    "from sklearn.metrics import accuracy_score\n",
    "from sklearn.model_selection import GridSearchCV\n",
    "from sklearn.model_selection import RandomizedSearchCV\n",
    "from sklearn.ensemble import RandomForestClassifier\n",
    "from sklearn.preprocessing import OneHotEncoder\n",
    "from catboost import CatBoostClassifier\n",
    "import warnings\n",
    "warnings.filterwarnings('ignore')"
   ]
  },
  {
   "cell_type": "code",
   "execution_count": 3,
   "id": "abcd026a",
   "metadata": {
    "execution": {
     "iopub.execute_input": "2022-05-25T15:11:51.524346Z",
     "iopub.status.busy": "2022-05-25T15:11:51.524092Z",
     "iopub.status.idle": "2022-05-25T15:11:51.604870Z",
     "shell.execute_reply": "2022-05-25T15:11:51.604050Z"
    },
    "papermill": {
     "duration": 0.168982,
     "end_time": "2022-05-25T15:11:51.607276",
     "exception": false,
     "start_time": "2022-05-25T15:11:51.438294",
     "status": "completed"
    },
    "tags": []
   },
   "outputs": [],
   "source": [
    "train=pd.read_csv(\"/kaggle/input/spaceship-titanic/train.csv\")\n",
    "test=pd.read_csv(\"/kaggle/input/spaceship-titanic/test.csv\")"
   ]
  },
  {
   "cell_type": "code",
   "execution_count": 4,
   "id": "58679f08",
   "metadata": {
    "execution": {
     "iopub.execute_input": "2022-05-25T15:11:51.779547Z",
     "iopub.status.busy": "2022-05-25T15:11:51.779267Z",
     "iopub.status.idle": "2022-05-25T15:11:51.808148Z",
     "shell.execute_reply": "2022-05-25T15:11:51.807453Z"
    },
    "papermill": {
     "duration": 0.116661,
     "end_time": "2022-05-25T15:11:51.809912",
     "exception": false,
     "start_time": "2022-05-25T15:11:51.693251",
     "status": "completed"
    },
    "tags": []
   },
   "outputs": [
    {
     "data": {
      "text/html": [
       "<div>\n",
       "<style scoped>\n",
       "    .dataframe tbody tr th:only-of-type {\n",
       "        vertical-align: middle;\n",
       "    }\n",
       "\n",
       "    .dataframe tbody tr th {\n",
       "        vertical-align: top;\n",
       "    }\n",
       "\n",
       "    .dataframe thead th {\n",
       "        text-align: right;\n",
       "    }\n",
       "</style>\n",
       "<table border=\"1\" class=\"dataframe\">\n",
       "  <thead>\n",
       "    <tr style=\"text-align: right;\">\n",
       "      <th></th>\n",
       "      <th>PassengerId</th>\n",
       "      <th>HomePlanet</th>\n",
       "      <th>CryoSleep</th>\n",
       "      <th>Cabin</th>\n",
       "      <th>Destination</th>\n",
       "      <th>Age</th>\n",
       "      <th>VIP</th>\n",
       "      <th>RoomService</th>\n",
       "      <th>FoodCourt</th>\n",
       "      <th>ShoppingMall</th>\n",
       "      <th>Spa</th>\n",
       "      <th>VRDeck</th>\n",
       "      <th>Name</th>\n",
       "      <th>Transported</th>\n",
       "    </tr>\n",
       "  </thead>\n",
       "  <tbody>\n",
       "    <tr>\n",
       "      <th>0</th>\n",
       "      <td>0001_01</td>\n",
       "      <td>Europa</td>\n",
       "      <td>False</td>\n",
       "      <td>B/0/P</td>\n",
       "      <td>TRAPPIST-1e</td>\n",
       "      <td>39.0</td>\n",
       "      <td>False</td>\n",
       "      <td>0.0</td>\n",
       "      <td>0.0</td>\n",
       "      <td>0.0</td>\n",
       "      <td>0.0</td>\n",
       "      <td>0.0</td>\n",
       "      <td>Maham Ofracculy</td>\n",
       "      <td>False</td>\n",
       "    </tr>\n",
       "    <tr>\n",
       "      <th>1</th>\n",
       "      <td>0002_01</td>\n",
       "      <td>Earth</td>\n",
       "      <td>False</td>\n",
       "      <td>F/0/S</td>\n",
       "      <td>TRAPPIST-1e</td>\n",
       "      <td>24.0</td>\n",
       "      <td>False</td>\n",
       "      <td>109.0</td>\n",
       "      <td>9.0</td>\n",
       "      <td>25.0</td>\n",
       "      <td>549.0</td>\n",
       "      <td>44.0</td>\n",
       "      <td>Juanna Vines</td>\n",
       "      <td>True</td>\n",
       "    </tr>\n",
       "    <tr>\n",
       "      <th>2</th>\n",
       "      <td>0003_01</td>\n",
       "      <td>Europa</td>\n",
       "      <td>False</td>\n",
       "      <td>A/0/S</td>\n",
       "      <td>TRAPPIST-1e</td>\n",
       "      <td>58.0</td>\n",
       "      <td>True</td>\n",
       "      <td>43.0</td>\n",
       "      <td>3576.0</td>\n",
       "      <td>0.0</td>\n",
       "      <td>6715.0</td>\n",
       "      <td>49.0</td>\n",
       "      <td>Altark Susent</td>\n",
       "      <td>False</td>\n",
       "    </tr>\n",
       "    <tr>\n",
       "      <th>3</th>\n",
       "      <td>0003_02</td>\n",
       "      <td>Europa</td>\n",
       "      <td>False</td>\n",
       "      <td>A/0/S</td>\n",
       "      <td>TRAPPIST-1e</td>\n",
       "      <td>33.0</td>\n",
       "      <td>False</td>\n",
       "      <td>0.0</td>\n",
       "      <td>1283.0</td>\n",
       "      <td>371.0</td>\n",
       "      <td>3329.0</td>\n",
       "      <td>193.0</td>\n",
       "      <td>Solam Susent</td>\n",
       "      <td>False</td>\n",
       "    </tr>\n",
       "    <tr>\n",
       "      <th>4</th>\n",
       "      <td>0004_01</td>\n",
       "      <td>Earth</td>\n",
       "      <td>False</td>\n",
       "      <td>F/1/S</td>\n",
       "      <td>TRAPPIST-1e</td>\n",
       "      <td>16.0</td>\n",
       "      <td>False</td>\n",
       "      <td>303.0</td>\n",
       "      <td>70.0</td>\n",
       "      <td>151.0</td>\n",
       "      <td>565.0</td>\n",
       "      <td>2.0</td>\n",
       "      <td>Willy Santantines</td>\n",
       "      <td>True</td>\n",
       "    </tr>\n",
       "  </tbody>\n",
       "</table>\n",
       "</div>"
      ],
      "text/plain": [
       "  PassengerId HomePlanet CryoSleep  Cabin  Destination   Age    VIP  \\\n",
       "0     0001_01     Europa     False  B/0/P  TRAPPIST-1e  39.0  False   \n",
       "1     0002_01      Earth     False  F/0/S  TRAPPIST-1e  24.0  False   \n",
       "2     0003_01     Europa     False  A/0/S  TRAPPIST-1e  58.0   True   \n",
       "3     0003_02     Europa     False  A/0/S  TRAPPIST-1e  33.0  False   \n",
       "4     0004_01      Earth     False  F/1/S  TRAPPIST-1e  16.0  False   \n",
       "\n",
       "   RoomService  FoodCourt  ShoppingMall     Spa  VRDeck               Name  \\\n",
       "0          0.0        0.0           0.0     0.0     0.0    Maham Ofracculy   \n",
       "1        109.0        9.0          25.0   549.0    44.0       Juanna Vines   \n",
       "2         43.0     3576.0           0.0  6715.0    49.0      Altark Susent   \n",
       "3          0.0     1283.0         371.0  3329.0   193.0       Solam Susent   \n",
       "4        303.0       70.0         151.0   565.0     2.0  Willy Santantines   \n",
       "\n",
       "   Transported  \n",
       "0        False  \n",
       "1         True  \n",
       "2        False  \n",
       "3        False  \n",
       "4         True  "
      ]
     },
     "execution_count": 4,
     "metadata": {},
     "output_type": "execute_result"
    }
   ],
   "source": [
    "train.head()"
   ]
  },
  {
   "cell_type": "code",
   "execution_count": 5,
   "id": "bab37bf3",
   "metadata": {
    "execution": {
     "iopub.execute_input": "2022-05-25T15:11:51.987996Z",
     "iopub.status.busy": "2022-05-25T15:11:51.987116Z",
     "iopub.status.idle": "2022-05-25T15:11:52.028789Z",
     "shell.execute_reply": "2022-05-25T15:11:52.028002Z"
    },
    "papermill": {
     "duration": 0.1327,
     "end_time": "2022-05-25T15:11:52.030684",
     "exception": false,
     "start_time": "2022-05-25T15:11:51.897984",
     "status": "completed"
    },
    "tags": []
   },
   "outputs": [
    {
     "data": {
      "text/html": [
       "<div>\n",
       "<style scoped>\n",
       "    .dataframe tbody tr th:only-of-type {\n",
       "        vertical-align: middle;\n",
       "    }\n",
       "\n",
       "    .dataframe tbody tr th {\n",
       "        vertical-align: top;\n",
       "    }\n",
       "\n",
       "    .dataframe thead th {\n",
       "        text-align: right;\n",
       "    }\n",
       "</style>\n",
       "<table border=\"1\" class=\"dataframe\">\n",
       "  <thead>\n",
       "    <tr style=\"text-align: right;\">\n",
       "      <th></th>\n",
       "      <th>Age</th>\n",
       "      <th>RoomService</th>\n",
       "      <th>FoodCourt</th>\n",
       "      <th>ShoppingMall</th>\n",
       "      <th>Spa</th>\n",
       "      <th>VRDeck</th>\n",
       "    </tr>\n",
       "  </thead>\n",
       "  <tbody>\n",
       "    <tr>\n",
       "      <th>count</th>\n",
       "      <td>8514.000000</td>\n",
       "      <td>8512.000000</td>\n",
       "      <td>8510.000000</td>\n",
       "      <td>8485.000000</td>\n",
       "      <td>8510.000000</td>\n",
       "      <td>8505.000000</td>\n",
       "    </tr>\n",
       "    <tr>\n",
       "      <th>mean</th>\n",
       "      <td>28.827930</td>\n",
       "      <td>224.687617</td>\n",
       "      <td>458.077203</td>\n",
       "      <td>173.729169</td>\n",
       "      <td>311.138778</td>\n",
       "      <td>304.854791</td>\n",
       "    </tr>\n",
       "    <tr>\n",
       "      <th>std</th>\n",
       "      <td>14.489021</td>\n",
       "      <td>666.717663</td>\n",
       "      <td>1611.489240</td>\n",
       "      <td>604.696458</td>\n",
       "      <td>1136.705535</td>\n",
       "      <td>1145.717189</td>\n",
       "    </tr>\n",
       "    <tr>\n",
       "      <th>min</th>\n",
       "      <td>0.000000</td>\n",
       "      <td>0.000000</td>\n",
       "      <td>0.000000</td>\n",
       "      <td>0.000000</td>\n",
       "      <td>0.000000</td>\n",
       "      <td>0.000000</td>\n",
       "    </tr>\n",
       "    <tr>\n",
       "      <th>25%</th>\n",
       "      <td>19.000000</td>\n",
       "      <td>0.000000</td>\n",
       "      <td>0.000000</td>\n",
       "      <td>0.000000</td>\n",
       "      <td>0.000000</td>\n",
       "      <td>0.000000</td>\n",
       "    </tr>\n",
       "    <tr>\n",
       "      <th>50%</th>\n",
       "      <td>27.000000</td>\n",
       "      <td>0.000000</td>\n",
       "      <td>0.000000</td>\n",
       "      <td>0.000000</td>\n",
       "      <td>0.000000</td>\n",
       "      <td>0.000000</td>\n",
       "    </tr>\n",
       "    <tr>\n",
       "      <th>75%</th>\n",
       "      <td>38.000000</td>\n",
       "      <td>47.000000</td>\n",
       "      <td>76.000000</td>\n",
       "      <td>27.000000</td>\n",
       "      <td>59.000000</td>\n",
       "      <td>46.000000</td>\n",
       "    </tr>\n",
       "    <tr>\n",
       "      <th>max</th>\n",
       "      <td>79.000000</td>\n",
       "      <td>14327.000000</td>\n",
       "      <td>29813.000000</td>\n",
       "      <td>23492.000000</td>\n",
       "      <td>22408.000000</td>\n",
       "      <td>24133.000000</td>\n",
       "    </tr>\n",
       "  </tbody>\n",
       "</table>\n",
       "</div>"
      ],
      "text/plain": [
       "               Age   RoomService     FoodCourt  ShoppingMall           Spa  \\\n",
       "count  8514.000000   8512.000000   8510.000000   8485.000000   8510.000000   \n",
       "mean     28.827930    224.687617    458.077203    173.729169    311.138778   \n",
       "std      14.489021    666.717663   1611.489240    604.696458   1136.705535   \n",
       "min       0.000000      0.000000      0.000000      0.000000      0.000000   \n",
       "25%      19.000000      0.000000      0.000000      0.000000      0.000000   \n",
       "50%      27.000000      0.000000      0.000000      0.000000      0.000000   \n",
       "75%      38.000000     47.000000     76.000000     27.000000     59.000000   \n",
       "max      79.000000  14327.000000  29813.000000  23492.000000  22408.000000   \n",
       "\n",
       "             VRDeck  \n",
       "count   8505.000000  \n",
       "mean     304.854791  \n",
       "std     1145.717189  \n",
       "min        0.000000  \n",
       "25%        0.000000  \n",
       "50%        0.000000  \n",
       "75%       46.000000  \n",
       "max    24133.000000  "
      ]
     },
     "execution_count": 5,
     "metadata": {},
     "output_type": "execute_result"
    }
   ],
   "source": [
    "train.describe()"
   ]
  },
  {
   "cell_type": "code",
   "execution_count": 6,
   "id": "1805480f",
   "metadata": {
    "execution": {
     "iopub.execute_input": "2022-05-25T15:11:52.207827Z",
     "iopub.status.busy": "2022-05-25T15:11:52.207035Z",
     "iopub.status.idle": "2022-05-25T15:11:52.228274Z",
     "shell.execute_reply": "2022-05-25T15:11:52.227694Z"
    },
    "papermill": {
     "duration": 0.111642,
     "end_time": "2022-05-25T15:11:52.230277",
     "exception": false,
     "start_time": "2022-05-25T15:11:52.118635",
     "status": "completed"
    },
    "tags": []
   },
   "outputs": [
    {
     "name": "stdout",
     "output_type": "stream",
     "text": [
      "<class 'pandas.core.frame.DataFrame'>\n",
      "RangeIndex: 8693 entries, 0 to 8692\n",
      "Data columns (total 14 columns):\n",
      " #   Column        Non-Null Count  Dtype  \n",
      "---  ------        --------------  -----  \n",
      " 0   PassengerId   8693 non-null   object \n",
      " 1   HomePlanet    8492 non-null   object \n",
      " 2   CryoSleep     8476 non-null   object \n",
      " 3   Cabin         8494 non-null   object \n",
      " 4   Destination   8511 non-null   object \n",
      " 5   Age           8514 non-null   float64\n",
      " 6   VIP           8490 non-null   object \n",
      " 7   RoomService   8512 non-null   float64\n",
      " 8   FoodCourt     8510 non-null   float64\n",
      " 9   ShoppingMall  8485 non-null   float64\n",
      " 10  Spa           8510 non-null   float64\n",
      " 11  VRDeck        8505 non-null   float64\n",
      " 12  Name          8493 non-null   object \n",
      " 13  Transported   8693 non-null   bool   \n",
      "dtypes: bool(1), float64(6), object(7)\n",
      "memory usage: 891.5+ KB\n"
     ]
    }
   ],
   "source": [
    "train.info()"
   ]
  },
  {
   "cell_type": "code",
   "execution_count": 7,
   "id": "13f3e8c4",
   "metadata": {
    "execution": {
     "iopub.execute_input": "2022-05-25T15:11:52.407041Z",
     "iopub.status.busy": "2022-05-25T15:11:52.406691Z",
     "iopub.status.idle": "2022-05-25T15:11:52.446805Z",
     "shell.execute_reply": "2022-05-25T15:11:52.445776Z"
    },
    "papermill": {
     "duration": 0.132726,
     "end_time": "2022-05-25T15:11:52.448951",
     "exception": false,
     "start_time": "2022-05-25T15:11:52.316225",
     "status": "completed"
    },
    "tags": []
   },
   "outputs": [
    {
     "data": {
      "text/html": [
       "<div>\n",
       "<style scoped>\n",
       "    .dataframe tbody tr th:only-of-type {\n",
       "        vertical-align: middle;\n",
       "    }\n",
       "\n",
       "    .dataframe tbody tr th {\n",
       "        vertical-align: top;\n",
       "    }\n",
       "\n",
       "    .dataframe thead th {\n",
       "        text-align: right;\n",
       "    }\n",
       "</style>\n",
       "<table border=\"1\" class=\"dataframe\">\n",
       "  <thead>\n",
       "    <tr style=\"text-align: right;\">\n",
       "      <th></th>\n",
       "      <th>PassengerId</th>\n",
       "      <th>HomePlanet</th>\n",
       "      <th>CryoSleep</th>\n",
       "      <th>Cabin</th>\n",
       "      <th>Destination</th>\n",
       "      <th>Age</th>\n",
       "      <th>VIP</th>\n",
       "      <th>RoomService</th>\n",
       "      <th>FoodCourt</th>\n",
       "      <th>ShoppingMall</th>\n",
       "      <th>Spa</th>\n",
       "      <th>VRDeck</th>\n",
       "      <th>Name</th>\n",
       "      <th>Transported</th>\n",
       "    </tr>\n",
       "  </thead>\n",
       "  <tbody>\n",
       "    <tr>\n",
       "      <th>7</th>\n",
       "      <td>0006_02</td>\n",
       "      <td>Earth</td>\n",
       "      <td>True</td>\n",
       "      <td>G/0/S</td>\n",
       "      <td>TRAPPIST-1e</td>\n",
       "      <td>28.0</td>\n",
       "      <td>False</td>\n",
       "      <td>0.0</td>\n",
       "      <td>0.0</td>\n",
       "      <td>0.0</td>\n",
       "      <td>0.0</td>\n",
       "      <td>NaN</td>\n",
       "      <td>Candra Jacostaffey</td>\n",
       "      <td>True</td>\n",
       "    </tr>\n",
       "    <tr>\n",
       "      <th>10</th>\n",
       "      <td>0008_02</td>\n",
       "      <td>Europa</td>\n",
       "      <td>True</td>\n",
       "      <td>B/1/P</td>\n",
       "      <td>TRAPPIST-1e</td>\n",
       "      <td>34.0</td>\n",
       "      <td>False</td>\n",
       "      <td>0.0</td>\n",
       "      <td>0.0</td>\n",
       "      <td>NaN</td>\n",
       "      <td>0.0</td>\n",
       "      <td>0.0</td>\n",
       "      <td>Altardr Flatic</td>\n",
       "      <td>True</td>\n",
       "    </tr>\n",
       "    <tr>\n",
       "      <th>15</th>\n",
       "      <td>0012_01</td>\n",
       "      <td>Earth</td>\n",
       "      <td>False</td>\n",
       "      <td>NaN</td>\n",
       "      <td>TRAPPIST-1e</td>\n",
       "      <td>31.0</td>\n",
       "      <td>False</td>\n",
       "      <td>32.0</td>\n",
       "      <td>0.0</td>\n",
       "      <td>876.0</td>\n",
       "      <td>0.0</td>\n",
       "      <td>0.0</td>\n",
       "      <td>Justie Pooles</td>\n",
       "      <td>False</td>\n",
       "    </tr>\n",
       "    <tr>\n",
       "      <th>16</th>\n",
       "      <td>0014_01</td>\n",
       "      <td>Mars</td>\n",
       "      <td>False</td>\n",
       "      <td>F/3/P</td>\n",
       "      <td>55 Cancri e</td>\n",
       "      <td>27.0</td>\n",
       "      <td>False</td>\n",
       "      <td>1286.0</td>\n",
       "      <td>122.0</td>\n",
       "      <td>NaN</td>\n",
       "      <td>0.0</td>\n",
       "      <td>0.0</td>\n",
       "      <td>Flats Eccle</td>\n",
       "      <td>False</td>\n",
       "    </tr>\n",
       "    <tr>\n",
       "      <th>23</th>\n",
       "      <td>0020_03</td>\n",
       "      <td>Earth</td>\n",
       "      <td>True</td>\n",
       "      <td>E/0/S</td>\n",
       "      <td>55 Cancri e</td>\n",
       "      <td>29.0</td>\n",
       "      <td>False</td>\n",
       "      <td>0.0</td>\n",
       "      <td>0.0</td>\n",
       "      <td>NaN</td>\n",
       "      <td>0.0</td>\n",
       "      <td>0.0</td>\n",
       "      <td>Mollen Mcfaddennon</td>\n",
       "      <td>False</td>\n",
       "    </tr>\n",
       "    <tr>\n",
       "      <th>...</th>\n",
       "      <td>...</td>\n",
       "      <td>...</td>\n",
       "      <td>...</td>\n",
       "      <td>...</td>\n",
       "      <td>...</td>\n",
       "      <td>...</td>\n",
       "      <td>...</td>\n",
       "      <td>...</td>\n",
       "      <td>...</td>\n",
       "      <td>...</td>\n",
       "      <td>...</td>\n",
       "      <td>...</td>\n",
       "      <td>...</td>\n",
       "      <td>...</td>\n",
       "    </tr>\n",
       "    <tr>\n",
       "      <th>8667</th>\n",
       "      <td>9250_01</td>\n",
       "      <td>Europa</td>\n",
       "      <td>False</td>\n",
       "      <td>E/597/P</td>\n",
       "      <td>TRAPPIST-1e</td>\n",
       "      <td>29.0</td>\n",
       "      <td>False</td>\n",
       "      <td>0.0</td>\n",
       "      <td>2972.0</td>\n",
       "      <td>NaN</td>\n",
       "      <td>28.0</td>\n",
       "      <td>188.0</td>\n",
       "      <td>Chain Reedectied</td>\n",
       "      <td>True</td>\n",
       "    </tr>\n",
       "    <tr>\n",
       "      <th>8674</th>\n",
       "      <td>9257_01</td>\n",
       "      <td>NaN</td>\n",
       "      <td>False</td>\n",
       "      <td>F/1892/P</td>\n",
       "      <td>TRAPPIST-1e</td>\n",
       "      <td>13.0</td>\n",
       "      <td>False</td>\n",
       "      <td>39.0</td>\n",
       "      <td>0.0</td>\n",
       "      <td>1085.0</td>\n",
       "      <td>24.0</td>\n",
       "      <td>0.0</td>\n",
       "      <td>Ties Apple</td>\n",
       "      <td>False</td>\n",
       "    </tr>\n",
       "    <tr>\n",
       "      <th>8675</th>\n",
       "      <td>9259_01</td>\n",
       "      <td>Earth</td>\n",
       "      <td>NaN</td>\n",
       "      <td>F/1893/P</td>\n",
       "      <td>TRAPPIST-1e</td>\n",
       "      <td>44.0</td>\n",
       "      <td>False</td>\n",
       "      <td>1030.0</td>\n",
       "      <td>1015.0</td>\n",
       "      <td>0.0</td>\n",
       "      <td>11.0</td>\n",
       "      <td>NaN</td>\n",
       "      <td>Annah Gilleyons</td>\n",
       "      <td>True</td>\n",
       "    </tr>\n",
       "    <tr>\n",
       "      <th>8684</th>\n",
       "      <td>9274_01</td>\n",
       "      <td>NaN</td>\n",
       "      <td>True</td>\n",
       "      <td>G/1508/P</td>\n",
       "      <td>TRAPPIST-1e</td>\n",
       "      <td>23.0</td>\n",
       "      <td>False</td>\n",
       "      <td>0.0</td>\n",
       "      <td>0.0</td>\n",
       "      <td>0.0</td>\n",
       "      <td>0.0</td>\n",
       "      <td>0.0</td>\n",
       "      <td>Chelsa Bullisey</td>\n",
       "      <td>True</td>\n",
       "    </tr>\n",
       "    <tr>\n",
       "      <th>8687</th>\n",
       "      <td>9275_03</td>\n",
       "      <td>Europa</td>\n",
       "      <td>NaN</td>\n",
       "      <td>A/97/P</td>\n",
       "      <td>TRAPPIST-1e</td>\n",
       "      <td>30.0</td>\n",
       "      <td>False</td>\n",
       "      <td>0.0</td>\n",
       "      <td>3208.0</td>\n",
       "      <td>0.0</td>\n",
       "      <td>2.0</td>\n",
       "      <td>330.0</td>\n",
       "      <td>Atlasym Conable</td>\n",
       "      <td>True</td>\n",
       "    </tr>\n",
       "  </tbody>\n",
       "</table>\n",
       "<p>2087 rows × 14 columns</p>\n",
       "</div>"
      ],
      "text/plain": [
       "     PassengerId HomePlanet CryoSleep     Cabin  Destination   Age    VIP  \\\n",
       "7        0006_02      Earth      True     G/0/S  TRAPPIST-1e  28.0  False   \n",
       "10       0008_02     Europa      True     B/1/P  TRAPPIST-1e  34.0  False   \n",
       "15       0012_01      Earth     False       NaN  TRAPPIST-1e  31.0  False   \n",
       "16       0014_01       Mars     False     F/3/P  55 Cancri e  27.0  False   \n",
       "23       0020_03      Earth      True     E/0/S  55 Cancri e  29.0  False   \n",
       "...          ...        ...       ...       ...          ...   ...    ...   \n",
       "8667     9250_01     Europa     False   E/597/P  TRAPPIST-1e  29.0  False   \n",
       "8674     9257_01        NaN     False  F/1892/P  TRAPPIST-1e  13.0  False   \n",
       "8675     9259_01      Earth       NaN  F/1893/P  TRAPPIST-1e  44.0  False   \n",
       "8684     9274_01        NaN      True  G/1508/P  TRAPPIST-1e  23.0  False   \n",
       "8687     9275_03     Europa       NaN    A/97/P  TRAPPIST-1e  30.0  False   \n",
       "\n",
       "      RoomService  FoodCourt  ShoppingMall   Spa  VRDeck                Name  \\\n",
       "7             0.0        0.0           0.0   0.0     NaN  Candra Jacostaffey   \n",
       "10            0.0        0.0           NaN   0.0     0.0      Altardr Flatic   \n",
       "15           32.0        0.0         876.0   0.0     0.0       Justie Pooles   \n",
       "16         1286.0      122.0           NaN   0.0     0.0         Flats Eccle   \n",
       "23            0.0        0.0           NaN   0.0     0.0  Mollen Mcfaddennon   \n",
       "...           ...        ...           ...   ...     ...                 ...   \n",
       "8667          0.0     2972.0           NaN  28.0   188.0    Chain Reedectied   \n",
       "8674         39.0        0.0        1085.0  24.0     0.0          Ties Apple   \n",
       "8675       1030.0     1015.0           0.0  11.0     NaN     Annah Gilleyons   \n",
       "8684          0.0        0.0           0.0   0.0     0.0     Chelsa Bullisey   \n",
       "8687          0.0     3208.0           0.0   2.0   330.0     Atlasym Conable   \n",
       "\n",
       "      Transported  \n",
       "7            True  \n",
       "10           True  \n",
       "15          False  \n",
       "16          False  \n",
       "23          False  \n",
       "...           ...  \n",
       "8667         True  \n",
       "8674        False  \n",
       "8675         True  \n",
       "8684         True  \n",
       "8687         True  \n",
       "\n",
       "[2087 rows x 14 columns]"
      ]
     },
     "execution_count": 7,
     "metadata": {},
     "output_type": "execute_result"
    }
   ],
   "source": [
    "train[train.isna().any(axis=1)]"
   ]
  },
  {
   "cell_type": "code",
   "execution_count": 8,
   "id": "19a66967",
   "metadata": {
    "execution": {
     "iopub.execute_input": "2022-05-25T15:11:52.627449Z",
     "iopub.status.busy": "2022-05-25T15:11:52.627193Z",
     "iopub.status.idle": "2022-05-25T15:11:53.034246Z",
     "shell.execute_reply": "2022-05-25T15:11:53.033673Z"
    },
    "papermill": {
     "duration": 0.499433,
     "end_time": "2022-05-25T15:11:53.036109",
     "exception": false,
     "start_time": "2022-05-25T15:11:52.536676",
     "status": "completed"
    },
    "tags": []
   },
   "outputs": [
    {
     "data": {
      "text/plain": [
       "<AxesSubplot:xlabel='HomePlanet', ylabel='Transported'>"
      ]
     },
     "execution_count": 8,
     "metadata": {},
     "output_type": "execute_result"
    },
    {
     "data": {
      "image/png": "[encoded data removed]",
      "text/plain": [
       "<Figure size 432x288 with 1 Axes>"
      ]
     },
     "metadata": {
      "needs_background": "light"
     },
     "output_type": "display_data"
    }
   ],
   "source": [
    "#unique values of HomePlanet\n",
    "train['HomePlanet'].unique()\n",
    "train['HomePlanet']\n",
    "sns.barplot(data=train,x='HomePlanet',y='Transported')"
   ]
  },
  {
   "cell_type": "code",
   "execution_count": 9,
   "id": "201e92f8",
   "metadata": {
    "execution": {
     "iopub.execute_input": "2022-05-25T15:11:53.216549Z",
     "iopub.status.busy": "2022-05-25T15:11:53.216287Z",
     "iopub.status.idle": "2022-05-25T15:11:53.592982Z",
     "shell.execute_reply": "2022-05-25T15:11:53.592082Z"
    },
    "papermill": {
     "duration": 0.468918,
     "end_time": "2022-05-25T15:11:53.595143",
     "exception": false,
     "start_time": "2022-05-25T15:11:53.126225",
     "status": "completed"
    },
    "tags": []
   },
   "outputs": [
    {
     "data": {
      "text/plain": [
       "<AxesSubplot:xlabel='Destination', ylabel='Transported'>"
      ]
     },
     "execution_count": 9,
     "metadata": {},
     "output_type": "execute_result"
    },
    {
     "data": {
      "image/png": "[encoded data removed]",
      "text/plain": [
       "<Figure size 432x288 with 1 Axes>"
      ]
     },
     "metadata": {
      "needs_background": "light"
     },
     "output_type": "display_data"
    }
   ],
   "source": [
    "#unique values of Destination\n",
    "train['Destination'].unique()\n",
    "sns.barplot(data=train,x='Destination',y='Transported')"
   ]
  },
  {
   "cell_type": "code",
   "execution_count": 10,
   "id": "fc75b41a",
   "metadata": {
    "execution": {
     "iopub.execute_input": "2022-05-25T15:11:53.781152Z",
     "iopub.status.busy": "2022-05-25T15:11:53.780303Z",
     "iopub.status.idle": "2022-05-25T15:11:53.820428Z",
     "shell.execute_reply": "2022-05-25T15:11:53.819655Z"
    },
    "papermill": {
     "duration": 0.133678,
     "end_time": "2022-05-25T15:11:53.822334",
     "exception": false,
     "start_time": "2022-05-25T15:11:53.688656",
     "status": "completed"
    },
    "tags": []
   },
   "outputs": [
    {
     "data": {
      "text/plain": [
       "Index(['PassengerId', 'HomePlanet', 'CryoSleep', 'Cabin', 'Destination', 'Age',\n",
       "       'VIP', 'RoomService', 'FoodCourt', 'ShoppingMall', 'Spa', 'VRDeck',\n",
       "       'Name', 'Transported', 'Deck', 'Number', 'Side', 'AgeGroup'],\n",
       "      dtype='object')"
      ]
     },
     "execution_count": 10,
     "metadata": {},
     "output_type": "execute_result"
    }
   ],
   "source": [
    "#splitting the deck feature into 3 features- Deck,Number,Cabin\n",
    "train[['Deck', 'Number', 'Side']] = train['Cabin'].str.split(\"/\", expand=True)\n",
    "test[['Deck', 'Number', 'Side']] = test['Cabin'].str.split(\"/\", expand=True)\n",
    "#Age feature into ranges\n",
    "bins=[0,13,18,25,200]\n",
    "labels=['<=13','13-18','18-25','>25']\n",
    "train['AgeGroup'] = pd.cut(train['Age'], bins=bins, labels=labels, right=False)\n",
    "test['AgeGroup'] = pd.cut(test['Age'], bins=bins, labels=labels, right=False)\n",
    "train.columns"
   ]
  },
  {
   "cell_type": "code",
   "execution_count": 11,
   "id": "5b4ebbc9",
   "metadata": {
    "execution": {
     "iopub.execute_input": "2022-05-25T15:11:54.005384Z",
     "iopub.status.busy": "2022-05-25T15:11:54.005135Z",
     "iopub.status.idle": "2022-05-25T15:11:54.019805Z",
     "shell.execute_reply": "2022-05-25T15:11:54.018908Z"
    },
    "papermill": {
     "duration": 0.107765,
     "end_time": "2022-05-25T15:11:54.021589",
     "exception": false,
     "start_time": "2022-05-25T15:11:53.913824",
     "status": "completed"
    },
    "tags": []
   },
   "outputs": [],
   "source": [
    "#replacing name with last name\n",
    "train['Name']=train['Name'].apply(lambda x:str(x).split(\" \")[-1])\n",
    "test['Name']=test['Name'].apply(lambda x:str(x).split(\" \")[-1])"
   ]
  },
  {
   "cell_type": "code",
   "execution_count": 12,
   "id": "8d081281",
   "metadata": {
    "execution": {
     "iopub.execute_input": "2022-05-25T15:11:54.203968Z",
     "iopub.status.busy": "2022-05-25T15:11:54.203713Z",
     "iopub.status.idle": "2022-05-25T15:11:54.222105Z",
     "shell.execute_reply": "2022-05-25T15:11:54.221513Z"
    },
    "papermill": {
     "duration": 0.110945,
     "end_time": "2022-05-25T15:11:54.223945",
     "exception": false,
     "start_time": "2022-05-25T15:11:54.113000",
     "status": "completed"
    },
    "tags": []
   },
   "outputs": [
    {
     "data": {
      "text/plain": [
       "PassengerId       0\n",
       "HomePlanet      201\n",
       "CryoSleep       217\n",
       "Cabin           199\n",
       "Destination     182\n",
       "Age             179\n",
       "VIP             203\n",
       "RoomService     181\n",
       "FoodCourt       183\n",
       "ShoppingMall    208\n",
       "Spa             183\n",
       "VRDeck          188\n",
       "Name              0\n",
       "Transported       0\n",
       "Deck            199\n",
       "Number          199\n",
       "Side            199\n",
       "AgeGroup        179\n",
       "dtype: int64"
      ]
     },
     "execution_count": 12,
     "metadata": {},
     "output_type": "execute_result"
    }
   ],
   "source": [
    "train.isnull().sum()"
   ]
  },
  {
   "cell_type": "markdown",
   "id": "33f5fa9a",
   "metadata": {
    "execution": {
     "iopub.execute_input": "2022-05-06T19:10:20.693027Z",
     "iopub.status.busy": "2022-05-06T19:10:20.692464Z",
     "iopub.status.idle": "2022-05-06T19:10:20.698837Z",
     "shell.execute_reply": "2022-05-06T19:10:20.697719Z",
     "shell.execute_reply.started": "2022-05-06T19:10:20.692983Z"
    },
    "papermill": {
     "duration": 0.090643,
     "end_time": "2022-05-25T15:11:54.405967",
     "exception": false,
     "start_time": "2022-05-25T15:11:54.315324",
     "status": "completed"
    },
    "tags": []
   },
   "source": [
    "# Preprocessing the data"
   ]
  },
  {
   "cell_type": "code",
   "execution_count": 13,
   "id": "5477b0b8",
   "metadata": {
    "execution": {
     "iopub.execute_input": "2022-05-25T15:11:54.589271Z",
     "iopub.status.busy": "2022-05-25T15:11:54.588805Z",
     "iopub.status.idle": "2022-05-25T15:11:54.591526Z",
     "shell.execute_reply": "2022-05-25T15:11:54.591050Z"
    },
    "papermill": {
     "duration": 0.096444,
     "end_time": "2022-05-25T15:11:54.593224",
     "exception": false,
     "start_time": "2022-05-25T15:11:54.496780",
     "status": "completed"
    },
    "tags": []
   },
   "outputs": [],
   "source": [
    "###Precprocessing\n",
    "#filling the missing values"
   ]
  },
  {
   "cell_type": "code",
   "execution_count": 14,
   "id": "dc7af6ba",
   "metadata": {
    "execution": {
     "iopub.execute_input": "2022-05-25T15:11:54.776281Z",
     "iopub.status.busy": "2022-05-25T15:11:54.775772Z",
     "iopub.status.idle": "2022-05-25T15:13:21.205355Z",
     "shell.execute_reply": "2022-05-25T15:13:21.204509Z"
    },
    "papermill": {
     "duration": 86.523888,
     "end_time": "2022-05-25T15:13:21.207884",
     "exception": false,
     "start_time": "2022-05-25T15:11:54.683996",
     "status": "completed"
    },
    "tags": []
   },
   "outputs": [],
   "source": [
    "#two new variables- group_id- group number\n",
    "#id_in_group- passenger number in that group\n",
    "train[['group_id', 'id_in_group']]=train['PassengerId'].str.split(\"_\", expand=True)\n",
    "test[['group_id', 'id_in_group']]=test['PassengerId'].str.split(\"_\", expand=True)\n",
    "#another feature total_in_group- number of passengers in that group\n",
    "train['total_in_group']=train['group_id'].map(lambda x: pd.concat([train['group_id'],test['group_id']]).value_counts()[x])\n",
    "test['total_in_group']=test['group_id'].map(lambda x: pd.concat([train['group_id'],test['group_id']]).value_counts()[x])\n",
    "#from below output it is clear that within group numbers have same HomePlanet\n",
    "# because train['group_id'].nunique()- 201(nan values of Homeplanet)== number of rows (6107)\n",
    "#every group has only one HomePlanet\n",
    "#within same group has different destinations"
   ]
  },
  {
   "cell_type": "code",
   "execution_count": 15,
   "id": "1cef4797",
   "metadata": {
    "execution": {
     "iopub.execute_input": "2022-05-25T15:13:21.389055Z",
     "iopub.status.busy": "2022-05-25T15:13:21.388762Z",
     "iopub.status.idle": "2022-05-25T15:13:28.110022Z",
     "shell.execute_reply": "2022-05-25T15:13:28.109181Z"
    },
    "papermill": {
     "duration": 6.814553,
     "end_time": "2022-05-25T15:13:28.112363",
     "exception": false,
     "start_time": "2022-05-25T15:13:21.297810",
     "status": "completed"
    },
    "tags": []
   },
   "outputs": [],
   "source": [
    "#nan values for cabin,number and side\n",
    "train[['Deck','Number','Side']]=train.groupby('group_id')[['Deck','Number','Side']].fillna(method='ffill').fillna(np.nan)\n",
    "test[['Deck','Number','Side']]=test.groupby('group_id')[['Deck','Number','Side']].fillna(method='ffill').fillna(np.nan)\n",
    "#train[['Deck','Number','Side']]=train.groupby('Name')[['Deck','Number','Side']].fillna(method='ffill').fillna(np.nan)\n",
    "#test[['Deck','Number','Side']]=test.groupby('Name')[['Deck','Number','Side']].fillna(method='ffill').fillna(np.nan)"
   ]
  },
  {
   "cell_type": "code",
   "execution_count": 16,
   "id": "e7ab46ef",
   "metadata": {
    "execution": {
     "iopub.execute_input": "2022-05-25T15:13:28.295383Z",
     "iopub.status.busy": "2022-05-25T15:13:28.294969Z",
     "iopub.status.idle": "2022-05-25T15:13:30.678119Z",
     "shell.execute_reply": "2022-05-25T15:13:30.677321Z"
    },
    "papermill": {
     "duration": 2.477538,
     "end_time": "2022-05-25T15:13:30.680091",
     "exception": false,
     "start_time": "2022-05-25T15:13:28.202553",
     "status": "completed"
    },
    "tags": []
   },
   "outputs": [
    {
     "data": {
      "text/html": [
       "<div>\n",
       "<style scoped>\n",
       "    .dataframe tbody tr th:only-of-type {\n",
       "        vertical-align: middle;\n",
       "    }\n",
       "\n",
       "    .dataframe tbody tr th {\n",
       "        vertical-align: top;\n",
       "    }\n",
       "\n",
       "    .dataframe thead th {\n",
       "        text-align: right;\n",
       "    }\n",
       "</style>\n",
       "<table border=\"1\" class=\"dataframe\">\n",
       "  <thead>\n",
       "    <tr style=\"text-align: right;\">\n",
       "      <th></th>\n",
       "      <th>HomePlanet</th>\n",
       "      <th>Deck</th>\n",
       "      <th>0</th>\n",
       "    </tr>\n",
       "  </thead>\n",
       "  <tbody>\n",
       "    <tr>\n",
       "      <th>0</th>\n",
       "      <td>Earth</td>\n",
       "      <td>E</td>\n",
       "      <td>402</td>\n",
       "    </tr>\n",
       "    <tr>\n",
       "      <th>1</th>\n",
       "      <td>Earth</td>\n",
       "      <td>F</td>\n",
       "      <td>1623</td>\n",
       "    </tr>\n",
       "    <tr>\n",
       "      <th>2</th>\n",
       "      <td>Earth</td>\n",
       "      <td>G</td>\n",
       "      <td>2531</td>\n",
       "    </tr>\n",
       "    <tr>\n",
       "      <th>3</th>\n",
       "      <td>Europa</td>\n",
       "      <td>A</td>\n",
       "      <td>258</td>\n",
       "    </tr>\n",
       "    <tr>\n",
       "      <th>4</th>\n",
       "      <td>Europa</td>\n",
       "      <td>B</td>\n",
       "      <td>786</td>\n",
       "    </tr>\n",
       "    <tr>\n",
       "      <th>5</th>\n",
       "      <td>Europa</td>\n",
       "      <td>C</td>\n",
       "      <td>753</td>\n",
       "    </tr>\n",
       "    <tr>\n",
       "      <th>6</th>\n",
       "      <td>Europa</td>\n",
       "      <td>D</td>\n",
       "      <td>190</td>\n",
       "    </tr>\n",
       "    <tr>\n",
       "      <th>7</th>\n",
       "      <td>Europa</td>\n",
       "      <td>E</td>\n",
       "      <td>129</td>\n",
       "    </tr>\n",
       "    <tr>\n",
       "      <th>8</th>\n",
       "      <td>Europa</td>\n",
       "      <td>T</td>\n",
       "      <td>4</td>\n",
       "    </tr>\n",
       "    <tr>\n",
       "      <th>9</th>\n",
       "      <td>Mars</td>\n",
       "      <td>D</td>\n",
       "      <td>287</td>\n",
       "    </tr>\n",
       "    <tr>\n",
       "      <th>10</th>\n",
       "      <td>Mars</td>\n",
       "      <td>E</td>\n",
       "      <td>336</td>\n",
       "    </tr>\n",
       "    <tr>\n",
       "      <th>11</th>\n",
       "      <td>Mars</td>\n",
       "      <td>F</td>\n",
       "      <td>1122</td>\n",
       "    </tr>\n",
       "  </tbody>\n",
       "</table>\n",
       "</div>"
      ],
      "text/plain": [
       "   HomePlanet Deck     0\n",
       "0       Earth    E   402\n",
       "1       Earth    F  1623\n",
       "2       Earth    G  2531\n",
       "3      Europa    A   258\n",
       "4      Europa    B   786\n",
       "5      Europa    C   753\n",
       "6      Europa    D   190\n",
       "7      Europa    E   129\n",
       "8      Europa    T     4\n",
       "9        Mars    D   287\n",
       "10       Mars    E   336\n",
       "11       Mars    F  1122"
      ]
     },
     "execution_count": 16,
     "metadata": {},
     "output_type": "execute_result"
    }
   ],
   "source": [
    "#fill nan values in HomePlanet based on previous conclusion\n",
    "#remaining values with nan\n",
    "train['HomePlanet'] = train.groupby('group_id')['HomePlanet'].fillna(method='ffill').fillna(np.nan)\n",
    "test['HomePlanet']=test.groupby('group_id')['HomePlanet'].fillna(method='ffill').fillna(np.nan)\n",
    "train[['Deck','Number','Side','HomePlanet']].groupby(['HomePlanet','Deck']).size().reset_index()"
   ]
  },
  {
   "cell_type": "code",
   "execution_count": 17,
   "id": "94179035",
   "metadata": {
    "execution": {
     "iopub.execute_input": "2022-05-25T15:13:30.865544Z",
     "iopub.status.busy": "2022-05-25T15:13:30.865255Z",
     "iopub.status.idle": "2022-05-25T15:13:31.125030Z",
     "shell.execute_reply": "2022-05-25T15:13:31.124066Z"
    },
    "papermill": {
     "duration": 0.355612,
     "end_time": "2022-05-25T15:13:31.127559",
     "exception": false,
     "start_time": "2022-05-25T15:13:30.771947",
     "status": "completed"
    },
    "tags": []
   },
   "outputs": [],
   "source": [
    "#Deck values Earth- G,E,F\n",
    "#            Europa- A,B,C,D,E,T\n",
    "#            Mars- D,E,F\n",
    "def some(x):\n",
    "    if pd.isnull(x['HomePlanet']):\n",
    "        if x['Deck']=='G':\n",
    "            return 'Earth'\n",
    "        elif x['Deck']=='T':\n",
    "            return 'Europa'\n",
    "    else:\n",
    "        return x['HomePlanet']\n",
    "train['HomePlanet'] = train.apply(some,axis=1)\n",
    "test['HomePlanet']=test.apply(some,axis=1)"
   ]
  },
  {
   "cell_type": "code",
   "execution_count": 18,
   "id": "f8fdb87e",
   "metadata": {
    "execution": {
     "iopub.execute_input": "2022-05-25T15:13:31.310952Z",
     "iopub.status.busy": "2022-05-25T15:13:31.310610Z",
     "iopub.status.idle": "2022-05-25T15:13:31.328348Z",
     "shell.execute_reply": "2022-05-25T15:13:31.327503Z"
    },
    "papermill": {
     "duration": 0.111387,
     "end_time": "2022-05-25T15:13:31.330379",
     "exception": false,
     "start_time": "2022-05-25T15:13:31.218992",
     "status": "completed"
    },
    "tags": []
   },
   "outputs": [
    {
     "data": {
      "text/html": [
       "<div>\n",
       "<style scoped>\n",
       "    .dataframe tbody tr th:only-of-type {\n",
       "        vertical-align: middle;\n",
       "    }\n",
       "\n",
       "    .dataframe tbody tr th {\n",
       "        vertical-align: top;\n",
       "    }\n",
       "\n",
       "    .dataframe thead th {\n",
       "        text-align: right;\n",
       "    }\n",
       "</style>\n",
       "<table border=\"1\" class=\"dataframe\">\n",
       "  <thead>\n",
       "    <tr style=\"text-align: right;\">\n",
       "      <th></th>\n",
       "      <th>HomePlanet</th>\n",
       "      <th>VIP</th>\n",
       "      <th>0</th>\n",
       "    </tr>\n",
       "  </thead>\n",
       "  <tbody>\n",
       "    <tr>\n",
       "      <th>0</th>\n",
       "      <td>Earth</td>\n",
       "      <td>False</td>\n",
       "      <td>4555</td>\n",
       "    </tr>\n",
       "    <tr>\n",
       "      <th>1</th>\n",
       "      <td>Europa</td>\n",
       "      <td>False</td>\n",
       "      <td>1980</td>\n",
       "    </tr>\n",
       "    <tr>\n",
       "      <th>2</th>\n",
       "      <td>Europa</td>\n",
       "      <td>True</td>\n",
       "      <td>132</td>\n",
       "    </tr>\n",
       "    <tr>\n",
       "      <th>3</th>\n",
       "      <td>Mars</td>\n",
       "      <td>False</td>\n",
       "      <td>1669</td>\n",
       "    </tr>\n",
       "    <tr>\n",
       "      <th>4</th>\n",
       "      <td>Mars</td>\n",
       "      <td>True</td>\n",
       "      <td>64</td>\n",
       "    </tr>\n",
       "  </tbody>\n",
       "</table>\n",
       "</div>"
      ],
      "text/plain": [
       "  HomePlanet    VIP     0\n",
       "0      Earth  False  4555\n",
       "1     Europa  False  1980\n",
       "2     Europa   True   132\n",
       "3       Mars  False  1669\n",
       "4       Mars   True    64"
      ]
     },
     "execution_count": 18,
     "metadata": {},
     "output_type": "execute_result"
    }
   ],
   "source": [
    "train[['HomePlanet','VIP']].groupby(['HomePlanet','VIP']).size().reset_index()\n",
    "#Earth has no VIPs"
   ]
  },
  {
   "cell_type": "code",
   "execution_count": 19,
   "id": "539f7fd5",
   "metadata": {
    "execution": {
     "iopub.execute_input": "2022-05-25T15:13:31.516789Z",
     "iopub.status.busy": "2022-05-25T15:13:31.516270Z",
     "iopub.status.idle": "2022-05-25T15:13:31.531883Z",
     "shell.execute_reply": "2022-05-25T15:13:31.530904Z"
    },
    "papermill": {
     "duration": 0.110903,
     "end_time": "2022-05-25T15:13:31.534007",
     "exception": false,
     "start_time": "2022-05-25T15:13:31.423104",
     "status": "completed"
    },
    "tags": []
   },
   "outputs": [],
   "source": [
    "#fill the nan values of VIP based on previous conclusion\n",
    "train.loc[train['HomePlanet']=='Earth','VIP']=train.loc[train['HomePlanet']=='Earth','VIP'].fillna(False)\n",
    "test.loc[test['HomePlanet']=='Earth','VIP']=test.loc[test['HomePlanet']=='Earth','VIP'].fillna(False)"
   ]
  },
  {
   "cell_type": "code",
   "execution_count": 20,
   "id": "8c5f9556",
   "metadata": {
    "execution": {
     "iopub.execute_input": "2022-05-25T15:13:31.719447Z",
     "iopub.status.busy": "2022-05-25T15:13:31.719170Z",
     "iopub.status.idle": "2022-05-25T15:13:31.722592Z",
     "shell.execute_reply": "2022-05-25T15:13:31.721852Z"
    },
    "papermill": {
     "duration": 0.09861,
     "end_time": "2022-05-25T15:13:31.724539",
     "exception": false,
     "start_time": "2022-05-25T15:13:31.625929",
     "status": "completed"
    },
    "tags": []
   },
   "outputs": [],
   "source": [
    "#train['CryoSleep'].fillna(False,inplace=True)\n",
    "#test['CryoSleep'].fillna(False,inplace=True)"
   ]
  },
  {
   "cell_type": "code",
   "execution_count": 21,
   "id": "e37cbfe6",
   "metadata": {
    "execution": {
     "iopub.execute_input": "2022-05-25T15:13:31.909085Z",
     "iopub.status.busy": "2022-05-25T15:13:31.908786Z",
     "iopub.status.idle": "2022-05-25T15:13:32.299365Z",
     "shell.execute_reply": "2022-05-25T15:13:32.298780Z"
    },
    "papermill": {
     "duration": 0.48561,
     "end_time": "2022-05-25T15:13:32.301124",
     "exception": false,
     "start_time": "2022-05-25T15:13:31.815514",
     "status": "completed"
    },
    "tags": []
   },
   "outputs": [
    {
     "data": {
      "text/plain": [
       "<AxesSubplot:xlabel='AgeGroup', ylabel='total_expenses'>"
      ]
     },
     "execution_count": 21,
     "metadata": {},
     "output_type": "execute_result"
    },
    {
     "data": {
      "image/png": "[encoded data removed]",
      "text/plain": [
       "<Figure size 432x288 with 1 Axes>"
      ]
     },
     "metadata": {
      "needs_background": "light"
     },
     "output_type": "display_data"
    }
   ],
   "source": [
    "##Replacing expenses NAN values with zero\n",
    "#train.fillna({'RoomService':0, 'FoodCourt':0, 'ShoppingMall':0, 'Spa':0, 'VRDeck':0},inplace=True)\n",
    "#making all separate expenses into single column \"total_expenses\"\n",
    "train['total_expenses']=train.iloc[:,7:12].sum(axis=1,skipna=False)\n",
    "test['total_expenses']=test.iloc[:,7:12].sum(axis=1,skipna=False)\n",
    "sns.barplot(data=train,x='AgeGroup',y='total_expenses')\n",
    "#clearly children have no bill"
   ]
  },
  {
   "cell_type": "code",
   "execution_count": 22,
   "id": "c27daf06",
   "metadata": {
    "execution": {
     "iopub.execute_input": "2022-05-25T15:13:32.486798Z",
     "iopub.status.busy": "2022-05-25T15:13:32.486292Z",
     "iopub.status.idle": "2022-05-25T15:13:32.799935Z",
     "shell.execute_reply": "2022-05-25T15:13:32.799082Z"
    },
    "papermill": {
     "duration": 0.408564,
     "end_time": "2022-05-25T15:13:32.801938",
     "exception": false,
     "start_time": "2022-05-25T15:13:32.393374",
     "status": "completed"
    },
    "tags": []
   },
   "outputs": [
    {
     "data": {
      "text/plain": [
       "<AxesSubplot:xlabel='CryoSleep', ylabel='total_expenses'>"
      ]
     },
     "execution_count": 22,
     "metadata": {},
     "output_type": "execute_result"
    },
    {
     "data": {
      "image/png": "[encoded data removed]",
      "text/plain": [
       "<Figure size 432x288 with 1 Axes>"
      ]
     },
     "metadata": {
      "needs_background": "light"
     },
     "output_type": "display_data"
    }
   ],
   "source": [
    "sns.barplot(data=train,x='CryoSleep',y='total_expenses')\n",
    "#Cryosleep passengers have no bills"
   ]
  },
  {
   "cell_type": "code",
   "execution_count": 23,
   "id": "91ec858f",
   "metadata": {
    "execution": {
     "iopub.execute_input": "2022-05-25T15:13:32.992284Z",
     "iopub.status.busy": "2022-05-25T15:13:32.991986Z",
     "iopub.status.idle": "2022-05-25T15:13:33.013564Z",
     "shell.execute_reply": "2022-05-25T15:13:33.012764Z"
    },
    "papermill": {
     "duration": 0.11908,
     "end_time": "2022-05-25T15:13:33.015554",
     "exception": false,
     "start_time": "2022-05-25T15:13:32.896474",
     "status": "completed"
    },
    "tags": []
   },
   "outputs": [
    {
     "data": {
      "text/plain": [
       "PassengerId         0\n",
       "HomePlanet         92\n",
       "CryoSleep         217\n",
       "Cabin             199\n",
       "Destination       182\n",
       "Age               179\n",
       "VIP                87\n",
       "RoomService       181\n",
       "FoodCourt         183\n",
       "ShoppingMall      208\n",
       "Spa               183\n",
       "VRDeck            188\n",
       "Name                0\n",
       "Transported         0\n",
       "Deck              134\n",
       "Number            134\n",
       "Side              134\n",
       "AgeGroup          179\n",
       "group_id            0\n",
       "id_in_group         0\n",
       "total_in_group      0\n",
       "total_expenses    908\n",
       "dtype: int64"
      ]
     },
     "execution_count": 23,
     "metadata": {},
     "output_type": "execute_result"
    }
   ],
   "source": [
    "train.isnull().sum()"
   ]
  },
  {
   "cell_type": "code",
   "execution_count": 24,
   "id": "14363707",
   "metadata": {
    "execution": {
     "iopub.execute_input": "2022-05-25T15:13:33.209429Z",
     "iopub.status.busy": "2022-05-25T15:13:33.209028Z",
     "iopub.status.idle": "2022-05-25T15:13:33.250784Z",
     "shell.execute_reply": "2022-05-25T15:13:33.249985Z"
    },
    "papermill": {
     "duration": 0.141022,
     "end_time": "2022-05-25T15:13:33.252877",
     "exception": false,
     "start_time": "2022-05-25T15:13:33.111855",
     "status": "completed"
    },
    "tags": []
   },
   "outputs": [
    {
     "data": {
      "text/html": [
       "<div>\n",
       "<style scoped>\n",
       "    .dataframe tbody tr th:only-of-type {\n",
       "        vertical-align: middle;\n",
       "    }\n",
       "\n",
       "    .dataframe tbody tr th {\n",
       "        vertical-align: top;\n",
       "    }\n",
       "\n",
       "    .dataframe thead th {\n",
       "        text-align: right;\n",
       "    }\n",
       "</style>\n",
       "<table border=\"1\" class=\"dataframe\">\n",
       "  <thead>\n",
       "    <tr style=\"text-align: right;\">\n",
       "      <th></th>\n",
       "      <th>VIP</th>\n",
       "      <th>AgeGroup</th>\n",
       "      <th>0</th>\n",
       "    </tr>\n",
       "  </thead>\n",
       "  <tbody>\n",
       "    <tr>\n",
       "      <th>0</th>\n",
       "      <td>False</td>\n",
       "      <td>&lt;=13</td>\n",
       "      <td>800</td>\n",
       "    </tr>\n",
       "    <tr>\n",
       "      <th>1</th>\n",
       "      <td>False</td>\n",
       "      <td>13-18</td>\n",
       "      <td>733</td>\n",
       "    </tr>\n",
       "    <tr>\n",
       "      <th>2</th>\n",
       "      <td>False</td>\n",
       "      <td>18-25</td>\n",
       "      <td>2094</td>\n",
       "    </tr>\n",
       "    <tr>\n",
       "      <th>3</th>\n",
       "      <td>False</td>\n",
       "      <td>&gt;25</td>\n",
       "      <td>4604</td>\n",
       "    </tr>\n",
       "    <tr>\n",
       "      <th>4</th>\n",
       "      <td>True</td>\n",
       "      <td>&lt;=13</td>\n",
       "      <td>0</td>\n",
       "    </tr>\n",
       "    <tr>\n",
       "      <th>5</th>\n",
       "      <td>True</td>\n",
       "      <td>13-18</td>\n",
       "      <td>0</td>\n",
       "    </tr>\n",
       "    <tr>\n",
       "      <th>6</th>\n",
       "      <td>True</td>\n",
       "      <td>18-25</td>\n",
       "      <td>4</td>\n",
       "    </tr>\n",
       "    <tr>\n",
       "      <th>7</th>\n",
       "      <td>True</td>\n",
       "      <td>&gt;25</td>\n",
       "      <td>194</td>\n",
       "    </tr>\n",
       "  </tbody>\n",
       "</table>\n",
       "</div>"
      ],
      "text/plain": [
       "     VIP AgeGroup     0\n",
       "0  False     <=13   800\n",
       "1  False    13-18   733\n",
       "2  False    18-25  2094\n",
       "3  False      >25  4604\n",
       "4   True     <=13     0\n",
       "5   True    13-18     0\n",
       "6   True    18-25     4\n",
       "7   True      >25   194"
      ]
     },
     "execution_count": 24,
     "metadata": {},
     "output_type": "execute_result"
    }
   ],
   "source": [
    "#for all services\n",
    "cond5=(train['AgeGroup']=='0-13')|(train['CryoSleep']==True)\n",
    "cond6=(test['AgeGroup']=='0-13')|(test['CryoSleep']==True)\n",
    "train.loc[cond5,'RoomService']=train.loc[cond5,'RoomService'].fillna(0)\n",
    "test.loc[cond6,'RoomService']=test.loc[cond6,'RoomService'].fillna(0)\n",
    "\n",
    "train.loc[cond5,'FoodCourt']=train.loc[cond5,'FoodCourt'].fillna(0)\n",
    "test.loc[cond6,'FoodCourt']=test.loc[cond6,'FoodCourt'].fillna(0)\n",
    "\n",
    "train.loc[cond5,'ShoppingMall']=train.loc[cond5,'ShoppingMall'].fillna(0)\n",
    "test.loc[cond6,'ShoppingMall']=test.loc[cond6,'ShoppingMall'].fillna(0)\n",
    "\n",
    "train.loc[cond5,'Spa']=train.loc[cond5,'Spa'].fillna(0)\n",
    "test.loc[cond6,'Spa']=test.loc[cond6,'Spa'].fillna(0)\n",
    "\n",
    "train.loc[cond5,'VRDeck']=train.loc[cond5,'VRDeck'].fillna(0)\n",
    "test.loc[cond6,'VRDeck']=test.loc[cond6,'VRDeck'].fillna(0)\n",
    "\n",
    "#AgeGroup vs VIP\n",
    "train[['VIP','AgeGroup']].groupby(['VIP','AgeGroup']).size().reset_index()\n",
    "#all VIPs are adults(>18)"
   ]
  },
  {
   "cell_type": "code",
   "execution_count": 25,
   "id": "f7c8c0aa",
   "metadata": {
    "execution": {
     "iopub.execute_input": "2022-05-25T15:13:33.448468Z",
     "iopub.status.busy": "2022-05-25T15:13:33.448063Z",
     "iopub.status.idle": "2022-05-25T15:13:33.451530Z",
     "shell.execute_reply": "2022-05-25T15:13:33.450992Z"
    },
    "papermill": {
     "duration": 0.103625,
     "end_time": "2022-05-25T15:13:33.453398",
     "exception": false,
     "start_time": "2022-05-25T15:13:33.349773",
     "status": "completed"
    },
    "tags": []
   },
   "outputs": [],
   "source": [
    "#nan values of VIP\n",
    "#most of the VIPs are above 25\n",
    "#train.loc[(train['AgeGroup']!='>25'),'VIP']=train.loc[(train['AgeGroup']!='>25'),'VIP'].fillna(False)\n",
    "#test.loc[(test['AgeGroup']!='>25'),'VIP']=test.loc[(test['AgeGroup']!='>25'),'VIP'].fillna(False)\n",
    "#train.isnull().sum()"
   ]
  },
  {
   "cell_type": "code",
   "execution_count": 26,
   "id": "904bb2d2",
   "metadata": {
    "execution": {
     "iopub.execute_input": "2022-05-25T15:13:33.645756Z",
     "iopub.status.busy": "2022-05-25T15:13:33.645264Z",
     "iopub.status.idle": "2022-05-25T15:13:36.296400Z",
     "shell.execute_reply": "2022-05-25T15:13:36.295521Z"
    },
    "papermill": {
     "duration": 2.750795,
     "end_time": "2022-05-25T15:13:36.298992",
     "exception": false,
     "start_time": "2022-05-25T15:13:33.548197",
     "status": "completed"
    },
    "tags": []
   },
   "outputs": [],
   "source": [
    "#same group often has same last name - mentioned in data description\n",
    "train['Name']=train.groupby('group_id')['Name'].fillna(method='ffill').fillna(np.nan)\n",
    "test['Name']=test.groupby('group_id')['Name'].fillna(method='ffill').fillna(np.nan)"
   ]
  },
  {
   "cell_type": "code",
   "execution_count": 27,
   "id": "395506cc",
   "metadata": {
    "execution": {
     "iopub.execute_input": "2022-05-25T15:13:36.496664Z",
     "iopub.status.busy": "2022-05-25T15:13:36.496230Z",
     "iopub.status.idle": "2022-05-25T15:13:36.733394Z",
     "shell.execute_reply": "2022-05-25T15:13:36.732519Z"
    },
    "papermill": {
     "duration": 0.337248,
     "end_time": "2022-05-25T15:13:36.735843",
     "exception": false,
     "start_time": "2022-05-25T15:13:36.398595",
     "status": "completed"
    },
    "tags": []
   },
   "outputs": [],
   "source": [
    "train[['AgeGroup','CryoSleep','total_expenses','Destination']].groupby(['AgeGroup','CryoSleep','total_expenses','Destination']).size().reset_index().query('total_expenses==0')\n",
    "#not child, no CryoSleep with no bill have destination TRAPPIST-1e\n",
    "cond1=((train['AgeGroup']!='<=13') & (train['CryoSleep']==False) &(train['total_expenses']==0))\n",
    "cond2=((test['AgeGroup']!='<=13') & (test['CryoSleep']==False) &(test['total_expenses']==0))\n",
    "train.loc[cond1,'Destination']=train.loc[cond1,'Destination'].fillna('TRAPPIST-1e')\n",
    "test.loc[cond2,'Destination']=test.loc[cond2,'Destination'].fillna('TRAPPIST-1e')"
   ]
  },
  {
   "cell_type": "code",
   "execution_count": 28,
   "id": "c391f7be",
   "metadata": {
    "execution": {
     "iopub.execute_input": "2022-05-25T15:13:36.937209Z",
     "iopub.status.busy": "2022-05-25T15:13:36.936768Z",
     "iopub.status.idle": "2022-05-25T15:13:36.956618Z",
     "shell.execute_reply": "2022-05-25T15:13:36.955777Z"
    },
    "papermill": {
     "duration": 0.124876,
     "end_time": "2022-05-25T15:13:36.958848",
     "exception": false,
     "start_time": "2022-05-25T15:13:36.833972",
     "status": "completed"
    },
    "tags": []
   },
   "outputs": [
    {
     "data": {
      "text/html": [
       "<div>\n",
       "<style scoped>\n",
       "    .dataframe tbody tr th:only-of-type {\n",
       "        vertical-align: middle;\n",
       "    }\n",
       "\n",
       "    .dataframe tbody tr th {\n",
       "        vertical-align: top;\n",
       "    }\n",
       "\n",
       "    .dataframe thead th {\n",
       "        text-align: right;\n",
       "    }\n",
       "</style>\n",
       "<table border=\"1\" class=\"dataframe\">\n",
       "  <thead>\n",
       "    <tr style=\"text-align: right;\">\n",
       "      <th></th>\n",
       "      <th>HomePlanet</th>\n",
       "      <th>Destination</th>\n",
       "      <th>Transported</th>\n",
       "    </tr>\n",
       "  </thead>\n",
       "  <tbody>\n",
       "    <tr>\n",
       "      <th>0</th>\n",
       "      <td>Earth</td>\n",
       "      <td>55 Cancri e</td>\n",
       "      <td>0.502874</td>\n",
       "    </tr>\n",
       "    <tr>\n",
       "      <th>1</th>\n",
       "      <td>Earth</td>\n",
       "      <td>PSO J318.5-22</td>\n",
       "      <td>0.502770</td>\n",
       "    </tr>\n",
       "    <tr>\n",
       "      <th>2</th>\n",
       "      <td>Earth</td>\n",
       "      <td>TRAPPIST-1e</td>\n",
       "      <td>0.389083</td>\n",
       "    </tr>\n",
       "    <tr>\n",
       "      <th>3</th>\n",
       "      <td>Europa</td>\n",
       "      <td>55 Cancri e</td>\n",
       "      <td>0.690929</td>\n",
       "    </tr>\n",
       "    <tr>\n",
       "      <th>4</th>\n",
       "      <td>Europa</td>\n",
       "      <td>PSO J318.5-22</td>\n",
       "      <td>0.736842</td>\n",
       "    </tr>\n",
       "    <tr>\n",
       "      <th>5</th>\n",
       "      <td>Europa</td>\n",
       "      <td>TRAPPIST-1e</td>\n",
       "      <td>0.637117</td>\n",
       "    </tr>\n",
       "    <tr>\n",
       "      <th>6</th>\n",
       "      <td>Mars</td>\n",
       "      <td>55 Cancri e</td>\n",
       "      <td>0.608247</td>\n",
       "    </tr>\n",
       "    <tr>\n",
       "      <th>7</th>\n",
       "      <td>Mars</td>\n",
       "      <td>PSO J318.5-22</td>\n",
       "      <td>0.440000</td>\n",
       "    </tr>\n",
       "    <tr>\n",
       "      <th>8</th>\n",
       "      <td>Mars</td>\n",
       "      <td>TRAPPIST-1e</td>\n",
       "      <td>0.512081</td>\n",
       "    </tr>\n",
       "  </tbody>\n",
       "</table>\n",
       "</div>"
      ],
      "text/plain": [
       "  HomePlanet    Destination  Transported\n",
       "0      Earth    55 Cancri e     0.502874\n",
       "1      Earth  PSO J318.5-22     0.502770\n",
       "2      Earth    TRAPPIST-1e     0.389083\n",
       "3     Europa    55 Cancri e     0.690929\n",
       "4     Europa  PSO J318.5-22     0.736842\n",
       "5     Europa    TRAPPIST-1e     0.637117\n",
       "6       Mars    55 Cancri e     0.608247\n",
       "7       Mars  PSO J318.5-22     0.440000\n",
       "8       Mars    TRAPPIST-1e     0.512081"
      ]
     },
     "execution_count": 28,
     "metadata": {},
     "output_type": "execute_result"
    }
   ],
   "source": [
    "#from homeplanet to destination\n",
    "train[['HomePlanet','Transported','Destination']].groupby(['HomePlanet','Destination']).mean().reset_index()"
   ]
  },
  {
   "cell_type": "code",
   "execution_count": 29,
   "id": "82967c1c",
   "metadata": {
    "execution": {
     "iopub.execute_input": "2022-05-25T15:13:37.159832Z",
     "iopub.status.busy": "2022-05-25T15:13:37.159530Z",
     "iopub.status.idle": "2022-05-25T15:13:37.185337Z",
     "shell.execute_reply": "2022-05-25T15:13:37.184528Z"
    },
    "papermill": {
     "duration": 0.131809,
     "end_time": "2022-05-25T15:13:37.187990",
     "exception": false,
     "start_time": "2022-05-25T15:13:37.056181",
     "status": "completed"
    },
    "tags": []
   },
   "outputs": [
    {
     "data": {
      "text/html": [
       "<div>\n",
       "<style scoped>\n",
       "    .dataframe tbody tr th:only-of-type {\n",
       "        vertical-align: middle;\n",
       "    }\n",
       "\n",
       "    .dataframe tbody tr th {\n",
       "        vertical-align: top;\n",
       "    }\n",
       "\n",
       "    .dataframe thead th {\n",
       "        text-align: right;\n",
       "    }\n",
       "</style>\n",
       "<table border=\"1\" class=\"dataframe\">\n",
       "  <thead>\n",
       "    <tr style=\"text-align: right;\">\n",
       "      <th></th>\n",
       "      <th>HomePlanet</th>\n",
       "      <th>Deck</th>\n",
       "      <th>0</th>\n",
       "    </tr>\n",
       "  </thead>\n",
       "  <tbody>\n",
       "    <tr>\n",
       "      <th>0</th>\n",
       "      <td>Earth</td>\n",
       "      <td>E</td>\n",
       "      <td>402</td>\n",
       "    </tr>\n",
       "    <tr>\n",
       "      <th>1</th>\n",
       "      <td>Earth</td>\n",
       "      <td>F</td>\n",
       "      <td>1623</td>\n",
       "    </tr>\n",
       "    <tr>\n",
       "      <th>2</th>\n",
       "      <td>Earth</td>\n",
       "      <td>G</td>\n",
       "      <td>2580</td>\n",
       "    </tr>\n",
       "    <tr>\n",
       "      <th>3</th>\n",
       "      <td>Europa</td>\n",
       "      <td>A</td>\n",
       "      <td>258</td>\n",
       "    </tr>\n",
       "    <tr>\n",
       "      <th>4</th>\n",
       "      <td>Europa</td>\n",
       "      <td>B</td>\n",
       "      <td>786</td>\n",
       "    </tr>\n",
       "    <tr>\n",
       "      <th>5</th>\n",
       "      <td>Europa</td>\n",
       "      <td>C</td>\n",
       "      <td>753</td>\n",
       "    </tr>\n",
       "    <tr>\n",
       "      <th>6</th>\n",
       "      <td>Europa</td>\n",
       "      <td>D</td>\n",
       "      <td>190</td>\n",
       "    </tr>\n",
       "    <tr>\n",
       "      <th>7</th>\n",
       "      <td>Europa</td>\n",
       "      <td>E</td>\n",
       "      <td>129</td>\n",
       "    </tr>\n",
       "    <tr>\n",
       "      <th>8</th>\n",
       "      <td>Europa</td>\n",
       "      <td>T</td>\n",
       "      <td>5</td>\n",
       "    </tr>\n",
       "    <tr>\n",
       "      <th>9</th>\n",
       "      <td>Mars</td>\n",
       "      <td>D</td>\n",
       "      <td>287</td>\n",
       "    </tr>\n",
       "    <tr>\n",
       "      <th>10</th>\n",
       "      <td>Mars</td>\n",
       "      <td>E</td>\n",
       "      <td>336</td>\n",
       "    </tr>\n",
       "    <tr>\n",
       "      <th>11</th>\n",
       "      <td>Mars</td>\n",
       "      <td>F</td>\n",
       "      <td>1122</td>\n",
       "    </tr>\n",
       "  </tbody>\n",
       "</table>\n",
       "</div>"
      ],
      "text/plain": [
       "   HomePlanet Deck     0\n",
       "0       Earth    E   402\n",
       "1       Earth    F  1623\n",
       "2       Earth    G  2580\n",
       "3      Europa    A   258\n",
       "4      Europa    B   786\n",
       "5      Europa    C   753\n",
       "6      Europa    D   190\n",
       "7      Europa    E   129\n",
       "8      Europa    T     5\n",
       "9        Mars    D   287\n",
       "10       Mars    E   336\n",
       "11       Mars    F  1122"
      ]
     },
     "execution_count": 29,
     "metadata": {},
     "output_type": "execute_result"
    }
   ],
   "source": [
    "train[['HomePlanet','Transported','Destination','Deck']].groupby(['HomePlanet','Deck']).size().reset_index()"
   ]
  },
  {
   "cell_type": "code",
   "execution_count": 30,
   "id": "6cee90ef",
   "metadata": {
    "execution": {
     "iopub.execute_input": "2022-05-25T15:13:37.398480Z",
     "iopub.status.busy": "2022-05-25T15:13:37.397842Z",
     "iopub.status.idle": "2022-05-25T15:13:37.422547Z",
     "shell.execute_reply": "2022-05-25T15:13:37.421759Z"
    },
    "papermill": {
     "duration": 0.126186,
     "end_time": "2022-05-25T15:13:37.424523",
     "exception": false,
     "start_time": "2022-05-25T15:13:37.298337",
     "status": "completed"
    },
    "tags": []
   },
   "outputs": [
    {
     "data": {
      "text/html": [
       "<div>\n",
       "<style scoped>\n",
       "    .dataframe tbody tr th:only-of-type {\n",
       "        vertical-align: middle;\n",
       "    }\n",
       "\n",
       "    .dataframe tbody tr th {\n",
       "        vertical-align: top;\n",
       "    }\n",
       "\n",
       "    .dataframe thead th {\n",
       "        text-align: right;\n",
       "    }\n",
       "</style>\n",
       "<table border=\"1\" class=\"dataframe\">\n",
       "  <thead>\n",
       "    <tr style=\"text-align: right;\">\n",
       "      <th></th>\n",
       "      <th>AgeGroup</th>\n",
       "      <th>HomePlanet</th>\n",
       "      <th>Destination</th>\n",
       "      <th>0</th>\n",
       "    </tr>\n",
       "  </thead>\n",
       "  <tbody>\n",
       "    <tr>\n",
       "      <th>0</th>\n",
       "      <td>&lt;=13</td>\n",
       "      <td>Earth</td>\n",
       "      <td>55 Cancri e</td>\n",
       "      <td>132</td>\n",
       "    </tr>\n",
       "    <tr>\n",
       "      <th>1</th>\n",
       "      <td>&lt;=13</td>\n",
       "      <td>Earth</td>\n",
       "      <td>PSO J318.5-22</td>\n",
       "      <td>54</td>\n",
       "    </tr>\n",
       "    <tr>\n",
       "      <th>2</th>\n",
       "      <td>&lt;=13</td>\n",
       "      <td>Earth</td>\n",
       "      <td>TRAPPIST-1e</td>\n",
       "      <td>392</td>\n",
       "    </tr>\n",
       "    <tr>\n",
       "      <th>3</th>\n",
       "      <td>&lt;=13</td>\n",
       "      <td>Europa</td>\n",
       "      <td>55 Cancri e</td>\n",
       "      <td>9</td>\n",
       "    </tr>\n",
       "    <tr>\n",
       "      <th>4</th>\n",
       "      <td>&lt;=13</td>\n",
       "      <td>Europa</td>\n",
       "      <td>PSO J318.5-22</td>\n",
       "      <td>0</td>\n",
       "    </tr>\n",
       "    <tr>\n",
       "      <th>5</th>\n",
       "      <td>&lt;=13</td>\n",
       "      <td>Europa</td>\n",
       "      <td>TRAPPIST-1e</td>\n",
       "      <td>33</td>\n",
       "    </tr>\n",
       "    <tr>\n",
       "      <th>6</th>\n",
       "      <td>&lt;=13</td>\n",
       "      <td>Mars</td>\n",
       "      <td>55 Cancri e</td>\n",
       "      <td>23</td>\n",
       "    </tr>\n",
       "    <tr>\n",
       "      <th>7</th>\n",
       "      <td>&lt;=13</td>\n",
       "      <td>Mars</td>\n",
       "      <td>PSO J318.5-22</td>\n",
       "      <td>0</td>\n",
       "    </tr>\n",
       "    <tr>\n",
       "      <th>8</th>\n",
       "      <td>&lt;=13</td>\n",
       "      <td>Mars</td>\n",
       "      <td>TRAPPIST-1e</td>\n",
       "      <td>151</td>\n",
       "    </tr>\n",
       "    <tr>\n",
       "      <th>9</th>\n",
       "      <td>13-18</td>\n",
       "      <td>Earth</td>\n",
       "      <td>55 Cancri e</td>\n",
       "      <td>109</td>\n",
       "    </tr>\n",
       "    <tr>\n",
       "      <th>10</th>\n",
       "      <td>13-18</td>\n",
       "      <td>Earth</td>\n",
       "      <td>PSO J318.5-22</td>\n",
       "      <td>89</td>\n",
       "    </tr>\n",
       "    <tr>\n",
       "      <th>11</th>\n",
       "      <td>13-18</td>\n",
       "      <td>Earth</td>\n",
       "      <td>TRAPPIST-1e</td>\n",
       "      <td>298</td>\n",
       "    </tr>\n",
       "    <tr>\n",
       "      <th>12</th>\n",
       "      <td>13-18</td>\n",
       "      <td>Europa</td>\n",
       "      <td>55 Cancri e</td>\n",
       "      <td>45</td>\n",
       "    </tr>\n",
       "    <tr>\n",
       "      <th>13</th>\n",
       "      <td>13-18</td>\n",
       "      <td>Europa</td>\n",
       "      <td>PSO J318.5-22</td>\n",
       "      <td>0</td>\n",
       "    </tr>\n",
       "    <tr>\n",
       "      <th>14</th>\n",
       "      <td>13-18</td>\n",
       "      <td>Europa</td>\n",
       "      <td>TRAPPIST-1e</td>\n",
       "      <td>74</td>\n",
       "    </tr>\n",
       "    <tr>\n",
       "      <th>15</th>\n",
       "      <td>13-18</td>\n",
       "      <td>Mars</td>\n",
       "      <td>55 Cancri e</td>\n",
       "      <td>16</td>\n",
       "    </tr>\n",
       "    <tr>\n",
       "      <th>16</th>\n",
       "      <td>13-18</td>\n",
       "      <td>Mars</td>\n",
       "      <td>PSO J318.5-22</td>\n",
       "      <td>2</td>\n",
       "    </tr>\n",
       "    <tr>\n",
       "      <th>17</th>\n",
       "      <td>13-18</td>\n",
       "      <td>Mars</td>\n",
       "      <td>TRAPPIST-1e</td>\n",
       "      <td>91</td>\n",
       "    </tr>\n",
       "    <tr>\n",
       "      <th>18</th>\n",
       "      <td>18-25</td>\n",
       "      <td>Earth</td>\n",
       "      <td>55 Cancri e</td>\n",
       "      <td>190</td>\n",
       "    </tr>\n",
       "    <tr>\n",
       "      <th>19</th>\n",
       "      <td>18-25</td>\n",
       "      <td>Earth</td>\n",
       "      <td>PSO J318.5-22</td>\n",
       "      <td>247</td>\n",
       "    </tr>\n",
       "    <tr>\n",
       "      <th>20</th>\n",
       "      <td>18-25</td>\n",
       "      <td>Earth</td>\n",
       "      <td>TRAPPIST-1e</td>\n",
       "      <td>976</td>\n",
       "    </tr>\n",
       "    <tr>\n",
       "      <th>21</th>\n",
       "      <td>18-25</td>\n",
       "      <td>Europa</td>\n",
       "      <td>55 Cancri e</td>\n",
       "      <td>118</td>\n",
       "    </tr>\n",
       "    <tr>\n",
       "      <th>22</th>\n",
       "      <td>18-25</td>\n",
       "      <td>Europa</td>\n",
       "      <td>PSO J318.5-22</td>\n",
       "      <td>0</td>\n",
       "    </tr>\n",
       "    <tr>\n",
       "      <th>23</th>\n",
       "      <td>18-25</td>\n",
       "      <td>Europa</td>\n",
       "      <td>TRAPPIST-1e</td>\n",
       "      <td>116</td>\n",
       "    </tr>\n",
       "    <tr>\n",
       "      <th>24</th>\n",
       "      <td>18-25</td>\n",
       "      <td>Mars</td>\n",
       "      <td>55 Cancri e</td>\n",
       "      <td>56</td>\n",
       "    </tr>\n",
       "    <tr>\n",
       "      <th>25</th>\n",
       "      <td>18-25</td>\n",
       "      <td>Mars</td>\n",
       "      <td>PSO J318.5-22</td>\n",
       "      <td>3</td>\n",
       "    </tr>\n",
       "    <tr>\n",
       "      <th>26</th>\n",
       "      <td>18-25</td>\n",
       "      <td>Mars</td>\n",
       "      <td>TRAPPIST-1e</td>\n",
       "      <td>323</td>\n",
       "    </tr>\n",
       "    <tr>\n",
       "      <th>27</th>\n",
       "      <td>&gt;25</td>\n",
       "      <td>Earth</td>\n",
       "      <td>55 Cancri e</td>\n",
       "      <td>257</td>\n",
       "    </tr>\n",
       "    <tr>\n",
       "      <th>28</th>\n",
       "      <td>&gt;25</td>\n",
       "      <td>Earth</td>\n",
       "      <td>PSO J318.5-22</td>\n",
       "      <td>319</td>\n",
       "    </tr>\n",
       "    <tr>\n",
       "      <th>29</th>\n",
       "      <td>&gt;25</td>\n",
       "      <td>Earth</td>\n",
       "      <td>TRAPPIST-1e</td>\n",
       "      <td>1418</td>\n",
       "    </tr>\n",
       "    <tr>\n",
       "      <th>30</th>\n",
       "      <td>&gt;25</td>\n",
       "      <td>Europa</td>\n",
       "      <td>55 Cancri e</td>\n",
       "      <td>697</td>\n",
       "    </tr>\n",
       "    <tr>\n",
       "      <th>31</th>\n",
       "      <td>&gt;25</td>\n",
       "      <td>Europa</td>\n",
       "      <td>PSO J318.5-22</td>\n",
       "      <td>19</td>\n",
       "    </tr>\n",
       "    <tr>\n",
       "      <th>32</th>\n",
       "      <td>&gt;25</td>\n",
       "      <td>Europa</td>\n",
       "      <td>TRAPPIST-1e</td>\n",
       "      <td>961</td>\n",
       "    </tr>\n",
       "    <tr>\n",
       "      <th>33</th>\n",
       "      <td>&gt;25</td>\n",
       "      <td>Mars</td>\n",
       "      <td>55 Cancri e</td>\n",
       "      <td>97</td>\n",
       "    </tr>\n",
       "    <tr>\n",
       "      <th>34</th>\n",
       "      <td>&gt;25</td>\n",
       "      <td>Mars</td>\n",
       "      <td>PSO J318.5-22</td>\n",
       "      <td>44</td>\n",
       "    </tr>\n",
       "    <tr>\n",
       "      <th>35</th>\n",
       "      <td>&gt;25</td>\n",
       "      <td>Mars</td>\n",
       "      <td>TRAPPIST-1e</td>\n",
       "      <td>887</td>\n",
       "    </tr>\n",
       "  </tbody>\n",
       "</table>\n",
       "</div>"
      ],
      "text/plain": [
       "   AgeGroup HomePlanet    Destination     0\n",
       "0      <=13      Earth    55 Cancri e   132\n",
       "1      <=13      Earth  PSO J318.5-22    54\n",
       "2      <=13      Earth    TRAPPIST-1e   392\n",
       "3      <=13     Europa    55 Cancri e     9\n",
       "4      <=13     Europa  PSO J318.5-22     0\n",
       "5      <=13     Europa    TRAPPIST-1e    33\n",
       "6      <=13       Mars    55 Cancri e    23\n",
       "7      <=13       Mars  PSO J318.5-22     0\n",
       "8      <=13       Mars    TRAPPIST-1e   151\n",
       "9     13-18      Earth    55 Cancri e   109\n",
       "10    13-18      Earth  PSO J318.5-22    89\n",
       "11    13-18      Earth    TRAPPIST-1e   298\n",
       "12    13-18     Europa    55 Cancri e    45\n",
       "13    13-18     Europa  PSO J318.5-22     0\n",
       "14    13-18     Europa    TRAPPIST-1e    74\n",
       "15    13-18       Mars    55 Cancri e    16\n",
       "16    13-18       Mars  PSO J318.5-22     2\n",
       "17    13-18       Mars    TRAPPIST-1e    91\n",
       "18    18-25      Earth    55 Cancri e   190\n",
       "19    18-25      Earth  PSO J318.5-22   247\n",
       "20    18-25      Earth    TRAPPIST-1e   976\n",
       "21    18-25     Europa    55 Cancri e   118\n",
       "22    18-25     Europa  PSO J318.5-22     0\n",
       "23    18-25     Europa    TRAPPIST-1e   116\n",
       "24    18-25       Mars    55 Cancri e    56\n",
       "25    18-25       Mars  PSO J318.5-22     3\n",
       "26    18-25       Mars    TRAPPIST-1e   323\n",
       "27      >25      Earth    55 Cancri e   257\n",
       "28      >25      Earth  PSO J318.5-22   319\n",
       "29      >25      Earth    TRAPPIST-1e  1418\n",
       "30      >25     Europa    55 Cancri e   697\n",
       "31      >25     Europa  PSO J318.5-22    19\n",
       "32      >25     Europa    TRAPPIST-1e   961\n",
       "33      >25       Mars    55 Cancri e    97\n",
       "34      >25       Mars  PSO J318.5-22    44\n",
       "35      >25       Mars    TRAPPIST-1e   887"
      ]
     },
     "execution_count": 30,
     "metadata": {},
     "output_type": "execute_result"
    }
   ],
   "source": [
    "train[['HomePlanet','AgeGroup','Destination']].groupby(['AgeGroup','HomePlanet','Destination']).size().reset_index()\n",
    "#Europa with Age<25, never goes to PSO J318.5-22"
   ]
  },
  {
   "cell_type": "code",
   "execution_count": 31,
   "id": "b28bc157",
   "metadata": {
    "execution": {
     "iopub.execute_input": "2022-05-25T15:13:37.623476Z",
     "iopub.status.busy": "2022-05-25T15:13:37.623000Z",
     "iopub.status.idle": "2022-05-25T15:13:37.646005Z",
     "shell.execute_reply": "2022-05-25T15:13:37.645210Z"
    },
    "papermill": {
     "duration": 0.124855,
     "end_time": "2022-05-25T15:13:37.648179",
     "exception": false,
     "start_time": "2022-05-25T15:13:37.523324",
     "status": "completed"
    },
    "tags": []
   },
   "outputs": [
    {
     "data": {
      "text/html": [
       "<div>\n",
       "<style scoped>\n",
       "    .dataframe tbody tr th:only-of-type {\n",
       "        vertical-align: middle;\n",
       "    }\n",
       "\n",
       "    .dataframe tbody tr th {\n",
       "        vertical-align: top;\n",
       "    }\n",
       "\n",
       "    .dataframe thead th {\n",
       "        text-align: right;\n",
       "    }\n",
       "</style>\n",
       "<table border=\"1\" class=\"dataframe\">\n",
       "  <thead>\n",
       "    <tr style=\"text-align: right;\">\n",
       "      <th>Destination</th>\n",
       "      <th>55 Cancri e</th>\n",
       "      <th>PSO J318.5-22</th>\n",
       "      <th>TRAPPIST-1e</th>\n",
       "    </tr>\n",
       "    <tr>\n",
       "      <th>HomePlanet</th>\n",
       "      <th></th>\n",
       "      <th></th>\n",
       "      <th></th>\n",
       "    </tr>\n",
       "  </thead>\n",
       "  <tbody>\n",
       "    <tr>\n",
       "      <th>Earth</th>\n",
       "      <td>696</td>\n",
       "      <td>722</td>\n",
       "      <td>3151</td>\n",
       "    </tr>\n",
       "    <tr>\n",
       "      <th>Europa</th>\n",
       "      <td>893</td>\n",
       "      <td>19</td>\n",
       "      <td>1207</td>\n",
       "    </tr>\n",
       "    <tr>\n",
       "      <th>Mars</th>\n",
       "      <td>194</td>\n",
       "      <td>50</td>\n",
       "      <td>1490</td>\n",
       "    </tr>\n",
       "  </tbody>\n",
       "</table>\n",
       "</div>"
      ],
      "text/plain": [
       "Destination  55 Cancri e  PSO J318.5-22  TRAPPIST-1e\n",
       "HomePlanet                                          \n",
       "Earth                696            722         3151\n",
       "Europa               893             19         1207\n",
       "Mars                 194             50         1490"
      ]
     },
     "execution_count": 31,
     "metadata": {},
     "output_type": "execute_result"
    }
   ],
   "source": [
    "pd.crosstab(train['HomePlanet'],train['Destination'])\n",
    "#from Europa less people has destination PSO J318.5-22\n",
    "#from mars high preferred destination is TRAPPIST-1e\n",
    "#PSO J318.5-22 has majority from earth"
   ]
  },
  {
   "cell_type": "code",
   "execution_count": 32,
   "id": "693b393d",
   "metadata": {
    "execution": {
     "iopub.execute_input": "2022-05-25T15:13:37.851248Z",
     "iopub.status.busy": "2022-05-25T15:13:37.850937Z",
     "iopub.status.idle": "2022-05-25T15:13:37.854506Z",
     "shell.execute_reply": "2022-05-25T15:13:37.853929Z"
    },
    "papermill": {
     "duration": 0.105605,
     "end_time": "2022-05-25T15:13:37.856280",
     "exception": false,
     "start_time": "2022-05-25T15:13:37.750675",
     "status": "completed"
    },
    "tags": []
   },
   "outputs": [],
   "source": [
    "#train.loc[train['HomePlanet']=='Mars','Destination']=train.loc[train['HomePlanet']=='Mars','Destination'].fillna('TRAPPIST-1e')\n",
    "#test.loc[test['HomePlanet']=='Mars','Destination']=test.loc[test['HomePlanet']=='Mars','Destination'].fillna('TRAPPIST-1e')\n",
    "#train.loc[train['Destination']=='PSO J318.5-22','HomePlanet']=train.loc[train['Destination']=='PSO J318.5-22','HomePlanet'].fillna('Earth')\n",
    "#test.loc[test['Destination']=='PSO J318.5-22','HomePlanet']=test.loc[test['Destination']=='PSO J318.5-22','HomePlanet'].fillna('Earth')"
   ]
  },
  {
   "cell_type": "code",
   "execution_count": 33,
   "id": "7155df64",
   "metadata": {
    "execution": {
     "iopub.execute_input": "2022-05-25T15:13:38.054780Z",
     "iopub.status.busy": "2022-05-25T15:13:38.054472Z",
     "iopub.status.idle": "2022-05-25T15:13:38.064282Z",
     "shell.execute_reply": "2022-05-25T15:13:38.063478Z"
    },
    "papermill": {
     "duration": 0.112559,
     "end_time": "2022-05-25T15:13:38.066296",
     "exception": false,
     "start_time": "2022-05-25T15:13:37.953737",
     "status": "completed"
    },
    "tags": []
   },
   "outputs": [],
   "source": [
    "bins=[0,400,800,100000]\n",
    "labels=['0-400','400-800','800-1000000']\n",
    "train['expenses_group'] = pd.cut(train['total_expenses'], bins=bins, labels=labels, right=False)\n",
    "test['expenses_group'] = pd.cut(test['total_expenses'], bins=bins, labels=labels, right=False)"
   ]
  },
  {
   "cell_type": "code",
   "execution_count": 34,
   "id": "0c9aef93",
   "metadata": {
    "execution": {
     "iopub.execute_input": "2022-05-25T15:13:38.264971Z",
     "iopub.status.busy": "2022-05-25T15:13:38.264617Z",
     "iopub.status.idle": "2022-05-25T15:13:38.268425Z",
     "shell.execute_reply": "2022-05-25T15:13:38.267798Z"
    },
    "papermill": {
     "duration": 0.105129,
     "end_time": "2022-05-25T15:13:38.270223",
     "exception": false,
     "start_time": "2022-05-25T15:13:38.165094",
     "status": "completed"
    },
    "tags": []
   },
   "outputs": [],
   "source": [
    "#train[['HomePlanet','expenses_group','Destination']].groupby(['expenses_group','HomePlanet']).size().reset_index()\n",
    "#400-800 range, Europa and mars are very less\n",
    "#train.loc[train['expenses_group']=='400-800','HomePlanet']=train.loc[train['expenses_group']=='400-800','HomePlanet'].fillna('Europa')\n",
    "#test.loc[test['expenses_group']=='400-800','HomePlanet']=test.loc[test['expenses_group']=='400-800','HomePlanet'].fillna('Europa')"
   ]
  },
  {
   "cell_type": "code",
   "execution_count": 35,
   "id": "6f2f177f",
   "metadata": {
    "execution": {
     "iopub.execute_input": "2022-05-25T15:13:38.467161Z",
     "iopub.status.busy": "2022-05-25T15:13:38.466665Z",
     "iopub.status.idle": "2022-05-25T15:13:38.469564Z",
     "shell.execute_reply": "2022-05-25T15:13:38.469019Z"
    },
    "papermill": {
     "duration": 0.102666,
     "end_time": "2022-05-25T15:13:38.471335",
     "exception": false,
     "start_time": "2022-05-25T15:13:38.368669",
     "status": "completed"
    },
    "tags": []
   },
   "outputs": [],
   "source": [
    "#fill VIP values as False-because of majority\n",
    "#train['VIP'].fillna(False,inplace=True)\n",
    "#test['VIP'].fillna(False,inplace=True)"
   ]
  },
  {
   "cell_type": "code",
   "execution_count": 36,
   "id": "835b76bb",
   "metadata": {
    "execution": {
     "iopub.execute_input": "2022-05-25T15:13:38.667749Z",
     "iopub.status.busy": "2022-05-25T15:13:38.667267Z",
     "iopub.status.idle": "2022-05-25T15:13:38.688007Z",
     "shell.execute_reply": "2022-05-25T15:13:38.687106Z"
    },
    "papermill": {
     "duration": 0.121281,
     "end_time": "2022-05-25T15:13:38.689997",
     "exception": false,
     "start_time": "2022-05-25T15:13:38.568716",
     "status": "completed"
    },
    "tags": []
   },
   "outputs": [
    {
     "data": {
      "text/plain": [
       "PassengerId         0\n",
       "HomePlanet         92\n",
       "CryoSleep         217\n",
       "Cabin             199\n",
       "Destination       180\n",
       "Age               179\n",
       "VIP                87\n",
       "RoomService       113\n",
       "FoodCourt         113\n",
       "ShoppingMall      112\n",
       "Spa               118\n",
       "VRDeck            126\n",
       "Name                0\n",
       "Transported         0\n",
       "Deck              134\n",
       "Number            134\n",
       "Side              134\n",
       "AgeGroup          179\n",
       "group_id            0\n",
       "id_in_group         0\n",
       "total_in_group      0\n",
       "total_expenses    908\n",
       "expenses_group    908\n",
       "dtype: int64"
      ]
     },
     "execution_count": 36,
     "metadata": {},
     "output_type": "execute_result"
    }
   ],
   "source": [
    "train.isnull().sum()"
   ]
  },
  {
   "cell_type": "code",
   "execution_count": 37,
   "id": "3ba41748",
   "metadata": {
    "execution": {
     "iopub.execute_input": "2022-05-25T15:13:38.893960Z",
     "iopub.status.busy": "2022-05-25T15:13:38.893032Z",
     "iopub.status.idle": "2022-05-25T15:13:38.908488Z",
     "shell.execute_reply": "2022-05-25T15:13:38.907709Z"
    },
    "papermill": {
     "duration": 0.118615,
     "end_time": "2022-05-25T15:13:38.910435",
     "exception": false,
     "start_time": "2022-05-25T15:13:38.791820",
     "status": "completed"
    },
    "tags": []
   },
   "outputs": [
    {
     "data": {
      "text/html": [
       "<div>\n",
       "<style scoped>\n",
       "    .dataframe tbody tr th:only-of-type {\n",
       "        vertical-align: middle;\n",
       "    }\n",
       "\n",
       "    .dataframe tbody tr th {\n",
       "        vertical-align: top;\n",
       "    }\n",
       "\n",
       "    .dataframe thead th {\n",
       "        text-align: right;\n",
       "    }\n",
       "</style>\n",
       "<table border=\"1\" class=\"dataframe\">\n",
       "  <thead>\n",
       "    <tr style=\"text-align: right;\">\n",
       "      <th></th>\n",
       "      <th>RoomService</th>\n",
       "    </tr>\n",
       "    <tr>\n",
       "      <th>Transported</th>\n",
       "      <th></th>\n",
       "    </tr>\n",
       "  </thead>\n",
       "  <tbody>\n",
       "    <tr>\n",
       "      <th>False</th>\n",
       "      <td>448.336229</td>\n",
       "    </tr>\n",
       "    <tr>\n",
       "      <th>True</th>\n",
       "      <td>150.920978</td>\n",
       "    </tr>\n",
       "  </tbody>\n",
       "</table>\n",
       "</div>"
      ],
      "text/plain": [
       "             RoomService\n",
       "Transported             \n",
       "False         448.336229\n",
       "True          150.920978"
      ]
     },
     "execution_count": 37,
     "metadata": {},
     "output_type": "execute_result"
    }
   ],
   "source": [
    "train[['Transported','RoomService','CryoSleep']].query('CryoSleep==False').groupby(['Transported']).mean()"
   ]
  },
  {
   "cell_type": "code",
   "execution_count": 38,
   "id": "02ef48e8",
   "metadata": {
    "execution": {
     "iopub.execute_input": "2022-05-25T15:13:39.108272Z",
     "iopub.status.busy": "2022-05-25T15:13:39.107411Z",
     "iopub.status.idle": "2022-05-25T15:13:39.112011Z",
     "shell.execute_reply": "2022-05-25T15:13:39.111163Z"
    },
    "papermill": {
     "duration": 0.105636,
     "end_time": "2022-05-25T15:13:39.114016",
     "exception": false,
     "start_time": "2022-05-25T15:13:39.008380",
     "status": "completed"
    },
    "tags": []
   },
   "outputs": [],
   "source": [
    "#fill total_expenses\n",
    "#def func3(x):\n",
    "#    if pd.isnull(x['total_expenses']):\n",
    "#        if x['HomePlanet']=='Earth':\n",
    "#            return 973\n",
    "#        elif x['HomePlanet']=='Europa':\n",
    "#            return 6023\n",
    "#        elif x['HomePlanet']=='Mars':\n",
    "#            return 1711\n",
    "#    else:\n",
    "#        return x['total_expenses']\n",
    "#train['total_expenses']=train.apply(func3,axis=1)\n",
    "#test['total_expenses']=test.apply(func3,axis=1)\n",
    "#bins=[0,400,800,100000]\n",
    "#labels=['0-400','400-800','800-1000000']\n",
    "#train['expenses_group'] = pd.cut(train['total_expenses'], bins=bins, labels=labels, right=False)\n",
    "#test['expenses_group'] = pd.cut(test['total_expenses'], bins=bins, labels=labels, right=False)"
   ]
  },
  {
   "cell_type": "code",
   "execution_count": 39,
   "id": "d8b31039",
   "metadata": {
    "execution": {
     "iopub.execute_input": "2022-05-25T15:13:39.312472Z",
     "iopub.status.busy": "2022-05-25T15:13:39.311956Z",
     "iopub.status.idle": "2022-05-25T15:13:39.331720Z",
     "shell.execute_reply": "2022-05-25T15:13:39.331134Z"
    },
    "papermill": {
     "duration": 0.122034,
     "end_time": "2022-05-25T15:13:39.333462",
     "exception": false,
     "start_time": "2022-05-25T15:13:39.211428",
     "status": "completed"
    },
    "tags": []
   },
   "outputs": [
    {
     "data": {
      "text/plain": [
       "PassengerId         0\n",
       "HomePlanet         92\n",
       "CryoSleep         217\n",
       "Cabin             199\n",
       "Destination       180\n",
       "Age               179\n",
       "VIP                87\n",
       "RoomService       113\n",
       "FoodCourt         113\n",
       "ShoppingMall      112\n",
       "Spa               118\n",
       "VRDeck            126\n",
       "Name                0\n",
       "Transported         0\n",
       "Deck              134\n",
       "Number            134\n",
       "Side              134\n",
       "AgeGroup          179\n",
       "group_id            0\n",
       "id_in_group         0\n",
       "total_in_group      0\n",
       "total_expenses    908\n",
       "expenses_group    908\n",
       "dtype: int64"
      ]
     },
     "execution_count": 39,
     "metadata": {},
     "output_type": "execute_result"
    }
   ],
   "source": [
    "train.isnull().sum()"
   ]
  },
  {
   "cell_type": "code",
   "execution_count": 40,
   "id": "5d3c77b9",
   "metadata": {
    "execution": {
     "iopub.execute_input": "2022-05-25T15:13:39.533082Z",
     "iopub.status.busy": "2022-05-25T15:13:39.532581Z",
     "iopub.status.idle": "2022-05-25T15:13:39.543990Z",
     "shell.execute_reply": "2022-05-25T15:13:39.543180Z"
    },
    "papermill": {
     "duration": 0.113351,
     "end_time": "2022-05-25T15:13:39.545809",
     "exception": false,
     "start_time": "2022-05-25T15:13:39.432458",
     "status": "completed"
    },
    "tags": []
   },
   "outputs": [
    {
     "data": {
      "text/html": [
       "<div>\n",
       "<style scoped>\n",
       "    .dataframe tbody tr th:only-of-type {\n",
       "        vertical-align: middle;\n",
       "    }\n",
       "\n",
       "    .dataframe tbody tr th {\n",
       "        vertical-align: top;\n",
       "    }\n",
       "\n",
       "    .dataframe thead th {\n",
       "        text-align: right;\n",
       "    }\n",
       "</style>\n",
       "<table border=\"1\" class=\"dataframe\">\n",
       "  <thead>\n",
       "    <tr style=\"text-align: right;\">\n",
       "      <th></th>\n",
       "      <th>Age</th>\n",
       "    </tr>\n",
       "    <tr>\n",
       "      <th>HomePlanet</th>\n",
       "      <th></th>\n",
       "    </tr>\n",
       "  </thead>\n",
       "  <tbody>\n",
       "    <tr>\n",
       "      <th>Earth</th>\n",
       "      <td>26.029675</td>\n",
       "    </tr>\n",
       "    <tr>\n",
       "      <th>Europa</th>\n",
       "      <td>34.424027</td>\n",
       "    </tr>\n",
       "    <tr>\n",
       "      <th>Mars</th>\n",
       "      <td>29.306982</td>\n",
       "    </tr>\n",
       "  </tbody>\n",
       "</table>\n",
       "</div>"
      ],
      "text/plain": [
       "                  Age\n",
       "HomePlanet           \n",
       "Earth       26.029675\n",
       "Europa      34.424027\n",
       "Mars        29.306982"
      ]
     },
     "execution_count": 40,
     "metadata": {},
     "output_type": "execute_result"
    }
   ],
   "source": [
    "train[['Age','HomePlanet']].groupby(['HomePlanet']).mean()"
   ]
  },
  {
   "cell_type": "code",
   "execution_count": 41,
   "id": "336ad27b",
   "metadata": {
    "execution": {
     "iopub.execute_input": "2022-05-25T15:13:39.746747Z",
     "iopub.status.busy": "2022-05-25T15:13:39.746203Z",
     "iopub.status.idle": "2022-05-25T15:13:39.749528Z",
     "shell.execute_reply": "2022-05-25T15:13:39.748918Z"
    },
    "papermill": {
     "duration": 0.10636,
     "end_time": "2022-05-25T15:13:39.751344",
     "exception": false,
     "start_time": "2022-05-25T15:13:39.644984",
     "status": "completed"
    },
    "tags": []
   },
   "outputs": [],
   "source": [
    "#fill total_expenses\n",
    "#def func4(x):\n",
    "#    if pd.isnull(x['Age']):\n",
    "#        if x['HomePlanet']=='Earth':\n",
    "#            return 26\n",
    "#        elif x['HomePlanet']=='Europa':\n",
    "#            return 34\n",
    "#        elif x['HomePlanet']=='Mars':\n",
    "#            return 29\n",
    "#    else:\n",
    "#        return x['Age']\n",
    "#train['Age']=train.apply(func4,axis=1)\n",
    "#test['Age']=test.apply(func4,axis=1)"
   ]
  },
  {
   "cell_type": "code",
   "execution_count": 42,
   "id": "0d8161ff",
   "metadata": {
    "execution": {
     "iopub.execute_input": "2022-05-25T15:13:39.955090Z",
     "iopub.status.busy": "2022-05-25T15:13:39.954585Z",
     "iopub.status.idle": "2022-05-25T15:13:39.979866Z",
     "shell.execute_reply": "2022-05-25T15:13:39.979212Z"
    },
    "papermill": {
     "duration": 0.129232,
     "end_time": "2022-05-25T15:13:39.981780",
     "exception": false,
     "start_time": "2022-05-25T15:13:39.852548",
     "status": "completed"
    },
    "tags": []
   },
   "outputs": [
    {
     "data": {
      "text/html": [
       "<div>\n",
       "<style scoped>\n",
       "    .dataframe tbody tr th:only-of-type {\n",
       "        vertical-align: middle;\n",
       "    }\n",
       "\n",
       "    .dataframe tbody tr th {\n",
       "        vertical-align: top;\n",
       "    }\n",
       "\n",
       "    .dataframe thead th {\n",
       "        text-align: right;\n",
       "    }\n",
       "</style>\n",
       "<table border=\"1\" class=\"dataframe\">\n",
       "  <thead>\n",
       "    <tr style=\"text-align: right;\">\n",
       "      <th></th>\n",
       "      <th>HomePlanet</th>\n",
       "      <th>group_id</th>\n",
       "      <th>Transported</th>\n",
       "    </tr>\n",
       "  </thead>\n",
       "  <tbody>\n",
       "    <tr>\n",
       "      <th>0</th>\n",
       "      <td>Earth</td>\n",
       "      <td>0002</td>\n",
       "      <td>1.000000</td>\n",
       "    </tr>\n",
       "    <tr>\n",
       "      <th>1</th>\n",
       "      <td>Earth</td>\n",
       "      <td>0004</td>\n",
       "      <td>1.000000</td>\n",
       "    </tr>\n",
       "    <tr>\n",
       "      <th>2</th>\n",
       "      <td>Earth</td>\n",
       "      <td>0005</td>\n",
       "      <td>1.000000</td>\n",
       "    </tr>\n",
       "    <tr>\n",
       "      <th>3</th>\n",
       "      <td>Earth</td>\n",
       "      <td>0006</td>\n",
       "      <td>1.000000</td>\n",
       "    </tr>\n",
       "    <tr>\n",
       "      <th>4</th>\n",
       "      <td>Earth</td>\n",
       "      <td>0007</td>\n",
       "      <td>1.000000</td>\n",
       "    </tr>\n",
       "    <tr>\n",
       "      <th>...</th>\n",
       "      <td>...</td>\n",
       "      <td>...</td>\n",
       "      <td>...</td>\n",
       "    </tr>\n",
       "    <tr>\n",
       "      <th>6144</th>\n",
       "      <td>Mars</td>\n",
       "      <td>9224</td>\n",
       "      <td>0.000000</td>\n",
       "    </tr>\n",
       "    <tr>\n",
       "      <th>6145</th>\n",
       "      <td>Mars</td>\n",
       "      <td>9231</td>\n",
       "      <td>0.666667</td>\n",
       "    </tr>\n",
       "    <tr>\n",
       "      <th>6146</th>\n",
       "      <td>Mars</td>\n",
       "      <td>9239</td>\n",
       "      <td>0.000000</td>\n",
       "    </tr>\n",
       "    <tr>\n",
       "      <th>6147</th>\n",
       "      <td>Mars</td>\n",
       "      <td>9241</td>\n",
       "      <td>0.000000</td>\n",
       "    </tr>\n",
       "    <tr>\n",
       "      <th>6148</th>\n",
       "      <td>Mars</td>\n",
       "      <td>9251</td>\n",
       "      <td>1.000000</td>\n",
       "    </tr>\n",
       "  </tbody>\n",
       "</table>\n",
       "<p>6149 rows × 3 columns</p>\n",
       "</div>"
      ],
      "text/plain": [
       "     HomePlanet group_id  Transported\n",
       "0         Earth     0002     1.000000\n",
       "1         Earth     0004     1.000000\n",
       "2         Earth     0005     1.000000\n",
       "3         Earth     0006     1.000000\n",
       "4         Earth     0007     1.000000\n",
       "...         ...      ...          ...\n",
       "6144       Mars     9224     0.000000\n",
       "6145       Mars     9231     0.666667\n",
       "6146       Mars     9239     0.000000\n",
       "6147       Mars     9241     0.000000\n",
       "6148       Mars     9251     1.000000\n",
       "\n",
       "[6149 rows x 3 columns]"
      ]
     },
     "execution_count": 42,
     "metadata": {},
     "output_type": "execute_result"
    }
   ],
   "source": [
    "train[['group_id','Transported','HomePlanet']].groupby(['HomePlanet','group_id']).mean().reset_index()"
   ]
  },
  {
   "cell_type": "code",
   "execution_count": 43,
   "id": "71ea4b47",
   "metadata": {
    "execution": {
     "iopub.execute_input": "2022-05-25T15:13:40.183511Z",
     "iopub.status.busy": "2022-05-25T15:13:40.183230Z",
     "iopub.status.idle": "2022-05-25T15:13:40.189542Z",
     "shell.execute_reply": "2022-05-25T15:13:40.188770Z"
    },
    "papermill": {
     "duration": 0.110031,
     "end_time": "2022-05-25T15:13:40.191363",
     "exception": false,
     "start_time": "2022-05-25T15:13:40.081332",
     "status": "completed"
    },
    "tags": []
   },
   "outputs": [],
   "source": [
    "train[\"total_in_group\"] = np.where(train[\"total_in_group\"]==1, 0, 1)\n",
    "test[\"total_in_group\"] = np.where(test[\"total_in_group\"]==1, 0, 1)"
   ]
  },
  {
   "cell_type": "code",
   "execution_count": 44,
   "id": "8203742d",
   "metadata": {
    "execution": {
     "iopub.execute_input": "2022-05-25T15:13:40.392902Z",
     "iopub.status.busy": "2022-05-25T15:13:40.392452Z",
     "iopub.status.idle": "2022-05-25T15:13:40.416687Z",
     "shell.execute_reply": "2022-05-25T15:13:40.416099Z"
    },
    "papermill": {
     "duration": 0.127672,
     "end_time": "2022-05-25T15:13:40.418642",
     "exception": false,
     "start_time": "2022-05-25T15:13:40.290970",
     "status": "completed"
    },
    "tags": []
   },
   "outputs": [],
   "source": [
    "#conversion of datatypes\n",
    "train['Number']=train['Number'].astype(float)\n",
    "train['group_id']=train['group_id'].astype(float)\n",
    "train['id_in_group']=train['id_in_group'].astype(int)\n",
    "train['CryoSleep']=train['CryoSleep'].astype(bool)\n",
    "train['VIP']=train['VIP'].astype(bool)\n",
    "test['Number']=test['Number'].astype(float)\n",
    "test['group_id']=test['group_id'].astype(float)\n",
    "test['id_in_group']=test['id_in_group'].astype(int)\n",
    "test['CryoSleep']=test['CryoSleep'].astype(bool)\n",
    "test['VIP']=test['VIP'].astype(bool)"
   ]
  },
  {
   "cell_type": "code",
   "execution_count": 45,
   "id": "2f71d62d",
   "metadata": {
    "execution": {
     "iopub.execute_input": "2022-05-25T15:13:40.618331Z",
     "iopub.status.busy": "2022-05-25T15:13:40.618034Z",
     "iopub.status.idle": "2022-05-25T15:13:40.624236Z",
     "shell.execute_reply": "2022-05-25T15:13:40.623501Z"
    },
    "papermill": {
     "duration": 0.108219,
     "end_time": "2022-05-25T15:13:40.626165",
     "exception": false,
     "start_time": "2022-05-25T15:13:40.517946",
     "status": "completed"
    },
    "tags": []
   },
   "outputs": [
    {
     "data": {
      "text/plain": [
       "1894.0"
      ]
     },
     "execution_count": 45,
     "metadata": {},
     "output_type": "execute_result"
    }
   ],
   "source": [
    "train['Number'].max()"
   ]
  },
  {
   "cell_type": "code",
   "execution_count": 46,
   "id": "44b48812",
   "metadata": {
    "execution": {
     "iopub.execute_input": "2022-05-25T15:13:40.830875Z",
     "iopub.status.busy": "2022-05-25T15:13:40.830115Z",
     "iopub.status.idle": "2022-05-25T15:13:40.833312Z",
     "shell.execute_reply": "2022-05-25T15:13:40.832804Z"
    },
    "papermill": {
     "duration": 0.107376,
     "end_time": "2022-05-25T15:13:40.834959",
     "exception": false,
     "start_time": "2022-05-25T15:13:40.727583",
     "status": "completed"
    },
    "tags": []
   },
   "outputs": [],
   "source": [
    "#train['Number'].max()\n",
    "#bins=[0,500,1000,1500,2000]\n",
    "#labels=['1','2','3','4']\n",
    "#train['group_id_divide'] = pd.cut(train['Number'], bins=bins, labels=labels, right=False)\n",
    "#test['group_id_divide'] = pd.cut(test['Number'], bins=bins, labels=labels, right=False)"
   ]
  },
  {
   "cell_type": "code",
   "execution_count": 47,
   "id": "ed8c9eb4",
   "metadata": {
    "execution": {
     "iopub.execute_input": "2022-05-25T15:13:41.044118Z",
     "iopub.status.busy": "2022-05-25T15:13:41.043725Z",
     "iopub.status.idle": "2022-05-25T15:13:41.046439Z",
     "shell.execute_reply": "2022-05-25T15:13:41.045937Z"
    },
    "papermill": {
     "duration": 0.110813,
     "end_time": "2022-05-25T15:13:41.048228",
     "exception": false,
     "start_time": "2022-05-25T15:13:40.937415",
     "status": "completed"
    },
    "tags": []
   },
   "outputs": [],
   "source": [
    "#train[['group_id_divide','Transported','CryoSleep']].groupby(['CryoSleep','group_id_divide']).mean()"
   ]
  },
  {
   "cell_type": "code",
   "execution_count": 48,
   "id": "7c0f1dcb",
   "metadata": {
    "execution": {
     "iopub.execute_input": "2022-05-25T15:13:41.250990Z",
     "iopub.status.busy": "2022-05-25T15:13:41.250469Z",
     "iopub.status.idle": "2022-05-25T15:13:42.346278Z",
     "shell.execute_reply": "2022-05-25T15:13:42.345425Z"
    },
    "papermill": {
     "duration": 1.199865,
     "end_time": "2022-05-25T15:13:42.349221",
     "exception": false,
     "start_time": "2022-05-25T15:13:41.149356",
     "status": "completed"
    },
    "tags": []
   },
   "outputs": [
    {
     "data": {
      "image/png": "[encoded data removed]",
      "text/plain": [
       "<Figure size 1296x1296 with 2 Axes>"
      ]
     },
     "metadata": {
      "needs_background": "light"
     },
     "output_type": "display_data"
    }
   ],
   "source": [
    "plt.figure(figsize = (18,18))\n",
    "sns.heatmap(train.corr(), annot = True, cmap = \"RdYlGn\")\n",
    "plt.show()"
   ]
  },
  {
   "cell_type": "markdown",
   "id": "660efbba",
   "metadata": {
    "papermill": {
     "duration": 0.103201,
     "end_time": "2022-05-25T15:13:42.556435",
     "exception": false,
     "start_time": "2022-05-25T15:13:42.453234",
     "status": "completed"
    },
    "tags": []
   },
   "source": [
    "# Filling remaining Nan values"
   ]
  },
  {
   "cell_type": "code",
   "execution_count": 49,
   "id": "4a90cb6b",
   "metadata": {
    "execution": {
     "iopub.execute_input": "2022-05-25T15:13:42.771809Z",
     "iopub.status.busy": "2022-05-25T15:13:42.771125Z",
     "iopub.status.idle": "2022-05-25T15:13:42.776970Z",
     "shell.execute_reply": "2022-05-25T15:13:42.776253Z"
    },
    "papermill": {
     "duration": 0.118596,
     "end_time": "2022-05-25T15:13:42.778968",
     "exception": false,
     "start_time": "2022-05-25T15:13:42.660372",
     "status": "completed"
    },
    "tags": []
   },
   "outputs": [],
   "source": [
    "#numerical data\n",
    "def numerical_(df):\n",
    "    data_num=df.select_dtypes(['float64','int64'])\n",
    "    cols_num = list(data_num.columns)\n",
    "    dict_num = {i:cols_num[i] for i in range(len(cols_num)) }\n",
    "    imputer = SimpleImputer(strategy='mean')\n",
    "    d=imputer.fit_transform(data_num)\n",
    "    temp1=pd.DataFrame(d)\n",
    "    temp1= temp1.rename(columns=dict_num)\n",
    "    return temp1"
   ]
  },
  {
   "cell_type": "code",
   "execution_count": 50,
   "id": "b81c0747",
   "metadata": {
    "execution": {
     "iopub.execute_input": "2022-05-25T15:13:42.991895Z",
     "iopub.status.busy": "2022-05-25T15:13:42.991119Z",
     "iopub.status.idle": "2022-05-25T15:13:42.997678Z",
     "shell.execute_reply": "2022-05-25T15:13:42.997101Z"
    },
    "papermill": {
     "duration": 0.115861,
     "end_time": "2022-05-25T15:13:42.999495",
     "exception": false,
     "start_time": "2022-05-25T15:13:42.883634",
     "status": "completed"
    },
    "tags": []
   },
   "outputs": [],
   "source": [
    "#dtype-Object\n",
    "def object_(df):\n",
    "    obj_data = df.select_dtypes(['object','category']) \n",
    "    cols = list(obj_data.columns)\n",
    "    for col in cols:\n",
    "        obj_data[col].fillna(obj_data[col].mode()[0],inplace=True)\n",
    "        pass\n",
    "    for i in cols:\n",
    "        un = obj_data[i].unique()\n",
    "        ran = range(1,len(un)+1)\n",
    "        obj_data.replace(dict(zip(un,ran)) ,inplace=True)\n",
    "    obj_data = pd.get_dummies(obj_data, columns=['HomePlanet', 'Destination'])\n",
    "    return obj_data"
   ]
  },
  {
   "cell_type": "code",
   "execution_count": 51,
   "id": "070a88f0",
   "metadata": {
    "execution": {
     "iopub.execute_input": "2022-05-25T15:13:43.216998Z",
     "iopub.status.busy": "2022-05-25T15:13:43.216244Z",
     "iopub.status.idle": "2022-05-25T15:13:43.221465Z",
     "shell.execute_reply": "2022-05-25T15:13:43.220555Z"
    },
    "papermill": {
     "duration": 0.116172,
     "end_time": "2022-05-25T15:13:43.223475",
     "exception": false,
     "start_time": "2022-05-25T15:13:43.107303",
     "status": "completed"
    },
    "tags": []
   },
   "outputs": [],
   "source": [
    "#boolean data\n",
    "def boolean_(df): \n",
    "    bool_data = df.select_dtypes(['bool'])\n",
    "    cols = bool_data.columns\n",
    "    for i in cols:\n",
    "        bool_data[i] = LabelEncoder().fit_transform(bool_data[i])\n",
    "    return bool_data"
   ]
  },
  {
   "cell_type": "code",
   "execution_count": 52,
   "id": "18185d5c",
   "metadata": {
    "execution": {
     "iopub.execute_input": "2022-05-25T15:13:43.436237Z",
     "iopub.status.busy": "2022-05-25T15:13:43.435694Z",
     "iopub.status.idle": "2022-05-25T15:13:43.471467Z",
     "shell.execute_reply": "2022-05-25T15:13:43.470760Z"
    },
    "papermill": {
     "duration": 0.145857,
     "end_time": "2022-05-25T15:13:43.473640",
     "exception": false,
     "start_time": "2022-05-25T15:13:43.327783",
     "status": "completed"
    },
    "tags": []
   },
   "outputs": [],
   "source": [
    "test_num = numerical_(test)\n",
    "train_num = numerical_(train)\n",
    "\n",
    "bins=[0,13,18,25,200]\n",
    "labels=['<=13','13-18','18-25','>25']\n",
    "train['AgeGroup'] = pd.cut(train['Age'], bins=bins, labels=labels, right=False)\n",
    "test['AgeGroup'] = pd.cut(test['Age'], bins=bins, labels=labels, right=False)\n",
    "\n",
    "train['total_expenses']=train[['RoomService','FoodCourt','ShoppingMall','Spa','VRDeck']].sum(axis=1)\n",
    "test['total_expenses']=test[['RoomService','FoodCourt','ShoppingMall','Spa','VRDeck']].sum(axis=1)\n",
    "bins=[0,500,1000,100000]\n",
    "labels=['0-500','500-1000','1000-1000000']\n",
    "train['expenses_group'] = pd.cut(train['total_expenses'], bins=bins, labels=labels, right=False)\n",
    "test['expenses_group'] = pd.cut(test['total_expenses'], bins=bins, labels=labels, right=False)"
   ]
  },
  {
   "cell_type": "code",
   "execution_count": 53,
   "id": "dfc66e85",
   "metadata": {
    "execution": {
     "iopub.execute_input": "2022-05-25T15:13:43.688809Z",
     "iopub.status.busy": "2022-05-25T15:13:43.688280Z",
     "iopub.status.idle": "2022-05-25T15:14:43.649530Z",
     "shell.execute_reply": "2022-05-25T15:14:43.648921Z"
    },
    "papermill": {
     "duration": 60.072399,
     "end_time": "2022-05-25T15:14:43.651898",
     "exception": false,
     "start_time": "2022-05-25T15:13:43.579499",
     "status": "completed"
    },
    "tags": []
   },
   "outputs": [],
   "source": [
    "test_cat = object_(test)\n",
    "train_cat = object_(train)\n",
    "train_bool = boolean_(train)\n",
    "test_bool = boolean_(test)\n",
    "train_data = pd.concat([train_num,train_cat,train_bool],axis=1)\n",
    "test_data = pd.concat([test_num,test_cat,test_bool],axis=1)"
   ]
  },
  {
   "cell_type": "code",
   "execution_count": 54,
   "id": "ab6c85a6",
   "metadata": {
    "execution": {
     "iopub.execute_input": "2022-05-25T15:14:43.867760Z",
     "iopub.status.busy": "2022-05-25T15:14:43.867445Z",
     "iopub.status.idle": "2022-05-25T15:14:43.873028Z",
     "shell.execute_reply": "2022-05-25T15:14:43.872487Z"
    },
    "papermill": {
     "duration": 0.114912,
     "end_time": "2022-05-25T15:14:43.874753",
     "exception": false,
     "start_time": "2022-05-25T15:14:43.759841",
     "status": "completed"
    },
    "tags": []
   },
   "outputs": [
    {
     "data": {
      "text/plain": [
       "Index(['Age', 'RoomService', 'FoodCourt', 'ShoppingMall', 'Spa', 'VRDeck',\n",
       "       'Number', 'group_id', 'id_in_group', 'total_in_group', 'total_expenses',\n",
       "       'PassengerId', 'Cabin', 'Name', 'Deck', 'Side', 'AgeGroup',\n",
       "       'expenses_group', 'HomePlanet_1', 'HomePlanet_2', 'HomePlanet_3',\n",
       "       'Destination_1', 'Destination_2', 'Destination_3', 'CryoSleep', 'VIP',\n",
       "       'Transported'],\n",
       "      dtype='object')"
      ]
     },
     "execution_count": 54,
     "metadata": {},
     "output_type": "execute_result"
    }
   ],
   "source": [
    "train_data.columns"
   ]
  },
  {
   "cell_type": "code",
   "execution_count": 55,
   "id": "24be1e17",
   "metadata": {
    "execution": {
     "iopub.execute_input": "2022-05-25T15:14:44.088320Z",
     "iopub.status.busy": "2022-05-25T15:14:44.087898Z",
     "iopub.status.idle": "2022-05-25T15:14:44.095539Z",
     "shell.execute_reply": "2022-05-25T15:14:44.094982Z"
    },
    "papermill": {
     "duration": 0.116462,
     "end_time": "2022-05-25T15:14:44.097248",
     "exception": false,
     "start_time": "2022-05-25T15:14:43.980786",
     "status": "completed"
    },
    "tags": []
   },
   "outputs": [
    {
     "data": {
      "text/plain": [
       "Age               float64\n",
       "RoomService       float64\n",
       "FoodCourt         float64\n",
       "ShoppingMall      float64\n",
       "Spa               float64\n",
       "VRDeck            float64\n",
       "Number            float64\n",
       "group_id          float64\n",
       "id_in_group       float64\n",
       "total_in_group    float64\n",
       "total_expenses    float64\n",
       "PassengerId         int64\n",
       "Cabin               int64\n",
       "Name                int64\n",
       "Deck                int64\n",
       "Side                int64\n",
       "AgeGroup            int64\n",
       "expenses_group      int64\n",
       "HomePlanet_1        uint8\n",
       "HomePlanet_2        uint8\n",
       "HomePlanet_3        uint8\n",
       "Destination_1       uint8\n",
       "Destination_2       uint8\n",
       "Destination_3       uint8\n",
       "CryoSleep           int64\n",
       "VIP                 int64\n",
       "Transported         int64\n",
       "dtype: object"
      ]
     },
     "execution_count": 55,
     "metadata": {},
     "output_type": "execute_result"
    }
   ],
   "source": [
    "train_data.dtypes"
   ]
  },
  {
   "cell_type": "code",
   "execution_count": 56,
   "id": "d9e2add5",
   "metadata": {
    "execution": {
     "iopub.execute_input": "2022-05-25T15:14:44.310328Z",
     "iopub.status.busy": "2022-05-25T15:14:44.309631Z",
     "iopub.status.idle": "2022-05-25T15:14:44.313946Z",
     "shell.execute_reply": "2022-05-25T15:14:44.313041Z"
    },
    "papermill": {
     "duration": 0.112549,
     "end_time": "2022-05-25T15:14:44.315920",
     "exception": false,
     "start_time": "2022-05-25T15:14:44.203371",
     "status": "completed"
    },
    "tags": []
   },
   "outputs": [],
   "source": [
    "#Onehotencoder\n",
    "#enc = OneHotEncoder()\n",
    "#transformed = enc.fit_transform(train_data[['AgeGroup']])\n",
    "#train_data[enc.categories_[0]] = transformed.toarray()"
   ]
  },
  {
   "cell_type": "code",
   "execution_count": 57,
   "id": "6d9c955e",
   "metadata": {
    "execution": {
     "iopub.execute_input": "2022-05-25T15:14:44.530093Z",
     "iopub.status.busy": "2022-05-25T15:14:44.529683Z",
     "iopub.status.idle": "2022-05-25T15:14:44.533401Z",
     "shell.execute_reply": "2022-05-25T15:14:44.532577Z"
    },
    "papermill": {
     "duration": 0.11428,
     "end_time": "2022-05-25T15:14:44.535388",
     "exception": false,
     "start_time": "2022-05-25T15:14:44.421108",
     "status": "completed"
    },
    "tags": []
   },
   "outputs": [],
   "source": [
    "#enc = OneHotEncoder()\n",
    "#transformed = enc.fit_transform(test_data[['AgeGroup']])\n",
    "#test_data[enc.categories_[0]] = transformed.toarray()"
   ]
  },
  {
   "cell_type": "markdown",
   "id": "c72cd14c",
   "metadata": {
    "papermill": {
     "duration": 0.106321,
     "end_time": "2022-05-25T15:14:44.748302",
     "exception": false,
     "start_time": "2022-05-25T15:14:44.641981",
     "status": "completed"
    },
    "tags": []
   },
   "source": [
    "# Predictions using RandomForestClassifier"
   ]
  },
  {
   "cell_type": "code",
   "execution_count": 58,
   "id": "362faa95",
   "metadata": {
    "execution": {
     "iopub.execute_input": "2022-05-25T15:14:44.966149Z",
     "iopub.status.busy": "2022-05-25T15:14:44.965640Z",
     "iopub.status.idle": "2022-05-25T15:14:44.968529Z",
     "shell.execute_reply": "2022-05-25T15:14:44.967996Z"
    },
    "papermill": {
     "duration": 0.113311,
     "end_time": "2022-05-25T15:14:44.970377",
     "exception": false,
     "start_time": "2022-05-25T15:14:44.857066",
     "status": "completed"
    },
    "tags": []
   },
   "outputs": [],
   "source": [
    "###Predictions \n",
    "##using RandomForestClassifier"
   ]
  },
  {
   "cell_type": "code",
   "execution_count": 59,
   "id": "3cf2d8ce",
   "metadata": {
    "execution": {
     "iopub.execute_input": "2022-05-25T15:14:45.192439Z",
     "iopub.status.busy": "2022-05-25T15:14:45.192147Z",
     "iopub.status.idle": "2022-05-25T15:14:45.198065Z",
     "shell.execute_reply": "2022-05-25T15:14:45.197269Z"
    },
    "papermill": {
     "duration": 0.122972,
     "end_time": "2022-05-25T15:14:45.200135",
     "exception": false,
     "start_time": "2022-05-25T15:14:45.077163",
     "status": "completed"
    },
    "tags": []
   },
   "outputs": [
    {
     "data": {
      "text/plain": [
       "Index(['Age', 'RoomService', 'FoodCourt', 'ShoppingMall', 'Spa', 'VRDeck',\n",
       "       'Number', 'group_id', 'id_in_group', 'total_in_group', 'total_expenses',\n",
       "       'PassengerId', 'Cabin', 'Name', 'Deck', 'Side', 'AgeGroup',\n",
       "       'expenses_group', 'HomePlanet_1', 'HomePlanet_2', 'HomePlanet_3',\n",
       "       'Destination_1', 'Destination_2', 'Destination_3', 'CryoSleep', 'VIP',\n",
       "       'Transported'],\n",
       "      dtype='object')"
      ]
     },
     "execution_count": 59,
     "metadata": {},
     "output_type": "execute_result"
    }
   ],
   "source": [
    "train_data.columns"
   ]
  },
  {
   "cell_type": "code",
   "execution_count": 60,
   "id": "d81f3798",
   "metadata": {
    "execution": {
     "iopub.execute_input": "2022-05-25T15:14:45.414063Z",
     "iopub.status.busy": "2022-05-25T15:14:45.413774Z",
     "iopub.status.idle": "2022-05-25T15:14:45.418522Z",
     "shell.execute_reply": "2022-05-25T15:14:45.417665Z"
    },
    "papermill": {
     "duration": 0.1132,
     "end_time": "2022-05-25T15:14:45.420536",
     "exception": false,
     "start_time": "2022-05-25T15:14:45.307336",
     "status": "completed"
    },
    "tags": []
   },
   "outputs": [],
   "source": [
    "predictor_cols=['HomePlanet_1','HomePlanet_2','HomePlanet_3','Destination_1','Destination_2','Destination_3','RoomService', \n",
    "                'FoodCourt', 'ShoppingMall', 'Spa', 'VRDeck','VIP','CryoSleep','id_in_group','group_id',\n",
    "               'Side','Number','total_expenses','Age','total_in_group']"
   ]
  },
  {
   "cell_type": "code",
   "execution_count": 61,
   "id": "57e31e85",
   "metadata": {
    "execution": {
     "iopub.execute_input": "2022-05-25T15:14:45.633523Z",
     "iopub.status.busy": "2022-05-25T15:14:45.632741Z",
     "iopub.status.idle": "2022-05-25T15:14:45.639293Z",
     "shell.execute_reply": "2022-05-25T15:14:45.638674Z"
    },
    "papermill": {
     "duration": 0.115019,
     "end_time": "2022-05-25T15:14:45.641191",
     "exception": false,
     "start_time": "2022-05-25T15:14:45.526172",
     "status": "completed"
    },
    "tags": []
   },
   "outputs": [],
   "source": [
    "X = train_data[predictor_cols]\n",
    "Y=train_data['Transported']"
   ]
  },
  {
   "cell_type": "code",
   "execution_count": 62,
   "id": "8e7cc94a",
   "metadata": {
    "execution": {
     "iopub.execute_input": "2022-05-25T15:14:45.856556Z",
     "iopub.status.busy": "2022-05-25T15:14:45.856072Z",
     "iopub.status.idle": "2022-05-25T15:14:45.863284Z",
     "shell.execute_reply": "2022-05-25T15:14:45.862589Z"
    },
    "papermill": {
     "duration": 0.116904,
     "end_time": "2022-05-25T15:14:45.865125",
     "exception": false,
     "start_time": "2022-05-25T15:14:45.748221",
     "status": "completed"
    },
    "tags": []
   },
   "outputs": [
    {
     "data": {
      "text/plain": [
       "HomePlanet_1        uint8\n",
       "HomePlanet_2        uint8\n",
       "HomePlanet_3        uint8\n",
       "Destination_1       uint8\n",
       "Destination_2       uint8\n",
       "Destination_3       uint8\n",
       "RoomService       float64\n",
       "FoodCourt         float64\n",
       "ShoppingMall      float64\n",
       "Spa               float64\n",
       "VRDeck            float64\n",
       "VIP                 int64\n",
       "CryoSleep           int64\n",
       "id_in_group       float64\n",
       "group_id          float64\n",
       "Side                int64\n",
       "Number            float64\n",
       "total_expenses    float64\n",
       "Age               float64\n",
       "total_in_group    float64\n",
       "dtype: object"
      ]
     },
     "execution_count": 62,
     "metadata": {},
     "output_type": "execute_result"
    }
   ],
   "source": [
    "X.dtypes"
   ]
  },
  {
   "cell_type": "code",
   "execution_count": 63,
   "id": "18237c87",
   "metadata": {
    "execution": {
     "iopub.execute_input": "2022-05-25T15:14:46.077688Z",
     "iopub.status.busy": "2022-05-25T15:14:46.077215Z",
     "iopub.status.idle": "2022-05-25T15:14:46.084263Z",
     "shell.execute_reply": "2022-05-25T15:14:46.083753Z"
    },
    "papermill": {
     "duration": 0.115272,
     "end_time": "2022-05-25T15:14:46.086064",
     "exception": false,
     "start_time": "2022-05-25T15:14:45.970792",
     "status": "completed"
    },
    "tags": []
   },
   "outputs": [],
   "source": [
    "x_train, x_val, y_train, y_val = train_test_split(X, Y, test_size=0.2, random_state=40)"
   ]
  },
  {
   "cell_type": "code",
   "execution_count": 64,
   "id": "861184fd",
   "metadata": {
    "execution": {
     "iopub.execute_input": "2022-05-25T15:14:46.297234Z",
     "iopub.status.busy": "2022-05-25T15:14:46.296760Z",
     "iopub.status.idle": "2022-05-25T15:14:46.303295Z",
     "shell.execute_reply": "2022-05-25T15:14:46.302521Z"
    },
    "papermill": {
     "duration": 0.11403,
     "end_time": "2022-05-25T15:14:46.305199",
     "exception": false,
     "start_time": "2022-05-25T15:14:46.191169",
     "status": "completed"
    },
    "tags": []
   },
   "outputs": [],
   "source": [
    "params = {\n",
    "    \"n_estimators\": [i for i in range (10, 800, 10)], \n",
    "    \"max_depth\": [i for i in range (2, 40, 2)],\n",
    "    \"min_samples_leaf\" : [i for i in range (15, 40)],\n",
    "    \"min_samples_split\" : [i for i in range (5,240)]\n",
    "}\n",
    "params = {\n",
    "    \"n_estimators\": [i for i in range (50, 400, 50)], \n",
    "    \"max_depth\": [i for i in range (6, 18, 2)]\n",
    "}"
   ]
  },
  {
   "cell_type": "code",
   "execution_count": 65,
   "id": "e752e100",
   "metadata": {
    "execution": {
     "iopub.execute_input": "2022-05-25T15:14:46.515948Z",
     "iopub.status.busy": "2022-05-25T15:14:46.515650Z",
     "iopub.status.idle": "2022-05-25T15:15:14.872860Z",
     "shell.execute_reply": "2022-05-25T15:15:14.871632Z"
    },
    "papermill": {
     "duration": 28.465095,
     "end_time": "2022-05-25T15:15:14.875210",
     "exception": false,
     "start_time": "2022-05-25T15:14:46.410115",
     "status": "completed"
    },
    "tags": []
   },
   "outputs": [
    {
     "name": "stdout",
     "output_type": "stream",
     "text": [
      "80.04049671836937\n"
     ]
    }
   ],
   "source": [
    "rfc=RandomForestClassifier()\n",
    "RF_grid = {'n_estimators': [50 ,100, 150, 200,250,300], 'max_depth': [ 6,8, 10, 12,14]}\n",
    "#grid = GridSearchCV(rfc, params, cv=10, scoring='accuracy', return_train_score=False,verbose=1)\n",
    "grid = RandomizedSearchCV(estimator = rfc, param_distributions = params, cv = 5, scoring = 'accuracy', n_jobs = -1)\n",
    "grid_search = grid.fit(x_train, y_train)\n",
    "accuracy = grid_search.best_score_ *100\n",
    "print(accuracy)"
   ]
  },
  {
   "cell_type": "code",
   "execution_count": 66,
   "id": "d64d36bd",
   "metadata": {
    "execution": {
     "iopub.execute_input": "2022-05-25T15:15:15.093194Z",
     "iopub.status.busy": "2022-05-25T15:15:15.092904Z",
     "iopub.status.idle": "2022-05-25T15:15:15.096653Z",
     "shell.execute_reply": "2022-05-25T15:15:15.095779Z"
    },
    "papermill": {
     "duration": 0.116776,
     "end_time": "2022-05-25T15:15:15.098831",
     "exception": false,
     "start_time": "2022-05-25T15:15:14.982055",
     "status": "completed"
    },
    "tags": []
   },
   "outputs": [],
   "source": [
    "#grid = RandomizedSearchCV(estimator = rcla, param_distributions = params, cv = 5, scoring = 'accuracy', n_jobs = -1)\n",
    "best_param_rf = grid_search.best_params_"
   ]
  },
  {
   "cell_type": "code",
   "execution_count": 67,
   "id": "f9a19f13",
   "metadata": {
    "execution": {
     "iopub.execute_input": "2022-05-25T15:15:15.337790Z",
     "iopub.status.busy": "2022-05-25T15:15:15.337262Z",
     "iopub.status.idle": "2022-05-25T15:15:17.232369Z",
     "shell.execute_reply": "2022-05-25T15:15:17.231782Z"
    },
    "papermill": {
     "duration": 2.014345,
     "end_time": "2022-05-25T15:15:17.234247",
     "exception": false,
     "start_time": "2022-05-25T15:15:15.219902",
     "status": "completed"
    },
    "tags": []
   },
   "outputs": [
    {
     "data": {
      "text/plain": [
       "RandomForestClassifier(max_depth=14, n_estimators=200)"
      ]
     },
     "execution_count": 67,
     "metadata": {},
     "output_type": "execute_result"
    }
   ],
   "source": [
    "rcla = RandomForestClassifier(**best_param_rf)\n",
    "rcla.fit(x_train, y_train)"
   ]
  },
  {
   "cell_type": "code",
   "execution_count": 68,
   "id": "dd4665c6",
   "metadata": {
    "execution": {
     "iopub.execute_input": "2022-05-25T15:15:17.451634Z",
     "iopub.status.busy": "2022-05-25T15:15:17.450853Z",
     "iopub.status.idle": "2022-05-25T15:15:17.554333Z",
     "shell.execute_reply": "2022-05-25T15:15:17.553263Z"
    },
    "papermill": {
     "duration": 0.214109,
     "end_time": "2022-05-25T15:15:17.556723",
     "exception": false,
     "start_time": "2022-05-25T15:15:17.342614",
     "status": "completed"
    },
    "tags": []
   },
   "outputs": [
    {
     "name": "stdout",
     "output_type": "stream",
     "text": [
      "Accuracy using Random Forest on training data is 79.58596894767108 %\n"
     ]
    }
   ],
   "source": [
    "predicted = rcla.predict_proba(x_val)[:,1]\n",
    "train_score = accuracy_score(predicted.round(),y_val)*100\n",
    "print(\"Accuracy using Random Forest on training data is {} %\".format(train_score))"
   ]
  },
  {
   "cell_type": "code",
   "execution_count": 69,
   "id": "475d6e9a",
   "metadata": {
    "execution": {
     "iopub.execute_input": "2022-05-25T15:15:17.776832Z",
     "iopub.status.busy": "2022-05-25T15:15:17.776303Z",
     "iopub.status.idle": "2022-05-25T15:15:17.949386Z",
     "shell.execute_reply": "2022-05-25T15:15:17.948570Z"
    },
    "papermill": {
     "duration": 0.287042,
     "end_time": "2022-05-25T15:15:17.951712",
     "exception": false,
     "start_time": "2022-05-25T15:15:17.664670",
     "status": "completed"
    },
    "tags": []
   },
   "outputs": [],
   "source": [
    "predicted_val = rcla.predict(test_data[predictor_cols])\n",
    "predicted_val=predicted_val.round()"
   ]
  },
  {
   "cell_type": "markdown",
   "id": "7d2a1d50",
   "metadata": {
    "papermill": {
     "duration": 0.105754,
     "end_time": "2022-05-25T15:15:18.164846",
     "exception": false,
     "start_time": "2022-05-25T15:15:18.059092",
     "status": "completed"
    },
    "tags": []
   },
   "source": [
    "# XGBoost"
   ]
  },
  {
   "cell_type": "code",
   "execution_count": 70,
   "id": "bc2e371b",
   "metadata": {
    "execution": {
     "iopub.execute_input": "2022-05-25T15:15:18.378925Z",
     "iopub.status.busy": "2022-05-25T15:15:18.378616Z",
     "iopub.status.idle": "2022-05-25T15:15:18.382471Z",
     "shell.execute_reply": "2022-05-25T15:15:18.381825Z"
    },
    "papermill": {
     "duration": 0.113131,
     "end_time": "2022-05-25T15:15:18.384327",
     "exception": false,
     "start_time": "2022-05-25T15:15:18.271196",
     "status": "completed"
    },
    "tags": []
   },
   "outputs": [],
   "source": [
    "from xgboost import XGBClassifier"
   ]
  },
  {
   "cell_type": "code",
   "execution_count": 71,
   "id": "bcdf3159",
   "metadata": {
    "execution": {
     "iopub.execute_input": "2022-05-25T15:15:18.599680Z",
     "iopub.status.busy": "2022-05-25T15:15:18.599173Z",
     "iopub.status.idle": "2022-05-25T15:25:58.608166Z",
     "shell.execute_reply": "2022-05-25T15:25:58.606894Z"
    },
    "papermill": {
     "duration": 640.237531,
     "end_time": "2022-05-25T15:25:58.728498",
     "exception": false,
     "start_time": "2022-05-25T15:15:18.490967",
     "status": "completed"
    },
    "tags": []
   },
   "outputs": [
    {
     "name": "stdout",
     "output_type": "stream",
     "text": [
      "Fitting 10 folds for each of 42 candidates, totalling 420 fits\n",
      "80.14092863640123\n"
     ]
    }
   ],
   "source": [
    "xg=XGBClassifier()\n",
    "#grid = RandomizedSearchCV(estimator = xg, param_distributions = params, cv = 10, scoring = 'accuracy', n_jobs = -1)\n",
    "grid = GridSearchCV(rfc, params, cv=10, scoring='accuracy', return_train_score=False,verbose=1)\n",
    "grid_search = grid.fit(x_train, y_train)\n",
    "accuracy = grid_search.best_score_ *100\n",
    "print(accuracy)"
   ]
  },
  {
   "cell_type": "code",
   "execution_count": 72,
   "id": "4038351e",
   "metadata": {
    "execution": {
     "iopub.execute_input": "2022-05-25T15:25:58.948787Z",
     "iopub.status.busy": "2022-05-25T15:25:58.948484Z",
     "iopub.status.idle": "2022-05-25T15:25:58.952807Z",
     "shell.execute_reply": "2022-05-25T15:25:58.952223Z"
    },
    "papermill": {
     "duration": 0.116015,
     "end_time": "2022-05-25T15:25:58.954663",
     "exception": false,
     "start_time": "2022-05-25T15:25:58.838648",
     "status": "completed"
    },
    "tags": []
   },
   "outputs": [],
   "source": [
    "#grid = RandomizedSearchCV(estimator = rcla, param_distributions = params, cv = 5, scoring = 'accuracy', n_jobs = -1)\n",
    "best_param_rf = grid_search.best_params_"
   ]
  },
  {
   "cell_type": "code",
   "execution_count": 73,
   "id": "926640fa",
   "metadata": {
    "execution": {
     "iopub.execute_input": "2022-05-25T15:25:59.173774Z",
     "iopub.status.busy": "2022-05-25T15:25:59.173454Z",
     "iopub.status.idle": "2022-05-25T15:26:04.586893Z",
     "shell.execute_reply": "2022-05-25T15:26:04.586018Z"
    },
    "papermill": {
     "duration": 5.524966,
     "end_time": "2022-05-25T15:26:04.589453",
     "exception": false,
     "start_time": "2022-05-25T15:25:59.064487",
     "status": "completed"
    },
    "tags": []
   },
   "outputs": [
    {
     "data": {
      "text/plain": [
       "XGBClassifier(base_score=0.5, booster='gbtree', callbacks=None,\n",
       "              colsample_bylevel=1, colsample_bynode=1, colsample_bytree=1,\n",
       "              early_stopping_rounds=None, enable_categorical=False,\n",
       "              eval_metric=None, gamma=0, gpu_id=-1, grow_policy='depthwise',\n",
       "              importance_type=None, interaction_constraints='',\n",
       "              learning_rate=0.300000012, max_bin=256, max_cat_to_onehot=4,\n",
       "              max_delta_step=0, max_depth=14, max_leaves=0, min_child_weight=1,\n",
       "              missing=nan, monotone_constraints='()', n_estimators=300,\n",
       "              n_jobs=0, num_parallel_tree=1, predictor='auto', random_state=0,\n",
       "              reg_alpha=0, reg_lambda=1, ...)"
      ]
     },
     "execution_count": 73,
     "metadata": {},
     "output_type": "execute_result"
    }
   ],
   "source": [
    "xgc = XGBClassifier(**best_param_rf)\n",
    "xgc.fit(x_train, y_train)"
   ]
  },
  {
   "cell_type": "code",
   "execution_count": 74,
   "id": "de42e2d5",
   "metadata": {
    "execution": {
     "iopub.execute_input": "2022-05-25T15:26:04.809768Z",
     "iopub.status.busy": "2022-05-25T15:26:04.808820Z",
     "iopub.status.idle": "2022-05-25T15:26:04.842196Z",
     "shell.execute_reply": "2022-05-25T15:26:04.841189Z"
    },
    "papermill": {
     "duration": 0.146744,
     "end_time": "2022-05-25T15:26:04.844806",
     "exception": false,
     "start_time": "2022-05-25T15:26:04.698062",
     "status": "completed"
    },
    "tags": []
   },
   "outputs": [
    {
     "name": "stdout",
     "output_type": "stream",
     "text": [
      "Accuracy using Random Forest on training data is 80.67855089131685 %\n"
     ]
    }
   ],
   "source": [
    "predicted = xgc.predict_proba(x_val)[:,1]\n",
    "train_score = accuracy_score(predicted.round(),y_val)*100\n",
    "print(\"Accuracy using Random Forest on training data is {} %\".format(train_score))"
   ]
  },
  {
   "cell_type": "code",
   "execution_count": 75,
   "id": "9e648802",
   "metadata": {
    "execution": {
     "iopub.execute_input": "2022-05-25T15:26:05.070286Z",
     "iopub.status.busy": "2022-05-25T15:26:05.069985Z",
     "iopub.status.idle": "2022-05-25T15:26:05.113468Z",
     "shell.execute_reply": "2022-05-25T15:26:05.112768Z"
    },
    "papermill": {
     "duration": 0.157246,
     "end_time": "2022-05-25T15:26:05.115759",
     "exception": false,
     "start_time": "2022-05-25T15:26:04.958513",
     "status": "completed"
    },
    "tags": []
   },
   "outputs": [],
   "source": [
    "predicted_val = xgc.predict(test_data[predictor_cols])\n",
    "predicted_val=predicted_val.round()"
   ]
  },
  {
   "cell_type": "markdown",
   "id": "41a4e077",
   "metadata": {
    "papermill": {
     "duration": 0.108523,
     "end_time": "2022-05-25T15:26:05.370807",
     "exception": false,
     "start_time": "2022-05-25T15:26:05.262284",
     "status": "completed"
    },
    "tags": []
   },
   "source": [
    "# CatBoost Classifier"
   ]
  },
  {
   "cell_type": "code",
   "execution_count": 76,
   "id": "144c29b2",
   "metadata": {
    "execution": {
     "iopub.execute_input": "2022-05-25T15:26:05.588666Z",
     "iopub.status.busy": "2022-05-25T15:26:05.588412Z",
     "iopub.status.idle": "2022-05-25T15:26:09.445194Z",
     "shell.execute_reply": "2022-05-25T15:26:09.444299Z"
    },
    "papermill": {
     "duration": 3.968196,
     "end_time": "2022-05-25T15:26:09.447273",
     "exception": false,
     "start_time": "2022-05-25T15:26:05.479077",
     "status": "completed"
    },
    "tags": []
   },
   "outputs": [
    {
     "name": "stdout",
     "output_type": "stream",
     "text": [
      "Learning rate set to 0.023581\n",
      "0:\tlearn: 0.6811618\ttotal: 57.2ms\tremaining: 57.2s\n",
      "50:\tlearn: 0.4701715\ttotal: 237ms\tremaining: 4.42s\n",
      "100:\tlearn: 0.4224337\ttotal: 425ms\tremaining: 3.78s\n",
      "150:\tlearn: 0.4018511\ttotal: 614ms\tremaining: 3.45s\n",
      "200:\tlearn: 0.3890264\ttotal: 788ms\tremaining: 3.13s\n",
      "250:\tlearn: 0.3786758\ttotal: 974ms\tremaining: 2.9s\n",
      "300:\tlearn: 0.3696756\ttotal: 1.15s\tremaining: 2.67s\n",
      "350:\tlearn: 0.3619335\ttotal: 1.32s\tremaining: 2.45s\n",
      "400:\tlearn: 0.3548920\ttotal: 1.5s\tremaining: 2.24s\n",
      "450:\tlearn: 0.3476601\ttotal: 1.67s\tremaining: 2.04s\n",
      "500:\tlearn: 0.3396955\ttotal: 1.85s\tremaining: 1.85s\n",
      "550:\tlearn: 0.3322386\ttotal: 2.04s\tremaining: 1.66s\n",
      "600:\tlearn: 0.3253701\ttotal: 2.21s\tremaining: 1.47s\n",
      "650:\tlearn: 0.3185711\ttotal: 2.39s\tremaining: 1.28s\n",
      "700:\tlearn: 0.3123135\ttotal: 2.56s\tremaining: 1.09s\n",
      "750:\tlearn: 0.3067624\ttotal: 2.74s\tremaining: 910ms\n",
      "800:\tlearn: 0.3013377\ttotal: 2.92s\tremaining: 725ms\n",
      "850:\tlearn: 0.2958314\ttotal: 3.1s\tremaining: 543ms\n",
      "900:\tlearn: 0.2908665\ttotal: 3.28s\tremaining: 360ms\n",
      "950:\tlearn: 0.2858457\ttotal: 3.47s\tremaining: 179ms\n",
      "999:\tlearn: 0.2812269\ttotal: 3.63s\tremaining: 0us\n"
     ]
    },
    {
     "data": {
      "text/plain": [
       "<catboost.core.CatBoostClassifier at 0x7f9bb59a3bd0>"
      ]
     },
     "execution_count": 76,
     "metadata": {},
     "output_type": "execute_result"
    }
   ],
   "source": [
    "cat = CatBoostClassifier()\n",
    "cat.fit(x_train, y_train, verbose = 50, early_stopping_rounds = 150)"
   ]
  },
  {
   "cell_type": "code",
   "execution_count": 77,
   "id": "17a9f497",
   "metadata": {
    "execution": {
     "iopub.execute_input": "2022-05-25T15:26:09.675246Z",
     "iopub.status.busy": "2022-05-25T15:26:09.674377Z",
     "iopub.status.idle": "2022-05-25T15:26:09.693894Z",
     "shell.execute_reply": "2022-05-25T15:26:09.693172Z"
    },
    "papermill": {
     "duration": 0.136055,
     "end_time": "2022-05-25T15:26:09.695856",
     "exception": false,
     "start_time": "2022-05-25T15:26:09.559801",
     "status": "completed"
    },
    "tags": []
   },
   "outputs": [
    {
     "data": {
      "text/plain": [
       "array([0, 0, 0, ..., 1, 0, 0])"
      ]
     },
     "execution_count": 77,
     "metadata": {},
     "output_type": "execute_result"
    }
   ],
   "source": [
    "predicted= cat.predict(x_train)\n",
    "predicted"
   ]
  },
  {
   "cell_type": "code",
   "execution_count": 78,
   "id": "c37a6430",
   "metadata": {
    "execution": {
     "iopub.execute_input": "2022-05-25T15:26:09.922994Z",
     "iopub.status.busy": "2022-05-25T15:26:09.922683Z",
     "iopub.status.idle": "2022-05-25T15:26:09.941457Z",
     "shell.execute_reply": "2022-05-25T15:26:09.940368Z"
    },
    "papermill": {
     "duration": 0.13501,
     "end_time": "2022-05-25T15:26:09.943746",
     "exception": false,
     "start_time": "2022-05-25T15:26:09.808736",
     "status": "completed"
    },
    "tags": []
   },
   "outputs": [
    {
     "name": "stdout",
     "output_type": "stream",
     "text": [
      "Accuracy using CatBoost on training data is 88.40954846131723 %\n"
     ]
    }
   ],
   "source": [
    "predicted= cat.predict(x_train)\n",
    "predicted=predicted.astype(bool)\n",
    "train_score = accuracy_score(predicted, y_train)*100\n",
    "print(\"Accuracy using CatBoost on training data is {} %\".format(train_score))"
   ]
  },
  {
   "cell_type": "code",
   "execution_count": 79,
   "id": "a0423587",
   "metadata": {
    "execution": {
     "iopub.execute_input": "2022-05-25T15:26:10.174688Z",
     "iopub.status.busy": "2022-05-25T15:26:10.173776Z",
     "iopub.status.idle": "2022-05-25T15:26:10.186547Z",
     "shell.execute_reply": "2022-05-25T15:26:10.185749Z"
    },
    "papermill": {
     "duration": 0.131066,
     "end_time": "2022-05-25T15:26:10.189259",
     "exception": false,
     "start_time": "2022-05-25T15:26:10.058193",
     "status": "completed"
    },
    "tags": []
   },
   "outputs": [
    {
     "name": "stdout",
     "output_type": "stream",
     "text": [
      "Accuracy using CatBoost on training data is 80.73605520414031 %\n"
     ]
    }
   ],
   "source": [
    "predicted= cat.predict(x_val)\n",
    "predicted=predicted.astype(bool)\n",
    "train_score = accuracy_score(predicted, y_val)*100\n",
    "print(\"Accuracy using CatBoost on training data is {} %\".format(train_score))"
   ]
  },
  {
   "cell_type": "code",
   "execution_count": 80,
   "id": "9f15852d",
   "metadata": {
    "execution": {
     "iopub.execute_input": "2022-05-25T15:26:10.419572Z",
     "iopub.status.busy": "2022-05-25T15:26:10.419277Z",
     "iopub.status.idle": "2022-05-25T15:26:10.433886Z",
     "shell.execute_reply": "2022-05-25T15:26:10.432789Z"
    },
    "papermill": {
     "duration": 0.132519,
     "end_time": "2022-05-25T15:26:10.436325",
     "exception": false,
     "start_time": "2022-05-25T15:26:10.303806",
     "status": "completed"
    },
    "tags": []
   },
   "outputs": [],
   "source": [
    "predicted_val2 = cat.predict(test_data[predictor_cols])\n",
    "predicted_val2=predicted_val2.astype(bool)"
   ]
  },
  {
   "cell_type": "code",
   "execution_count": 81,
   "id": "b7ffd76c",
   "metadata": {
    "execution": {
     "iopub.execute_input": "2022-05-25T15:26:10.670295Z",
     "iopub.status.busy": "2022-05-25T15:26:10.669639Z",
     "iopub.status.idle": "2022-05-25T15:26:10.677155Z",
     "shell.execute_reply": "2022-05-25T15:26:10.676494Z"
    },
    "papermill": {
     "duration": 0.126551,
     "end_time": "2022-05-25T15:26:10.679134",
     "exception": false,
     "start_time": "2022-05-25T15:26:10.552583",
     "status": "completed"
    },
    "tags": []
   },
   "outputs": [],
   "source": [
    "my_submission = pd.DataFrame({'PassengerId': test['PassengerId'], 'Transported': predicted_val})\n",
    "my_submission['Transported']=my_submission['Transported'].astype(bool)"
   ]
  },
  {
   "cell_type": "code",
   "execution_count": 82,
   "id": "beda1ff5",
   "metadata": {
    "execution": {
     "iopub.execute_input": "2022-05-25T15:26:10.911281Z",
     "iopub.status.busy": "2022-05-25T15:26:10.910600Z",
     "iopub.status.idle": "2022-05-25T15:26:10.928514Z",
     "shell.execute_reply": "2022-05-25T15:26:10.927742Z"
    },
    "papermill": {
     "duration": 0.137629,
     "end_time": "2022-05-25T15:26:10.930765",
     "exception": false,
     "start_time": "2022-05-25T15:26:10.793136",
     "status": "completed"
    },
    "tags": []
   },
   "outputs": [],
   "source": [
    "my_submission.to_csv('submission.csv', index=False)"
   ]
  },
  {
   "cell_type": "code",
   "execution_count": null,
   "id": "6f4a15ae",
   "metadata": {
    "papermill": {
     "duration": 0.11662,
     "end_time": "2022-05-25T15:26:11.160530",
     "exception": false,
     "start_time": "2022-05-25T15:26:11.043910",
     "status": "completed"
    },
    "tags": []
   },
   "outputs": [],
   "source": []
  }
 ],
 "metadata": {
  "kernelspec": {
   "display_name": "Python 3",
   "language": "python",
   "name": "python3"
  },
  "language_info": {
   "codemirror_mode": {
    "name": "ipython",
    "version": 3
   },
   "file_extension": ".py",
   "mimetype": "text/x-python",
   "name": "python",
   "nbconvert_exporter": "python",
   "pygments_lexer": "ipython3",
   "version": "3.7.12"
  },
  "papermill": {
   "default_parameters": {},
   "duration": 875.988458,
   "end_time": "2022-05-25T15:26:13.902757",
   "environment_variables": {},
   "exception": null,
   "input_path": "__notebook__.ipynb",
   "output_path": "__notebook__.ipynb",
   "parameters": {},
   "start_time": "2022-05-25T15:11:37.914299",
   "version": "2.3.4"
  }
 },
 "nbformat": 4,
 "nbformat_minor": 5
}
